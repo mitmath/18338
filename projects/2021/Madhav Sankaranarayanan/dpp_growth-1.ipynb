{
 "cells": [
  {
   "cell_type": "code",
   "execution_count": null,
   "id": "7e188172",
   "metadata": {},
   "outputs": [],
   "source": [
    "using Plots\n",
    "using Interact\n",
    "using Combinatorics\n",
    "using StatsBase\n",
    "using LinearAlgebra"
   ]
  },
  {
   "cell_type": "code",
   "execution_count": null,
   "id": "2720f6e0",
   "metadata": {},
   "outputs": [],
   "source": [
    "function possible_squares(G)\n",
    "    M, N = size(G)\n",
    "    squares = Tuple{Int,Int}[]  \n",
    "    \n",
    "    for ii = 1:M\n",
    "        for jj = 1:N\n",
    "            if G[ii, jj] == 0\n",
    "                if  (ii == 1 && jj > 1 && G[ii, jj-1] == 1) ||\n",
    "                    (jj == 1 && ii > 1 && G[ii-1, jj] == 1) ||\n",
    "                    (ii > 1 && jj > 1 && G[ii-1, jj] == 1 && G[ii, jj-1] == 1)\n",
    "                    push!(squares, (ii, jj))\n",
    "                end\n",
    "            end\n",
    "        end\n",
    "    end\n",
    "    \n",
    "    return squares\n",
    "end"
   ]
  },
  {
   "cell_type": "code",
   "execution_count": null,
   "id": "3db2d244",
   "metadata": {},
   "outputs": [],
   "source": [
    "const possible = 0.4\n",
    "const successful = 0.6\n",
    "\n",
    "function calculate_random_growth(M, N, q, T=5000)\n",
    "\n",
    "    G = zeros(M, N)\n",
    "\n",
    "    all_heatmaps = typeof(G)[]\n",
    "\n",
    "    # initial condition: bottom left square on\n",
    "    G[1, 1] = true  \n",
    "    push!(all_heatmaps, copy(G))\n",
    "\n",
    "    for t = 1:T\n",
    "        squares = possible_squares(G)\n",
    "\t\tdist = Array{Float64}(undef,length(squares))\n",
    "\t\tindex = reverse(1:length(squares))\n",
    "\t\ti = 1\n",
    "        for square in squares\n",
    "\t\t\tdist[i] = square[1]+square[2]\n",
    "\t\t\ti += 1\n",
    "\t\tend\t\n",
    "\t\tsorted =  sort(index,by=x->dist[x])\n",
    "        # highlight the possible squares:\n",
    "        for square in squares\n",
    "            G[square[1], square[2]] = possible\n",
    "        end\n",
    "\n",
    "        push!(all_heatmaps, copy(G))\n",
    "\n",
    "\t\ti = 1\n",
    "        # choose squares to actually grow and highlight them:\n",
    "        \tfor square in squares\n",
    "            \tif rand() > q   # grows with probability p = 1 - q\n",
    "                \tG[square[1], square[2]] = successful\n",
    "           \t   end\n",
    "        \tend\n",
    "\n",
    "\t\t#choose a single square\n",
    "\t\t\t#square = sample(squares,Weights)\n",
    "\t\t\t#G[square[1],square[2]] = successful\n",
    "\n",
    "        push!(all_heatmaps, copy(G))\n",
    "        \n",
    "        # finish growth:\n",
    "        for i in 1:M\n",
    "            for j in 1:N\n",
    "                if G[i, j] == successful\n",
    "                    G[i, j] = 1    # complete growth\n",
    "                    \n",
    "                elseif G[i, j] == possible\n",
    "                    G[i, j] = 0    # square dies if growth doesn't happen\n",
    "                end\n",
    "            end\n",
    "        end\n",
    "        \n",
    "        push!(all_heatmaps, copy(G))\n",
    "\n",
    "        # vectorized version:\n",
    "#         G[G .== 0.5] .= 1\n",
    "#         G[G .== 0.25] .= 0\n",
    "\n",
    "    end\n",
    "\n",
    "    return all_heatmaps\n",
    "end"
   ]
  },
  {
   "cell_type": "code",
   "execution_count": null,
   "id": "58bae428",
   "metadata": {},
   "outputs": [],
   "source": [
    "function visualize_random_growth(M, N, q, T=100)\n",
    "    \n",
    "    all_heatmaps = calculate_random_growth(M, N, q, T)\n",
    "\n",
    "\ti = length(all_heatmaps)\n",
    "        \n",
    "        t = (i - 1) ÷ 3 \n",
    "        \n",
    "        # 3 slider movements for each time step\n",
    "        \n",
    "        p = heatmap(all_heatmaps[i], aspect_ratio=1, colorbar=false, clims=(0, 1), \n",
    "                    xlims = (0, N), ylims=(0, M))\n",
    "        \n",
    "        # p = contour(all_heatmaps[i], levels=[1])\n",
    "        \n",
    "        plot!(title=\"t = $t\")\n",
    "        \n",
    "        range = t .* (0:0.001:(1-q))        \n",
    "        \n",
    "        p\n",
    "\n",
    "\t\n",
    "    \n",
    "end"
   ]
  },
  {
   "cell_type": "code",
   "execution_count": null,
   "id": "372b8cbf",
   "metadata": {},
   "outputs": [],
   "source": [
    "visualize_random_growth(500, 500, 0.5, 1000)\n",
    "visualize_random_growth(500, 500, 0.01, 1000)"
   ]
  },
  {
   "cell_type": "code",
   "execution_count": 12,
   "id": "9d8bf8e8",
   "metadata": {},
   "outputs": [],
   "source": [
    "#Now, let us make the structure that of a DPP"
   ]
  },
  {
   "cell_type": "code",
   "execution_count": 31,
   "id": "5251311e",
   "metadata": {},
   "outputs": [
    {
     "data": {
      "text/plain": [
       "dpp_sample (generic function with 1 method)"
      ]
     },
     "execution_count": 31,
     "metadata": {},
     "output_type": "execute_result"
    }
   ],
   "source": [
    "function dpp_sample(n,L)\n",
    "\tprob = Array{Float64}(undef,length([i for i in combinations(1:n)]))\n",
    "\tsubset = Array{Vector{Int64}}(undef,length([i for i in combinations(1:n)]))\n",
    "\tfor j in  1:length([i for i in combinations(1:n)])\n",
    "\t\tsubset[j] = [i for i in combinations(1:n)][j]\n",
    "\t\tprob[j] = det(L[[i for i in combinations(1:n)][j],[i for i in combinations(1:n)][j]])/det(I+L)\n",
    "\tend\n",
    "\tsubset = append!(subset,Float64[])\n",
    "\tprob = append!(prob,1/det(I+L))\n",
    "\treturn sample(subset,Weights(prob))\n",
    "end\t\n"
   ]
  },
  {
   "cell_type": "code",
   "execution_count": 32,
   "id": "9b89ec88",
   "metadata": {},
   "outputs": [
    {
     "data": {
      "text/plain": [
       "calculate_random_growth_dpp (generic function with 2 methods)"
      ]
     },
     "execution_count": 32,
     "metadata": {},
     "output_type": "execute_result"
    }
   ],
   "source": [
    "function calculate_random_growth_dpp(M, N, T=5000)\n",
    "\n",
    "\t# input L matrix as needed\n",
    "\tU = randn(max(M,N),max(M,N))\n",
    "\tL = U*U'\n",
    "    G = zeros(M, N)\n",
    "\n",
    "    all_heatmaps = typeof(G)[]\n",
    "\n",
    "    # initial condition: bottom left square on\n",
    "    G[1, 1] = true  \n",
    "    push!(all_heatmaps, copy(G))\n",
    "\n",
    "    for t = 1:T\n",
    "        squares = possible_squares(G)\n",
    "        \n",
    "        # highlight the possible squares:\n",
    "        for square in squares\n",
    "            G[square[1], square[2]] = possible\n",
    "        end\n",
    "\n",
    "        push!(all_heatmaps, copy(G))\n",
    "\n",
    "\n",
    "        # choose squares to actually grow and highlight them:\n",
    "        n = length(squares)\n",
    "\t\tfor square in squares[dpp_sample(n,L)]\n",
    "\t\t\tG[square[1], square[2]] = successful\n",
    "\t\tend\n",
    "\n",
    "        push!(all_heatmaps, copy(G))\n",
    "        \n",
    "        # finish growth:\n",
    "        for i in 1:M\n",
    "            for j in 1:N\n",
    "                if G[i, j] == successful\n",
    "                    G[i, j] = 1    # complete growth\n",
    "                    \n",
    "                elseif G[i, j] == possible\n",
    "                    G[i, j] = 0    # square dies if growth doesn't happen\n",
    "                end\n",
    "            end\n",
    "        end\n",
    "        \n",
    "        push!(all_heatmaps, copy(G))\n",
    "\n",
    "        # vectorized version:\n",
    "#         G[G .== 0.5] .= 1\n",
    "#         G[G .== 0.25] .= 0\n",
    "\n",
    "    end\n",
    "\n",
    "    return all_heatmaps\n",
    "end"
   ]
  },
  {
   "cell_type": "code",
   "execution_count": 33,
   "id": "56ad9088",
   "metadata": {},
   "outputs": [
    {
     "data": {
      "text/plain": [
       "visualize_random_growth_dpp (generic function with 2 methods)"
      ]
     },
     "execution_count": 33,
     "metadata": {},
     "output_type": "execute_result"
    }
   ],
   "source": [
    "function visualize_random_growth_dpp(M, N, T=100)\n",
    "\n",
    "    all_heatmaps = calculate_random_growth_dpp(M, N, T)\n",
    "\n",
    "\ti = length(all_heatmaps)\n",
    "        \n",
    "        t = (i - 1) ÷ 3 \n",
    "        \n",
    "        # 3 slider movements for each time step\n",
    "        \n",
    "        p = heatmap(all_heatmaps[i], aspect_ratio=1, colorbar=false, clims=(0, 1), \n",
    "                    xlims = (0, N), ylims=(0, M))\n",
    "        \n",
    "        # p = contour(all_heatmaps[i], levels=[1])\n",
    "        \n",
    "        plot!(title=\"t = $t\")\n",
    "        \n",
    "        range = t .* (0:0.001:1)        \n",
    "        \n",
    "        p\n",
    "\n",
    "\t\n",
    "    \n",
    "end\n"
   ]
  }
 ],
 "metadata": {
  "kernelspec": {
   "display_name": "Julia 1.6.2",
   "language": "julia",
   "name": "julia-1.6"
  },
  "language_info": {
   "file_extension": ".jl",
   "mimetype": "application/julia",
   "name": "julia",
   "version": "1.6.2"
  }
 },
 "nbformat": 4,
 "nbformat_minor": 5
}
