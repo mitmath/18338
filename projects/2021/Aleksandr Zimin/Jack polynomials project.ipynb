{
 "cells": [
  {
   "cell_type": "markdown",
   "id": "5e13ab2d",
   "metadata": {},
   "source": [
    "To work with partitions, we will use `AbstractAbgebra` module. Define a shortcut `AbstractPartition = AbstractAlgebra.Generic.Partition{Int64}`"
   ]
  },
  {
   "cell_type": "code",
   "execution_count": 1,
   "id": "c45e79e1",
   "metadata": {},
   "outputs": [
    {
     "data": {
      "text/plain": []
     },
     "execution_count": 1,
     "metadata": {},
     "output_type": "execute_result"
    }
   ],
   "source": [
    "using AbstractAlgebra\n",
    "import Combinatorics\n",
    "AbstractPartition = AbstractAlgebra.Generic.Partition{Int64}\n",
    "const empty_partition = Partition(Int[])"
   ]
  },
  {
   "cell_type": "markdown",
   "id": "7fdfc379",
   "metadata": {},
   "source": [
    "The goal is to compute the translation matrix\n",
    "\n",
    "$$\n",
    "J_\\lambda^{(\\alpha)} = \\sum_{\\mu \\vdash n}\\theta_\\lambda(\\mu) p_\\mu,\n",
    "$$\n",
    "\n",
    "where $J_\\lambda^{(\\alpha)}$ are Jack polynomials, and $p_\\mu$ are the power sum symmetric polynomials.\n",
    "\n",
    "The first approach is based on the formula from the paper `Lassalle, Michel. \"Jack polynomials and free cumulants.\" Advances in Mathematics 222.6 (2009): 2227-2269.` First, define\n",
    "\n",
    "$$\n",
    "c_i(\\lambda) = \\frac{1}{\\alpha\\lambda_i + l(\\lambda) - i + 2} \\prod_{\\substack{j=1\\\\j\\ne i}} \\frac{\\alpha(\\lambda_i - \\lambda_j) + j - i + 1}{\\alpha(\\lambda_i - \\lambda_j) + j - i}\n",
    "$$\n",
    "\n",
    "Next, the reccurent relation on $\\theta_\\lambda(\\mu)$ is the following:\n",
    "\n",
    "$$\n",
    "\\begin{align*}\n",
    "\\theta_\\lambda(\\mu_{\\downarrow(1)}) &= \\sum_{i = 1}^{l(\\lambda) + 1}c_i(\\lambda)\\theta_{\\lambda^{(i)}}(\\mu),\\\\\n",
    "\\sum_{r \\ge 1}(m_r(\\mu) + 1)\\theta_\\lambda(\\mu_{\\downarrow(r + 1)} &= \\sum_{i = 1}^{l(\\lambda)+ 1}c_i(\\lambda)(\\lambda_i - (i - 1) / \\alpha)\\theta_{\\lambda^{(i)}}(\\mu)\n",
    "\\end{align*}\n",
    "$$\n",
    "\n",
    "This system totally determines all $\\theta$ (see Theorem 3.1). Also, Theorem 3.1 provides an efficient reccurence relation on $\\theta$, which I implement next.\n",
    "\n",
    "The struct PartitionLambda is defined for each partition $\\lambda$. It contains precomputed values of the polynomials \n",
    "$$\n",
    "\\begin{align*}\n",
    "&\\tilde{c}_i(\\lambda) \\colon = c_i(\\lambda) \\cdot \\mathrm{mult}(\\lambda), \\\\\n",
    "&\\mathrm{mult}(\\lambda) := \\prod_{i = 1}^{l(\\lambda) + 1}(\\alpha\\lambda_i + l(\\lambda) - i + 2) \\cdot \\prod_{\\substack{i, j=1\\\\j\\ne i}}^{l(\\lambda) + 1}(\\alpha(\\lambda_i - \\lambda_j) + j - i)\n",
    "\\end{align*}\n",
    "$$ \n",
    "\n",
    "and the struct PartitionRho is defined for each partition $\\rho$ and contains precomputed values $m_r(\\rho)$ and the vector of partitions $\\rho|_{\\downarrow(r)}$, $1 \\le r \\le |\\lambda|$ (in the code, it is denote by `downᵣ`)"
   ]
  },
  {
   "cell_type": "code",
   "execution_count": 2,
   "id": "42620764",
   "metadata": {},
   "outputs": [
    {
     "data": {
      "text/plain": [
       "PartitionRho"
      ]
     },
     "execution_count": 2,
     "metadata": {},
     "output_type": "execute_result"
    }
   ],
   "source": [
    "struct PartitionLambda{GenericPolynomial}\n",
    "    partition::AbstractPartition\n",
    "    c::Vector{GenericPolynomial}\n",
    "    mult::GenericPolynomial\n",
    "end\n",
    "\n",
    "function PartitionLambda(λ::AbstractPartition, α::GenericPolynomial) where GenericPolynomial\n",
    "    c = fill(one(α), length(λ) + 1)\n",
    "    for i = 1:(length(λ) + 1)\n",
    "        for p = 1:(length(λ) + 1)\n",
    "            λₚ = (p <= length(λ) ? λ.part[p] : 0)\n",
    "            if p != i\n",
    "                c[i] *= (α * λₚ + length(λ) - p + 2)\n",
    "            end            \n",
    "            for j = 1:(length(λ) + 1)\n",
    "                if j == p\n",
    "                    continue\n",
    "                end\n",
    "                λⱼ = (j <= length(λ) ? λ.part[j] : 0)\n",
    "                δ = (i == p ? 1 : 0)\n",
    "                c[i] *= α * (λₚ - λⱼ) + j - p + δ\n",
    "            end\n",
    "        end\n",
    "    end\n",
    "\n",
    "    mult = one(α)\n",
    "    for p = 1:(length(λ) + 1)\n",
    "        λₚ = (p <= length(λ) ? λ.part[p] : 0)\n",
    "        mult *= (α * λₚ + length(λ) - p + 2)\n",
    "        for j = 1:(length(λ) + 1)\n",
    "            if j == p\n",
    "                continue\n",
    "            end\n",
    "            λⱼ = (j <= length(λ) ? λ.part[j] : 0)\n",
    "            mult *= α * (λₚ - λⱼ) + j - p\n",
    "        end\n",
    "    end\n",
    "    PartitionLambda{GenericPolynomial}(λ, c, mult)\n",
    "end\n",
    "\n",
    "\n",
    "struct PartitionRho\n",
    "    partition::AbstractPartition\n",
    "    mᵣ::Vector{Int}\n",
    "    downᵣ::Vector{AbstractPartition}\n",
    "end\n",
    "\n",
    "function PartitionRho(ρ::AbstractPartition)\n",
    "    mᵣ = fill(0, ρ.n)\n",
    "    downᵣ = [empty_partition for ~ = 1:ρ.n]\n",
    "    for i = length(ρ):-1:1\n",
    "        mᵣ[ρ.part[i]] += 1\n",
    "        if !(i == length(ρ) || ρ[i] > ρ[i + 1])\n",
    "            continue\n",
    "        end\n",
    "        if ρ.part[i] == 1\n",
    "            downᵣ[1] = Partition(ρ.part[begin:end-1])\n",
    "        else\n",
    "            downᵣ[ρ.part[i]] = deepcopy(ρ)\n",
    "            downᵣ[ρ.part[i]].part[i] -= 1\n",
    "        end\n",
    "    end\n",
    "    return PartitionRho(ρ, mᵣ, downᵣ)\n",
    "end"
   ]
  },
  {
   "cell_type": "code",
   "execution_count": 3,
   "id": "53d18593",
   "metadata": {},
   "outputs": [
    {
     "data": {
      "text/plain": [
       "generate_θ_matrix (generic function with 1 method)"
      ]
     },
     "execution_count": 3,
     "metadata": {},
     "output_type": "execute_result"
    }
   ],
   "source": [
    "using ProgressMeter\n",
    "\n",
    "function up(λ::AbstractPartition, i::Int)\n",
    "    if i == 1 || λ.part[i] < λ.part[i - 1]\n",
    "        λⁱ = deepcopy(λ)\n",
    "        λⁱ.part[i] += 1\n",
    "        return λⁱ\n",
    "    end\n",
    "    return empty_partition\n",
    "end    \n",
    "\n",
    "\n",
    "function generate_θ_matrix(N::Int, α::GenericPolynomial) where GenericPolynomial\n",
    "    θ = Dict()\n",
    "    θ[(Partition([1]), Partition([1]))] = one(α)\n",
    "    \n",
    "    function get_θ(λ, ρ)\n",
    "        if λ != Partition(Int[]) && ρ != Partition(Int[])\n",
    "            return θ[(λ, ρ)]\n",
    "        end\n",
    "        return zero(α)\n",
    "    end  \n",
    "    \n",
    "    buffer = one(α) \n",
    "\n",
    "    @showprogress for n = 2:N\n",
    "        partitions = Combinatorics.integer_partitions(n)\n",
    "        partitions = map(\n",
    "            x -> Partition(x),\n",
    "            sort!(partitions, by=(x -> (length(x), x[end])))\n",
    "        )\n",
    "        ρs_data = Dict(\n",
    "            ρ => PartitionRho(ρ) for ρ in partitions\n",
    "        )\n",
    "        for λ⁺ in partitions\n",
    "            if λ⁺.part[end] == 1\n",
    "                λ = Partition(λ⁺.part[begin:end-1])\n",
    "            else\n",
    "                λ = copy(λ⁺.part)\n",
    "                λ[end] -= 1\n",
    "                λ = Partition(λ)\n",
    "            end\n",
    "            λ_data = PartitionLambda(λ, α)\n",
    "\n",
    "            for ρ in partitions\n",
    "                if (λ⁺, ρ) in keys(θ)\n",
    "                    continue\n",
    "                end\n",
    "                ρ_data = ρs_data[ρ]\n",
    "\n",
    "                if λ⁺.part[end] == 1\n",
    "                    rhs = get_θ(λ, ρ_data.downᵣ[1]) * λ_data.mult\n",
    "                    for i = 1:length(λ)\n",
    "                        addmul!(rhs, -λ_data.c[i], get_θ(up(λ, i), ρ), buffer)\n",
    "                    end\n",
    "                    θ[(λ⁺, ρ)] = div(rhs, λ_data.c[length(λ) + 1])\n",
    "                    continue\n",
    "                end\n",
    "\n",
    "                rhs = [zero(α), zero(α)]\n",
    "\n",
    "                addeq!(rhs[1], get_θ(λ, ρ_data.downᵣ[1]) * λ_data.mult)\n",
    "                for r = 1:(n - 1)\n",
    "                    addmul!(\n",
    "                        rhs[2],\n",
    "                        r * (ρ_data.mᵣ[r] + 1) * α * get_θ(λ, ρ_data.downᵣ[r + 1]),\n",
    "                        λ_data.mult, buffer\n",
    "                    )\n",
    "                end\n",
    "\n",
    "                for i = 1:(length(λ) - 1)\n",
    "                    term = λ_data.c[i] * get_θ(up(λ, i), ρ)\n",
    "                    addeq!(rhs[1], -term)\n",
    "                    addmul!(rhs[2], -term, (α * λ.part[i] - (i - 1)), buffer)\n",
    "                end\n",
    "                θ[λ⁺, ρ] = div(\n",
    "                    rhs[1] * length(λ) + rhs[2],\n",
    "                    (α * λ.part[end] + 1) * λ_data.c[length(λ)]\n",
    "                )\n",
    "\n",
    "                λ₁ = deepcopy(λ)\n",
    "                push!(λ₁.part, 1)\n",
    "                θ[λ₁, ρ] = div(\n",
    "                    rhs[1] * (α * λ.part[end] - (length(λ) - 1)) - rhs[2],\n",
    "                    (α * λ.part[end] + 1) * λ_data.c[length(λ) + 1]\n",
    "                )\n",
    "            end\n",
    "        end\n",
    "    end\n",
    "    return θ\n",
    "end"
   ]
  },
  {
   "cell_type": "code",
   "execution_count": 4,
   "id": "0f89bf11",
   "metadata": {},
   "outputs": [
    {
     "name": "stdout",
     "output_type": "stream",
     "text": [
      "\n",
      "Welcome to Nemo version 0.27.2\n",
      "\n",
      "Nemo comes with absolutely no warranty whatsoever\n",
      "\n"
     ]
    },
    {
     "name": "stderr",
     "output_type": "stream",
     "text": [
      "\u001b[32mProgress: 100%|█████████████████████████████████████████| Time: 0:03:19\u001b[39m\n"
     ]
    },
    {
     "data": {
      "text/plain": [
       "Dict{Any, Any} with 995073 entries:\n",
       "  (8₁7₁, 7₁2₄)           => 75600*α^10 - 719460*α^9 + 19110*α^8 - 306390*α^7 - …\n",
       "  (6₂3₁1₃, 14₁3₁1₁)      => -518400*α^12 + 6212160*α^11 - 31904352*α^10 + 72347…\n",
       "  (6₁4₁3₁1₂, 6₁5₁3₁1₁)   => -2880*α^10 + 18336*α^9 - 67080*α^8 + 202352*α^7 - 2…\n",
       "  (6₁3₁2₄1₃, 6₂4₁2₂)     => 92160*α^11 - 658080*α^10 + 6092640*α^9 - 32120280*α…\n",
       "  (15₁2₁1₃, 12₁4₁2₂)     => 87178291200*α^14 - 348713164800*α^13 + 326918592000…\n",
       "  (15₁2₂1₁, 8₁4₂1₄)      => -45729684000*α^12 + 158334976800*α^11 - 80140460400…\n",
       "  (10₁4₁3₁2₁1₁, 14₁1₆)   => -2177280*α^12 + 146813760*α^11 - 1072519488*α^10 + …\n",
       "  (5₁4₂3₁2₁1₂, 3₁2₅1₇)   => 20358*α^7 - 304176*α^6 + 1585968*α^5 - 4187268*α^4 …\n",
       "  (4₃3₂, 10₁2₂1₄)        => 121824*α^9 - 2893968*α^8 + 15127992*α^7 - 36806940*…\n",
       "  (7₁6₁, 5₂1₃)           => 72576*α^8 + 38880*α^7 + 100080*α^6 - 21600*α^5 + 36…\n",
       "  (9₁8₁2₁, 10₁4₁1₅)      => -577051776*α^11 + 1355393088*α^10 - 889676784*α^9 +…\n",
       "  (8₁4₂1₄, 6₁4₁3₁1₇)     => 322560*α^10 - 3414144*α^9 + 23637504*α^8 - 87717552…\n",
       "  (4₁3₄1₄, 4₁3₁2₅1₃)     => 88272*α^8 - 1505688*α^7 + 9694896*α^6 - 35277912*α^…\n",
       "  (5₁2₃1₉, 3₃2₂1₇)       => 6048*α^6 - 827352*α^5 + 19548504*α^4 - 146316564*α^…\n",
       "  (9₁8₁3₁, 4₁2₄1₈)       => 20933640*α^7 - 38523060*α^6 + 26116425*α^5 - 930933…\n",
       "  (7₁3₁2₃1₃, 7₁5₁3₁2₁1₂) => 51840*α^11 - 1370304*α^10 + 15224832*α^9 - 87791328…\n",
       "  (9₁5₂, 3₁2₅1₆)         => 5065200*α^7 - 8968536*α^6 + 7123200*α^5 - 3115080*α…\n",
       "  (8₁5₁3₁1₁, 7₁5₁2₂1₁)   => -660960*α^11 + 4285944*α^10 - 7912656*α^9 + 9217872…\n",
       "  (6₁1₁₂, 8₁3₁2₂1₃)      => 399168000*α^5 - 2395008000*α^4 + 8133048000*α^3 - 8…\n",
       "  (8₁2₁1₁₀, 7₁4₁3₁2₁1₄)  => -2258928000*α^7 + 19187280000*α^6 - 49986720000*α^5…\n",
       "  (3₄2₁1₃, 7₁3₁2₂1₃)     => 2304*α^8 - 76224*α^7 + 752448*α^6 - 4613904*α^5 + 1…\n",
       "  (6₂5₁1₂, 4₁3₃2₂1₂)     => 144000*α^11 - 3436800*α^10 + 17980800*α^9 - 3623529…\n",
       "  (8₁6₂, 4₂3₃2₁1₁)       => 36288000*α^13 - 174960000*α^12 + 383708160*α^11 - 2…\n",
       "  (6₁3₂2₁1₆, 5₂2₃1₄)     => -1174680*α^8 + 21815244*α^7 - 127117332*α^6 + 35999…\n",
       "  (8₂1₃, 5₁3₃2₁1₃)       => 6021120*α^11 - 54082560*α^10 + 255978240*α^9 - 3518…\n",
       "  ⋮                      => ⋮"
      ]
     },
     "execution_count": 4,
     "metadata": {},
     "output_type": "execute_result"
    }
   ],
   "source": [
    "import Nemo\n",
    "R, α = Nemo.PolynomialRing(Nemo.QQ, \"α\")\n",
    "θ = generate_θ_matrix(20, α)"
   ]
  },
  {
   "cell_type": "markdown",
   "id": "6f3b3ead",
   "metadata": {},
   "source": [
    "The second approach is based on the paper `Haglund, James, and Andrew Timothy Wilson. \"Macdonald polynomials and chromatic quasisymmetric functions.\" arXiv preprint arXiv:1701.05622 (2017).` The formula is the following (see Corollary 4.3.1):\n",
    "\n",
    "$$\n",
    "J_{\\mu'}^{(\\alpha)} = \\sum_{H \\subset G_\\mu^+}(-1)^{|H|} \\prod_{\\{u, v\\} \\in H \\backslash G_\\mu} -\\mathrm{hook}_\\mu^{(\\alpha)}(u)\n",
    "$$\n",
    "\n",
    "where $|H|$ is the number of edges in $H$ and $\\lambda(H)$ is the partition whose parts equal to the sizes of the connected components of the graph induced by $H$. The definitions of $G_\\mu$ and $G_\\mu^+$ can be found in the preprint.\n",
    "\n",
    "First, we implement the function $\\lambda(H)$:"
   ]
  },
  {
   "cell_type": "code",
   "execution_count": 5,
   "id": "6af57553",
   "metadata": {},
   "outputs": [
    {
     "data": {
      "text/plain": [
       "graph_component_size (generic function with 1 method)"
      ]
     },
     "execution_count": 5,
     "metadata": {},
     "output_type": "execute_result"
    }
   ],
   "source": [
    "function graph_component_size(n::Int, edges::Vector{Pair{Int, Int}})\n",
    "    color = fill(0, n)\n",
    "    current_color = 0\n",
    "    \n",
    "    graph = Vector{Int}[Int[] for ~ = 1:n]\n",
    "    for edge in edges\n",
    "        push!(graph[edge.first], edge.second)\n",
    "        push!(graph[edge.second], edge.first)\n",
    "    end\n",
    "    \n",
    "    function dfs(u)\n",
    "        if color[u] != 0\n",
    "            return\n",
    "        end\n",
    "        color[u] = current_color\n",
    "        for v in graph[u]\n",
    "            dfs(v)\n",
    "        end\n",
    "    end\n",
    "    \n",
    "    for u = 1:n\n",
    "        if color[u] == 0\n",
    "            current_color += 1\n",
    "            dfs(u)\n",
    "        end\n",
    "    end\n",
    "    \n",
    "    partition = fill(0, current_color)\n",
    "    for u = 1:n\n",
    "        partition[color[u]] += 1\n",
    "    end\n",
    "    return Partition(sort(partition)[end:-1:begin])\n",
    "end"
   ]
  },
  {
   "cell_type": "markdown",
   "id": "6415320c",
   "metadata": {},
   "source": [
    "The struct `PartitionGraphData` is defined for the partition $\\mu$ and contains the precomputed functions $\\mathrm{leg}(u)$, $\\mathrm{arm}(u)$, and $\\mathrm{down}(u)$, which are defined in `Haglund, James, and Andrew Timothy Wilson. \"Macdonald polynomials and chromatic quasisymmetric functions.\" arXiv preprint arXiv:1701.05622 (2017).` Also, this structure contains the edges of the graphs $G_\\mu$ and $G_\\mu^+$."
   ]
  },
  {
   "cell_type": "code",
   "execution_count": 6,
   "id": "b18c4062",
   "metadata": {},
   "outputs": [
    {
     "data": {
      "text/plain": [
       "PartitionGraphData"
      ]
     },
     "execution_count": 6,
     "metadata": {},
     "output_type": "execute_result"
    }
   ],
   "source": [
    "struct PartitionGraphData\n",
    "    leg::Vector{Int}\n",
    "    arm::Vector{Int}\n",
    "    down::Vector{Int}\n",
    "    G_μ::Vector{Pair{Int, Int}}\n",
    "    G_μ⁺::Vector{Pair{Int, Int}}\n",
    "end\n",
    "\n",
    "function PartitionGraphData(partition::AbstractPartition)\n",
    "    part = partition.part[end:-1:begin]\n",
    "    n = partition.n\n",
    "    l = length(partition)\n",
    "    filling = fill(0, l, part[end])\n",
    "    position = fill(Pair(0, 0), n)\n",
    "    \n",
    "    u = 1\n",
    "    for (num_row, len_row) in enumerate(part)\n",
    "        for i = 1:len_row\n",
    "            filling[num_row, i] = u\n",
    "            position[u] = Pair(num_row, i)\n",
    "            u += 1\n",
    "        end\n",
    "    end\n",
    "    \n",
    "    leg = fill(0, n)\n",
    "    arm = fill(0, n)\n",
    "    down = fill(0, n)\n",
    "    G_μ = Pair{Int, Int}[]\n",
    "\n",
    "    for u = 1:n\n",
    "        row, column = position[u].first, position[u].second\n",
    "        \n",
    "        arm[u] = part[row] - column\n",
    "        for v ∈ filling[row, (column + 1):part[row]]\n",
    "            push!(G_μ, Pair(u, v))\n",
    "        end\n",
    "\n",
    "        if row != l\n",
    "            for v ∈ filling[row + 1, 1:(column - 1)]\n",
    "                push!(G_μ, Pair(u, v))\n",
    "            end\n",
    "            down[u] = filling[row + 1, column]\n",
    "        end\n",
    "        \n",
    "        for j = (row - 1):-1:1\n",
    "            if part[j] >= column\n",
    "                leg[u] += 1\n",
    "            else\n",
    "                break\n",
    "            end\n",
    "        end\n",
    "    end\n",
    "    \n",
    "    G_μ⁺ = copy(G_μ)\n",
    "    for u = 1:n\n",
    "        if down[u] != 0\n",
    "            push!(G_μ⁺, Pair(u, down[u]))\n",
    "        end\n",
    "    end\n",
    "    return PartitionGraphData(leg, arm, down, G_μ, G_μ⁺)\n",
    "end"
   ]
  },
  {
   "cell_type": "markdown",
   "id": "30badd81",
   "metadata": {},
   "source": [
    "Finally, the function `get_θ_coefs_using_graphs` computes the coefficients $\\theta_\\mu(\\cdot)$ for the given partition $\\mu$. The summation formula is used here."
   ]
  },
  {
   "cell_type": "code",
   "execution_count": 7,
   "id": "11ea8767",
   "metadata": {},
   "outputs": [
    {
     "data": {
      "text/plain": [
       "get_θ_coefs_using_graphs (generic function with 1 method)"
      ]
     },
     "execution_count": 7,
     "metadata": {},
     "output_type": "execute_result"
    }
   ],
   "source": [
    "function get_θ_coefs_using_graphs(μ::AbstractPartition, α::GenericPolynomial) where GenericPolynomial\n",
    "    n = μ.n\n",
    "    μ = conj(μ)\n",
    "    data = PartitionGraphData(μ)\n",
    "    partitions = Combinatorics.integer_partitions(n)\n",
    "    \n",
    "    θ = Dict(Partition(λ) => zero(α) for λ ∈ partitions)\n",
    "    for H in Combinatorics.powerset(data.G_μ⁺)\n",
    "        λ = graph_component_size(n, H)\n",
    "        summand = (-1)^length(H)\n",
    "        for edge in setdiff(H, data.G_μ)\n",
    "            u = edge.first\n",
    "            summand *= (-1) * (α * (data.leg[u] + 1) + data.arm[u])\n",
    "        end\n",
    "        θ[λ] += summand\n",
    "    end\n",
    "    return θ\n",
    "end"
   ]
  },
  {
   "cell_type": "markdown",
   "id": "4eb9fa63",
   "metadata": {},
   "source": [
    "Now, we can check that the $\\theta$ coefficients produced by `generate_θ_matrix` and `get_θ_coefs_using_graphs` are identical. We check it for all partitions $\\lambda$ and $\\mu$ of the size 7. "
   ]
  },
  {
   "cell_type": "code",
   "execution_count": 8,
   "id": "b87378a4",
   "metadata": {},
   "outputs": [
    {
     "name": "stdout",
     "output_type": "stream",
     "text": [
      "We are awesome!\n"
     ]
    }
   ],
   "source": [
    "N = 7\n",
    "\n",
    "θ = generate_θ_matrix(N, α)\n",
    "partitions = map(Partition, Combinatorics.integer_partitions(N))\n",
    "for λ ∈ partitions\n",
    "    θ_graph = get_θ_coefs_using_graphs(λ, α)\n",
    "    for μ ∈ partitions\n",
    "        @assert θ_graph[μ] == θ[(λ, μ)]\n",
    "    end\n",
    "end\n",
    "println(\"We are awesome!\")"
   ]
  },
  {
   "cell_type": "markdown",
   "id": "2c7913cf",
   "metadata": {},
   "source": [
    "We can generate the Jack characters $\\omega_\\lambda(\\mu)$ defined as follows:\n",
    "\n",
    "$$\n",
    "p_\\mu = \\sum_{\\lambda \\vdash n} \\omega_\\lambda(\\mu) \\cdot J^{(\\alpha)}_\\lambda.\n",
    "$$"
   ]
  },
  {
   "cell_type": "markdown",
   "id": "1c1a1d37",
   "metadata": {},
   "source": [
    "First, we compute the function z(μ) for any partition $\\mu$."
   ]
  },
  {
   "cell_type": "code",
   "execution_count": 9,
   "id": "54eec3e8",
   "metadata": {},
   "outputs": [
    {
     "data": {
      "text/plain": [
       "z (generic function with 1 method)"
      ]
     },
     "execution_count": 9,
     "metadata": {},
     "output_type": "execute_result"
    }
   ],
   "source": [
    "function z(λ)\n",
    "    t = zeros(Int, λ.n)\n",
    "    for i in λ.part\n",
    "        t[i] += 1\n",
    "    end\n",
    "    result = 1\n",
    "    for i = 1:(λ.n)\n",
    "        result *= i^t[i] * factorial(t[i])\n",
    "    end\n",
    "    return result\n",
    "end"
   ]
  },
  {
   "cell_type": "markdown",
   "id": "b593288d",
   "metadata": {},
   "source": [
    "We will use the formula:\n",
    "\n",
    "$$\n",
    "\\omega_\\lambda(\\mu) = \\theta_\\lambda(\\mu) \\cdot z_\\mu \\cdot \\alpha^{l(\\mu)} / j_\\lambda(\\alpha),\n",
    "$$\n",
    "\n",
    "where\n",
    "\n",
    "$$\n",
    "j_\\lambda = \\langle J^{(\\alpha)}_\\lambda, J^{(\\alpha)}_\\lambda \\rangle_\\alpha =  \\sum_{\\mu \\vdash n}\\theta_\\lambda(\\mu)^2 \\cdot z_\\mu \\cdot \\alpha^{l(\\mu)}\n",
    "$$"
   ]
  },
  {
   "cell_type": "code",
   "execution_count": 10,
   "id": "fabc5a3c",
   "metadata": {},
   "outputs": [
    {
     "data": {
      "text/plain": [
       "compute_j_λ (generic function with 1 method)"
      ]
     },
     "execution_count": 10,
     "metadata": {},
     "output_type": "execute_result"
    }
   ],
   "source": [
    "function compute_j_λ(λ, θ, α)\n",
    "    return sum(\n",
    "        (θ[(λ, μ)] ^2 * z(μ) * α^(length(μ)))\n",
    "        for μ ∈ map(Partition, Combinatorics.integer_partitions(λ.n))\n",
    "    )\n",
    "end "
   ]
  },
  {
   "cell_type": "code",
   "execution_count": 11,
   "id": "55a7a581",
   "metadata": {},
   "outputs": [
    {
     "data": {
      "text/plain": [
       "generate_ω_matrix (generic function with 1 method)"
      ]
     },
     "execution_count": 11,
     "metadata": {},
     "output_type": "execute_result"
    }
   ],
   "source": [
    "function generate_ω_matrix(N::Int, α::GenericPolynomial) where GenericPolynomial\n",
    "    θ = generate_θ_matrix(N, α)\n",
    "    ω = Dict()\n",
    "    partitions = map(Partition, Combinatorics.integer_partitions(N))\n",
    "    for λ ∈ partitions\n",
    "        j_λ = compute_j_λ(λ, θ, α)\n",
    "        for μ ∈ partitions\n",
    "            ω[(λ, μ)] = θ[(λ, μ)] * z(μ) * α^(length(μ)) // j_λ\n",
    "        end\n",
    "    end\n",
    "    return ω\n",
    "end"
   ]
  },
  {
   "cell_type": "code",
   "execution_count": 12,
   "id": "a6713947",
   "metadata": {},
   "outputs": [
    {
     "name": "stderr",
     "output_type": "stream",
     "text": [
      "\u001b[32mProgress: 100%|█████████████████████████████████████████| Time: 0:00:00\u001b[39m\n"
     ]
    },
    {
     "data": {
      "text/plain": [
       "Dict{Any, Any} with 121 entries:\n",
       "  (1₆, 2₃)       => -α^2//(α^5 + 15*α^4 + 85*α^3 + 225*α^2 + 274*α + 120)\n",
       "  (6₁, 3₂)       => 1//120//(α^5 + 137//60*α^4 + 15//8*α^3 + 17//24*α^2 + 1//8*…\n",
       "  (1₆, 2₁1₄)     => -α^4//(α^5 + 15*α^4 + 85*α^3 + 225*α^2 + 274*α + 120)\n",
       "  (3₁2₁1₁, 4₁1₂) => (-3*α^2 + 3*α)//(α^6 + 43//6*α^5 + 241//12*α^4 + 223//8*α^3…\n",
       "  (3₁1₃, 5₁1₁)   => (5//6*α - 5//6)//(α^5 + 7*α^4 + 19*α^3 + 25*α^2 + 16*α + 4)\n",
       "  (3₁1₃, 3₂)     => α//(α^5 + 7*α^4 + 19*α^3 + 25*α^2 + 16*α + 4)\n",
       "  (3₂, 4₁2₁)     => (-1//3*α^2 - 1//12*α - 1//12)//(α^7 + 19//3*α^6 + 65//4*α^5…\n",
       "  (4₁1₂, 4₁1₂)   => (1//6*α^2 - 1//3*α + 1//6)//(α^5 + 4*α^4 + 25//4*α^3 + 19//…\n",
       "  (2₁1₄, 3₁1₃)   => (-3//2*α^3 + 15//2*α^2)//(α^5 + 13*α^4 + 63*α^3 + 143*α^2 +…\n",
       "  (5₁1₁, 3₁1₃)   => (1//8*α - 1//40)//(α^5 + 38//15*α^4 + 143//60*α^3 + 21//20*…\n",
       "  (1₆, 5₁1₁)     => α//(α^5 + 15*α^4 + 85*α^3 + 225*α^2 + 274*α + 120)\n",
       "  (2₂1₂, 4₁1₂)   => (-1//2*α^3 + 17//2*α^2 - 3*α)//(α^6 + 23//2*α^5 + 51*α^4 + …\n",
       "  (3₁1₃, 6₁)     => -1//(α^5 + 7*α^4 + 19*α^3 + 25*α^2 + 16*α + 4)\n",
       "  (2₃, 4₁2₁)     => (-1//2*α^3 - 1//2*α^2 - 2*α)//(α^7 + 21//2*α^6 + 45*α^5 + 1…\n",
       "  (2₁1₄, 3₁2₁1₁) => (5//2*α^2 - 5//2*α)//(α^5 + 13*α^4 + 63*α^3 + 143*α^2 + 152…\n",
       "  (4₁2₁, 3₁1₃)   => (1//2*α^2 - 1//2*α)//(α^6 + 17//4*α^5 + 65//9*α^4 + 56//9*α…\n",
       "  (3₂, 6₁)       => (-1//12*α^2 + 1//8*α - 1//24)//(α^7 + 19//3*α^6 + 65//4*α^5…\n",
       "  (5₁1₁, 3₁2₁1₁) => (1//24*α - 1//24)//(α^5 + 38//15*α^4 + 143//60*α^3 + 21//20…\n",
       "  (4₁1₂, 4₁2₁)   => (-1//6*α + 1//6)//(α^5 + 4*α^4 + 25//4*α^3 + 19//4*α^2 + 7/…\n",
       "  (3₁1₃, 2₂1₂)   => (-8//3*α^2 + 2//3*α)//(α^5 + 7*α^4 + 19*α^3 + 25*α^2 + 16*α…\n",
       "  (3₁2₁1₁, 1₆)   => (30*α^3)//(α^6 + 43//6*α^5 + 241//12*α^4 + 223//8*α^3 + 241…\n",
       "  (2₁1₄, 1₆)     => (15*α^4)//(α^5 + 13*α^4 + 63*α^3 + 143*α^2 + 152*α + 60)\n",
       "  (3₂, 4₁1₂)     => (-7//12*α^2 + 1//12*α)//(α^7 + 19//3*α^6 + 65//4*α^5 + 22*α…\n",
       "  (4₁2₁, 3₁2₁1₁) => (1//6*α^2 - 1//4*α + 1//12)//(α^6 + 17//4*α^5 + 65//9*α^4 +…\n",
       "  (2₃, 6₁)       => (1//4*α^2 - 3//4*α + 1//2)//(α^7 + 21//2*α^6 + 45*α^5 + 102…\n",
       "  ⋮              => ⋮"
      ]
     },
     "execution_count": 12,
     "metadata": {},
     "output_type": "execute_result"
    }
   ],
   "source": [
    "N = 6\n",
    "\n",
    "R, α = PolynomialRing(QQ, \"α\")\n",
    "S, β = RationalFunctionField(QQ, \"α\")\n",
    "ω = generate_ω_matrix(N, α)"
   ]
  },
  {
   "cell_type": "markdown",
   "id": "006fe5c8",
   "metadata": {},
   "source": [
    "Let's check that this matrix coincides with the $(\\theta_{\\lambda, \\mu})^{-T}$"
   ]
  },
  {
   "cell_type": "code",
   "execution_count": 13,
   "id": "fc436c5b",
   "metadata": {},
   "outputs": [
    {
     "name": "stdout",
     "output_type": "stream",
     "text": [
      "We are awesome!\n"
     ]
    }
   ],
   "source": [
    "θ = generate_θ_matrix(N, α)\n",
    "partitions = map(Partition, Combinatorics.integer_partitions(N))\n",
    "\n",
    "lhs = MatrixSpace(S, length(partitions), length(partitions))()\n",
    "for (n, λ) in enumerate(partitions), (m, ρ) in enumerate(partitions)\n",
    "    lhs[n, m] = θ[(λ, ρ)]\n",
    "end\n",
    "\n",
    "inv_lhs = inv(lhs)\n",
    "\n",
    "inv_θ = Dict()\n",
    "for (n, λ) in enumerate(partitions), (m, ρ) in enumerate(partitions)\n",
    "    inv_θ[(λ, ρ)] = inv_lhs[n, m]\n",
    "end\n",
    "\n",
    "for λ ∈ partitions, μ ∈ partitions\n",
    "    @assert ω[(λ, μ)] == inv_θ[(μ, λ)]\n",
    "end\n",
    "println(\"We are awesome!\")"
   ]
  },
  {
   "cell_type": "markdown",
   "id": "005b37bc",
   "metadata": {},
   "source": [
    "## Checking the hypothesis with Weingarten function"
   ]
  },
  {
   "cell_type": "markdown",
   "id": "0a0609fa",
   "metadata": {},
   "source": [
    "Consider the Weingarten function\n",
    "\n",
    "$$\n",
    "\\mathrm{Wg}^\\beta = \\sum_{\\lambda \\vdash n} \\frac{\\omega_\\lambda^{(\\alpha)}(\\cdot)}{J_\\lambda^{(\\alpha)}(d)},\n",
    "$$\n",
    "where $\\alpha = 2 / \\beta$."
   ]
  },
  {
   "cell_type": "markdown",
   "id": "362fce28",
   "metadata": {},
   "source": [
    "We want to check the hypothesis that if we define matrix moments of the generalized orthogonal ensemble $^\\beta O$ as follows:\n",
    "\n",
    "$$\n",
    "\\int_{^\\beta O}d{^\\beta O}\\,\\,O_{i_1j_1}O_{i_2j_2}\\dots O_{i_{2n}j_{2n}} = \\sum_{\\mathfrak{m}, \\mathfrak{n} \\in M_{2n}} \\mathrm{Wg}^\\beta([\\mathfrak{m}, \\mathfrak{n}]) \\delta_\\mathfrak{m}(i) \\cdot \\delta_\\mathfrak{m}(i)\n",
    "$$\n",
    "\n",
    "then this distribution satisfies the following relation:\n",
    "\n",
    "$$\n",
    "\\int_{^\\beta O}d{^\\beta O}\\,\\,J_\\lambda^{(\\alpha)}(AOBO^T) = \\frac{J_\\lambda^{(\\alpha)}(A)J_\\lambda^{(\\alpha)}(B)}{J_\\lambda^{(\\alpha)}(1^d)}\n",
    "$$\n",
    "\n",
    "Here, $d$ is the size of the matrices, $A$ and $B$ are symmetric. The coset type $[\\mathfrak{m}, \\mathfrak{n}]$ can be defined as follows: consider the graph $G$ with the edges $\\{\\mathfrak{m}(2k - 1), \\mathfrak{m}(2k)\\}$ and $\\{\\mathfrak{n}(2k - 1), \\mathfrak{n}(2k)\\}$. It consists of cycles of even lengths $2\\lambda_1 \\ge 2\\lambda_2 \\ge \\dots$. Then the coset type $[\\mathfrak{m}, \\mathfrak{n}]$ is the partition $\\lambda$. \n",
    "\n",
    "This formula works for $\\beta = 1$. We check that it does not work for other $\\beta$."
   ]
  },
  {
   "cell_type": "markdown",
   "id": "9b20adf4",
   "metadata": {},
   "source": [
    "First, we implement the function `get_pairing_permutations(indices)` that for the vector `indices=(i₁, i₂, ..., i₂ₙ)` returns all the pair partitions $\\mathfrak{m}$ such that $\\delta_{\\mathfrak{m}}(i) = 1$. This function returns the pair partitions as permutations that matches to element the second element from the pair. "
   ]
  },
  {
   "cell_type": "code",
   "execution_count": 14,
   "id": "f6ac6183",
   "metadata": {},
   "outputs": [
    {
     "data": {
      "text/plain": [
       "get_pairing_permutations (generic function with 1 method)"
      ]
     },
     "execution_count": 14,
     "metadata": {},
     "output_type": "execute_result"
    }
   ],
   "source": [
    "using Permutations\n",
    "\n",
    "\n",
    "function get_pairing_permutations(indices)\n",
    "    n = length(indices)\n",
    "    pairings = Permutation[]\n",
    "    \n",
    "    function step(pairs, last_l)\n",
    "        l = last_l + 1\n",
    "        while l ≤ n && pairs[l] != 0\n",
    "            l += 1\n",
    "        end\n",
    "        if l == n + 1\n",
    "            push!(pairings, Permutation(copy(pairs)))\n",
    "            return\n",
    "        end\n",
    "        for r = (l + 1):n\n",
    "            if !(pairs[r] == 0 && indices[l] == indices[r])\n",
    "                continue\n",
    "            end\n",
    "            pairs[l] = r\n",
    "            pairs[r] = l\n",
    "            step(pairs, l)\n",
    "            pairs[l] = 0\n",
    "            pairs[r] = 0\n",
    "        end\n",
    "    end\n",
    "    \n",
    "    pairs = fill(0, n)\n",
    "    step(pairs, 0)\n",
    "\n",
    "    return pairings\n",
    "end"
   ]
  },
  {
   "cell_type": "markdown",
   "id": "2e8f7098",
   "metadata": {},
   "source": [
    "Example:"
   ]
  },
  {
   "cell_type": "code",
   "execution_count": 15,
   "id": "efd2e094",
   "metadata": {},
   "outputs": [
    {
     "data": {
      "text/plain": [
       "3-element Vector{Permutation}:\n",
       " (1,2)(3,4)(5,6)(7,8)\n",
       " (1,3)(2,4)(5,6)(7,8)\n",
       " (1,4)(2,3)(5,6)(7,8)"
      ]
     },
     "execution_count": 15,
     "metadata": {},
     "output_type": "execute_result"
    }
   ],
   "source": [
    "get_pairing_permutations([1, 1, 1, 1, 2, 2, 3, 3])"
   ]
  },
  {
   "cell_type": "markdown",
   "id": "2e665eb6",
   "metadata": {},
   "source": [
    "Let $A = diag(a_1, a_2, \\dots, ...)$ and let $B = diag(b_1, b_2, \\dots)$. The integral\n",
    "\n",
    "$$\n",
    "\\int_{^\\beta O}d{^\\beta O}\\,\\,p_\\mu(AOBO^T)\n",
    "$$\n",
    "\n",
    "is equal to\n",
    "\n",
    "$$\n",
    "\\int_{^\\beta O}d{^\\beta O}\\,\\,p_\\mu(AOBO^T) = \\sum_{\\lambda \\vdash n}\\int_{^\\beta O}d{^\\beta O}\\,\\,\\omega_\\lambda(\\mu) \\cdot J_\\lambda^{(\\alpha)}(AOBO^T) = \\sum_{\\lambda \\vdash n}\\omega_\\lambda(\\mu) \\cdot \\frac{J_\\lambda^{(\\alpha)}(a_1, \\dots, a_d)J_\\lambda^{(\\alpha)}(b_1, \\dots, b_d)}{J_\\lambda^{(\\alpha)}(1^d)}\n",
    "$$\n",
    "\n",
    "On the other hand,\n",
    "\n",
    "$$\n",
    "p_\\mu(AOBO^T) = \\sum_{i_1, \\dots, i_n}\\sum_{j_1, \\dots, j_n}\\prod_{k=1}^na_{i_k}O_{i_kj_k}b_{j_k}O_{i_{\\pi_\\mu(k)}j_k},\n",
    "$$\n"
   ]
  },
  {
   "cell_type": "markdown",
   "id": "bcf38e6b",
   "metadata": {},
   "source": [
    "For each couple of set of indices $i = (i_1, \\dots, i_n)$ and $j = (j_1, \\dots, j_n)$ let's find we coefficient of the monomial $a_{i_1}a_{i_2}\\dots a_{i_n}b_{i_1}\\dots b_{j_n}$ in the integral\n",
    "\n",
    "$$\n",
    "\\int_{^\\beta O}d{^\\beta O}\\,\\,p_\\mu(AOBO^T) = \\sum_{i_1, \\dots, i_n}\\sum_{j_1, \\dots, j_n}a_{i_1}a_{i_2}\\dots a_{i_n}b_{i_1}\\dots b_{j_n}\\int_{^\\beta O}d{^\\beta O} O_{i_1j_1}\\dots O_{i_nj_n} \\cdot O_{i_{\\pi(1)}j_1}\\dots O_{i_{\\pi(n)}j_n}\n",
    "$$\n",
    "\n",
    "using the Weingarten function."
   ]
  },
  {
   "cell_type": "markdown",
   "id": "80890f2f",
   "metadata": {},
   "source": [
    "The following function takes a couple of list of indices $i=(i_1, \\dots, i_{2n})$ and $j=(j_1, \\dots, j_{2n})$ and for each partition $\\lambda$ it returns the number of pair partitions $\\mathfrak{m}$ and $\\mathfrak{n}$ such that $\\delta_{\\mathfrak{m}}(i) = \\delta_{\\mathfrak{n}}(j) = 1$ and the coset type $[\\mathfrak{m}, \\mathfrak{n}]$ is $\\lambda$."
   ]
  },
  {
   "cell_type": "code",
   "execution_count": 16,
   "id": "2bcdf650",
   "metadata": {},
   "outputs": [
    {
     "data": {
      "text/plain": [
       "get_pairing_cosets (generic function with 1 method)"
      ]
     },
     "execution_count": 16,
     "metadata": {},
     "output_type": "execute_result"
    }
   ],
   "source": [
    "function get_pairing_cosets(i_indices, j_indices)\n",
    "    n = div(length(i_indices), 2)\n",
    "    partitions = map(Partition, Combinatorics.integer_partitions(n))\n",
    "\n",
    "    cosets = Dict(\n",
    "        λ => 0 for λ ∈ partitions\n",
    "    )\n",
    "    for σ in get_pairing_permutations(i_indices), τ in get_pairing_permutations(j_indices)\n",
    "        coset = Partition(sort(length.(Permutations.cycles(σ * τ)))[end:(-2):begin])\n",
    "        cosets[coset] += 1\n",
    "    end\n",
    "    \n",
    "    return cosets\n",
    "end"
   ]
  },
  {
   "cell_type": "markdown",
   "id": "b300cac8",
   "metadata": {},
   "source": [
    "The function `get_lhs_monomial_coef(μ, i_indices, j_indices)` takes the partition $\\mu$ and a couple of indices $i=(i_1, \\dots, i_n)$, $j=(j_1, \\dots, j_n)$ and computes the coefficient of the monomial $a_{i_1}a_{i_2}\\dots a_{i_n}b_{i_1}\\dots b_{j_n}$ in the integral\n",
    "\n",
    "$$\n",
    "\\int_{^\\beta O}d{^\\beta O}\\,\\,p_\\mu(AOBO^T) = \\sum_{i_1, \\dots, i_n}\\sum_{j_1, \\dots, j_n}a_{i_1}a_{i_2}\\dots a_{i_n}b_{i_1}\\dots b_{j_n}\\int_{^\\beta O}d{^\\beta O} O_{i_1j_1}\\dots O_{i_nj_n} \\cdot O_{i_{\\pi(1)}j_1}\\dots O_{i_{\\pi(n)}j_n}.\n",
    "$$\n",
    "\n",
    "This coefficient can be represented as $\\sum_{\\rho \\vdash n} \\mathrm{coset}(\\mu) \\cdot Wg^{\\beta}(\\mu)$, and the function `get_lhs_monomial_coef(μ, i_indices, j_indices)` returns the vector `coset` -- number of couple of pairings $\\mathfrak{m}$, $\\mathfrak{n}$ with the coset type $\\rho$ that matches reshuffled indices $i$ and $j$ with themselves."
   ]
  },
  {
   "cell_type": "code",
   "execution_count": 17,
   "id": "85d12e6c",
   "metadata": {},
   "outputs": [
    {
     "data": {
      "text/plain": [
       "permutations (generic function with 1 method)"
      ]
     },
     "execution_count": 17,
     "metadata": {},
     "output_type": "execute_result"
    }
   ],
   "source": [
    "function permutations(indices)\n",
    "    perm = map(Permutation, Combinatorics.permutations(1:length(indices)))\n",
    "    indices_perm = [\n",
    "        [indices[σ.data[i]] for i = 1:length(indices)]\n",
    "        for σ ∈ perm\n",
    "    ]\n",
    "    sort!(indices_perm)\n",
    "    result = Vector{Int}[]\n",
    "    for i = 1:length(indices_perm)\n",
    "        if i == 1 || indices_perm[i] != indices_perm[i - 1]\n",
    "            push!(result, indices_perm[i])\n",
    "        end\n",
    "    end\n",
    "    return result\n",
    "end"
   ]
  },
  {
   "cell_type": "code",
   "execution_count": 18,
   "id": "afa51888",
   "metadata": {},
   "outputs": [
    {
     "data": {
      "text/plain": [
       "get_lhs_monomial_coef (generic function with 1 method)"
      ]
     },
     "execution_count": 18,
     "metadata": {},
     "output_type": "execute_result"
    }
   ],
   "source": [
    "function get_lhs_monomial_coef(μ, i_indices, j_indices)\n",
    "    # construct the permutation π_λ with the cycle decomposition type λ\n",
    "    n = μ.n\n",
    "    π_μ = Int[]\n",
    "    position = 0\n",
    "    for p in μ\n",
    "        for i = 1:p\n",
    "            push!(π_μ, (i % p) + 1 + position)\n",
    "        end\n",
    "        position += p\n",
    "    end\n",
    "    π_μ = Permutation(π_μ)\n",
    "    \n",
    "    partitions = map(Partition, Combinatorics.integer_partitions(μ.n))\n",
    "    cosets = Dict(\n",
    "        ρ => 0 for ρ ∈ partitions\n",
    "    )\n",
    "    \n",
    "    for iₐ in permutations(i_indices), jₐ in permutations(j_indices)\n",
    "        iₐ_prime = [iₐ[π_μ[i]] for i = 1:n]\n",
    "        jₐ_prime = copy(jₐ)\n",
    "        current_cosets = get_pairing_cosets(\n",
    "            vcat(iₐ, iₐ_prime),\n",
    "            vcat(jₐ, jₐ_prime),\n",
    "        )\n",
    "        for ρ ∈ partitions\n",
    "            cosets[ρ] += current_cosets[ρ]\n",
    "        end\n",
    "    end\n",
    "    return cosets\n",
    "end"
   ]
  },
  {
   "cell_type": "markdown",
   "id": "2ecf97cb",
   "metadata": {},
   "source": [
    "Example"
   ]
  },
  {
   "cell_type": "code",
   "execution_count": 19,
   "id": "8829a2f2",
   "metadata": {},
   "outputs": [
    {
     "data": {
      "text/plain": [
       "Dict{AbstractAlgebra.Generic.Partition{Int64}, Int64} with 7 entries:\n",
       "  5₁   => 0\n",
       "  4₁1₁ => 0\n",
       "  2₁1₃ => 0\n",
       "  3₁1₂ => 0\n",
       "  3₁2₁ => 14400\n",
       "  2₂1₁ => 0\n",
       "  1₅   => 0"
      ]
     },
     "execution_count": 19,
     "metadata": {},
     "output_type": "execute_result"
    }
   ],
   "source": [
    "i_indices = [1, 2, 3, 4, 5]\n",
    "j_indices = [1, 2, 3, 4, 5]\n",
    "μ = Partition([3, 2])\n",
    "\n",
    "get_lhs_monomial_coef(μ, i_indices, j_indices)"
   ]
  },
  {
   "cell_type": "markdown",
   "id": "7de068d6",
   "metadata": {},
   "source": [
    "Generally, one can prove that if $i = (1, 2, \\dots, n)$, $j=(1, 2, \\dots, n)$, then $\\mathrm{coset}(\\rho) = (n!)^2 \\delta_{\\mu\\rho}$"
   ]
  },
  {
   "cell_type": "markdown",
   "id": "045c9617",
   "metadata": {},
   "source": [
    "The sum can be rewritten as\n",
    "\n",
    "$$\n",
    "\\sum_{\\rho \\vdash n} \\mathrm{coset}(\\rho) \\cdot Wg^{\\beta}(\\rho) = \\sum_{\\lambda \\vdash n} \\frac{\\sum_{\\rho \\vdash n}\\mathrm{coset}(\\rho) \\cdot \\omega_\\lambda(\\rho)}{J_\\lambda^{(\\alpha)}(1^d)}\n",
    "$$\n",
    "\n",
    "So, for each $\\lambda$ let's evaluate $\\sum_{\\rho \\vdash n}\\mathrm{coset}(\\rho) \\cdot \\omega_\\lambda(\\rho)$"
   ]
  },
  {
   "cell_type": "code",
   "execution_count": 20,
   "id": "b22438cf",
   "metadata": {},
   "outputs": [
    {
     "data": {
      "text/plain": [
       "get_lhs_monomial_coef_2 (generic function with 1 method)"
      ]
     },
     "execution_count": 20,
     "metadata": {},
     "output_type": "execute_result"
    }
   ],
   "source": [
    "function get_lhs_monomial_coef_2(μ, i_indices, j_indices, ω)\n",
    "    partitions = map(Partition, Combinatorics.integer_partitions(μ.n))\n",
    "    cosets = get_lhs_monomial_coef(μ, i_indices, j_indices)\n",
    "    \n",
    "    coefs = Dict(\n",
    "        λ => sum(cosets[ρ] * ω[(λ, ρ)] for ρ ∈ partitions)\n",
    "        for λ ∈ partitions \n",
    "    )\n",
    "    return coefs\n",
    "end\n"
   ]
  },
  {
   "cell_type": "markdown",
   "id": "6a002e63",
   "metadata": {},
   "source": [
    "Example"
   ]
  },
  {
   "cell_type": "code",
   "execution_count": 21,
   "id": "03e8f344",
   "metadata": {},
   "outputs": [
    {
     "data": {
      "text/plain": [
       "Dict{AbstractAlgebra.Generic.Partition{Int64}, AbstractAlgebra.Generic.Frac{AbstractAlgebra.Generic.Poly{Rational{BigInt}}}} with 7 entries:\n",
       "  5₁   => 600//(α^4 + 25//12*α^3 + 35//24*α^2 + 5//12*α + 1//24)\n",
       "  4₁1₁ => -3000//(α^4 + 29//12*α^3 + 49//24*α^2 + 17//24*α + 1//12)\n",
       "  2₁1₃ => (36000*α)//(α^4 + 17//2*α^3 + 49//2*α^2 + 29*α + 12)\n",
       "  3₁1₂ => (-7200*α + 7200)//(α^4 + 25//6*α^3 + 19//3*α^2 + 25//6*α + 1)\n",
       "  3₁2₁ => (7200*α^2 + 7200)//(α^5 + 29//6*α^4 + 17//2*α^3 + 41//6*α^2 + 5//2*α …\n",
       "  2₂1₁ => (-21600*α^2 - 21600)//(α^5 + 15//2*α^4 + 41//2*α^3 + 51//2*α^2 + 29//…\n",
       "  1₅   => (-14400*α)//(α^4 + 10*α^3 + 35*α^2 + 50*α + 24)"
      ]
     },
     "execution_count": 21,
     "metadata": {},
     "output_type": "execute_result"
    }
   ],
   "source": [
    "i_indices = [1, 2, 3, 4, 5]\n",
    "j_indices = [1, 2, 3, 4, 5]\n",
    "μ = Partition([3, 2])\n",
    "\n",
    "ω = generate_ω_matrix(5, α)\n",
    "\n",
    "get_lhs_monomial_coef_2(μ, i_indices, j_indices, ω)"
   ]
  },
  {
   "cell_type": "markdown",
   "id": "6cc7e5c3",
   "metadata": {},
   "source": [
    "Finally, we need to compute the coefficient of $a_{i_1}\\dots a_{i_n}b_{j_1}\\dots b_{j_n}$ in the right-hand side of the equation:\n",
    "\n",
    "$$\n",
    "\\int_{^\\beta O}d{^\\beta O}\\,\\,p_\\mu(AOBO^T) = \\sum_{\\lambda \\vdash n}\\int_{^\\beta O}d{^\\beta O}\\,\\,\\omega_\\lambda(\\mu) \\cdot J_\\lambda^{(\\alpha)}(AOBO^T) = \\sum_{\\lambda \\vdash n}\\omega_\\lambda(\\mu) \\cdot \\frac{J_\\lambda^{(\\alpha)}(a_1, \\dots, a_d)J_\\lambda^{(\\alpha)}(b_1, \\dots, b_d)}{J_\\lambda^{(\\alpha)}(1^d)}\n",
    "$$\n",
    "\n",
    "For every integer $k$, let $t_k$ denotes the number of $k$ in the set of indices $i$. Then denote $\\lambda(i) = (t_1, t_2, \\dots, ) \\vdash n$. Let $T^{jp}$ be a translation matrix from $J_\\lambda$ to the monomial basis:\n",
    "\n",
    "$$\n",
    "J_\\lambda = \\sum_{\\mu \\vdash n} T^{jp}(\\lambda, \\mu) m_\\mu\n",
    "$$"
   ]
  },
  {
   "cell_type": "markdown",
   "id": "a1ed4645",
   "metadata": {},
   "source": [
    "Then the coefficient of $a_{i_1}\\dots a_{i_n}b_{j_1}\\dots b_{j_n}$ in the right-hand side of the equation using the following formula:\n",
    "\n",
    "$$\n",
    "[a_{i_1}\\dots a_{i_n}b_{j_1}\\dots b_{j_n}] = \\sum_{\\lambda \\vdash n} \\frac{\\omega_\\lambda(\\mu) \\cdot T^{jm}(\\lambda, \\lambda(i)) \\cdot T^{jm}(\\lambda, \\lambda(j))}{J_\\lambda^{(\\alpha)}(1^d)}\n",
    "$$"
   ]
  },
  {
   "cell_type": "markdown",
   "id": "64c26aff",
   "metadata": {},
   "source": [
    "If the coefficients in both left- and right-hand sides are identical, then we may conclude that the equality\n",
    "\n",
    "$$\n",
    "\\sum_{\\rho \\vdash n}\\mathrm{coset}(\\rho) \\cdot \\omega_\\lambda(\\rho) = \\omega_\\lambda(\\mu) \\cdot T^{jm}(\\lambda, \\lambda(i)) \\cdot T^{jm}(\\lambda, \\lambda(j))\n",
    "$$\n",
    "\n",
    "holds for all $\\lambda$ (because the denominator is a polynomial that depends on the additional variable $d$; this is not a rigorous proof)"
   ]
  },
  {
   "cell_type": "markdown",
   "id": "100b5562",
   "metadata": {},
   "source": [
    "To compare the coefficients, we need to compute the translation matrix $T^{jp}$. I used the paper\n",
    "   `Merca, Mircea. \"Augmented monomials in terms of power sums.\" SpringerPlus 4.1 (2015): 1-13.` to evaluate the matrix $T^{mp}$ from the monomial basis to the power sum one. After that, I inverted it (the resulting matrix is the translation matrix for power sum basis to the monomial one), and multiplied it by $\\theta$ from the left. "
   ]
  },
  {
   "cell_type": "markdown",
   "id": "29ac6338",
   "metadata": {},
   "source": [
    "First, we implement the majorization sort on the set of partitions of the size $n$. The function `majorization_sort` returns the vector of partitions sorted in descending order."
   ]
  },
  {
   "cell_type": "code",
   "execution_count": 22,
   "id": "6dbbc249",
   "metadata": {},
   "outputs": [
    {
     "data": {
      "text/plain": [
       "majorization_sort (generic function with 1 method)"
      ]
     },
     "execution_count": 22,
     "metadata": {},
     "output_type": "execute_result"
    }
   ],
   "source": [
    "function ⪰(λ::AbstractPartition, μ::AbstractPartition)\n",
    "    partial_sum = 0\n",
    "    for k = 1:min(length(λ), length(μ))\n",
    "        partial_sum += λ.part[k] - μ.part[k]\n",
    "        if partial_sum < 0\n",
    "            return false\n",
    "        end\n",
    "    end\n",
    "    return true\n",
    "end\n",
    "\n",
    "function majorization_sort(partitions::Vector{AbstractPartition})\n",
    "    edges = Vector{Int}[Int[] for i = 1:length(partitions)]\n",
    "    for (n, λ) ∈ enumerate(partitions), (m, μ) ∈ enumerate(partitions)\n",
    "        if ⪰(λ, μ)\n",
    "            push!(edges[n], m)\n",
    "        end\n",
    "    end\n",
    "    \n",
    "    sorted_partitions = AbstractPartition[]\n",
    "    visited = [false for i = 1:length(partitions)]\n",
    "    \n",
    "    function dfs(n)\n",
    "        if visited[n]\n",
    "            return\n",
    "        end\n",
    "        visited[n] = true\n",
    "        for m in edges[n]\n",
    "            dfs(m)\n",
    "        end\n",
    "        push!(sorted_partitions, partitions[n])\n",
    "    end\n",
    "    \n",
    "    for i = 1:length(partitions)\n",
    "        if visited[i]\n",
    "            continue\n",
    "        end\n",
    "        dfs(i)\n",
    "    end\n",
    "    \n",
    "    return sorted_partitions[end:-1:begin]\n",
    "end"
   ]
  },
  {
   "cell_type": "markdown",
   "id": "f20563d7",
   "metadata": {},
   "source": [
    "Next, we write the function that computes the matrix $T^{mp}$"
   ]
  },
  {
   "cell_type": "code",
   "execution_count": 23,
   "id": "dfc58cb6",
   "metadata": {},
   "outputs": [
    {
     "data": {
      "text/plain": [
       "Tₚₘ (generic function with 1 method)"
      ]
     },
     "execution_count": 23,
     "metadata": {},
     "output_type": "execute_result"
    }
   ],
   "source": [
    "function Tₘₚ(n::Int)\n",
    "    T = Dict()\n",
    "    T[(Partition([1]), Partition([1]))] = 1\n",
    "    for k = 2:n\n",
    "        partitions = majorization_sort(\n",
    "            map(Partition, Combinatorics.integer_partitions(k))\n",
    "        )\n",
    "        λ = Partition([k])\n",
    "        T[(λ, λ)] = 1\n",
    "        for μ ∈ partitions[2:end]\n",
    "            T[(λ, μ)] = 0\n",
    "        end\n",
    "        for (p, λ) ∈ enumerate(partitions[2:end])\n",
    "            p += 1\n",
    "            for μ ∈ partitions[1:(p - 1)]\n",
    "                v = zeros(Int64, μ.part[1])\n",
    "                for i = 1:length(μ)\n",
    "                    v[μ.part[i]] += 1\n",
    "                end\n",
    "\n",
    "                t = zeros(Int64, 2 * λ.part[1] + 1)\n",
    "                for i = 1:length(λ)\n",
    "                    t[λ.part[i]] += 1\n",
    "                end\n",
    "\n",
    "                j = λ.part[1]\n",
    "                if j ≤ length(v) && v[j] > 0\n",
    "                    μ₀ = Int[]\n",
    "                    for r = 1:length(v)\n",
    "                        v₀ = (r == j ? v[r] - 1 : v[r])\n",
    "                        for ~ = 1:v₀\n",
    "                            push!(μ₀, r)\n",
    "                        end\n",
    "                    end\n",
    "                    μ₀ = Partition(μ₀[end:-1:begin])\n",
    "                    \n",
    "                    λ₀ = Int[]\n",
    "                    for r = 1:length(t)\n",
    "                        t₀ = (r == j ? t[r] - 1 : t[r])\n",
    "                        for ~ = 1:t₀\n",
    "                            push!(λ₀, r)\n",
    "                        end\n",
    "                    end\n",
    "                    λ₀ = Partition(λ₀[end:-1:begin])\n",
    "\n",
    "                    T[(λ, μ)] = T[(λ₀, μ₀)]\n",
    "                else\n",
    "                    T[(λ, μ)] = 0\n",
    "                end\n",
    "\n",
    "                for i = 1:length(t)\n",
    "                    δᵢⱼ = (i == j ? 1 : 0)\n",
    "                    if t[i] ≤ δᵢⱼ\n",
    "                        continue\n",
    "                    end\n",
    "                    λᵢ = Int[]\n",
    "                    for r = 1:length(t)\n",
    "                        tᵢ = t[r]\n",
    "                        if r == i + j\n",
    "                            tᵢ += 1\n",
    "                        elseif r == i || r == j\n",
    "                            tᵢ -= 1 + δᵢⱼ\n",
    "                        end\n",
    "                        for ~ = 1:tᵢ\n",
    "                            push!(λᵢ, r)\n",
    "                        end\n",
    "                    end\n",
    "                    λᵢ = Partition(λᵢ[end:-1:begin])\n",
    "                    T[(λ, μ)] -= (t[i] - δᵢⱼ) * T[(λᵢ, μ)]\n",
    "                end\n",
    "            end\n",
    "        \n",
    "            T[(λ, λ)] = 1\n",
    "\n",
    "            for μ ∈ partitions[(p + 1):end]\n",
    "                T[(λ, μ)] = 0\n",
    "            end\n",
    "        end\n",
    "    end\n",
    "    \n",
    "    partitions = majorization_sort(\n",
    "        map(Partition, Combinatorics.integer_partitions(n))\n",
    "    )\n",
    "        \n",
    "    for λ ∈ partitions, μ ∈ partitions \n",
    "        t = zeros(Int64, λ.part[1])\n",
    "        for i = 1:length(λ)\n",
    "            t[λ.part[i]] += 1\n",
    "        end\n",
    "        for i = 1:length(t)\n",
    "            T[(λ, μ)] //= factorial(t[i])\n",
    "        end\n",
    "    end\n",
    "    \n",
    "    return T\n",
    "end\n",
    "\n",
    "\n",
    "function Tₚₘ(n::Int)\n",
    "    T = Tₘₚ(n)\n",
    "    partitions = map(Partition, Combinatorics.integer_partitions(n))\n",
    "    \n",
    "    matrix = zeros(Rational{BigInt}, length(partitions), length(partitions))\n",
    "    for (i, λ) ∈ enumerate(partitions), (j, μ) ∈ enumerate(partitions)\n",
    "        matrix[i, j] = T[(λ, μ)]\n",
    "    end\n",
    "    inv_matrix = inv(matrix)\n",
    "    \n",
    "    result = Dict()\n",
    "    for (i, λ) ∈ enumerate(partitions), (j, μ) ∈ enumerate(partitions)\n",
    "        result[(λ, μ)] = inv_matrix[i, j]\n",
    "    end\n",
    "    return result\n",
    "end"
   ]
  },
  {
   "cell_type": "markdown",
   "id": "ba5af15d",
   "metadata": {},
   "source": [
    "Example:"
   ]
  },
  {
   "cell_type": "code",
   "execution_count": 24,
   "id": "92b5bfeb",
   "metadata": {},
   "outputs": [
    {
     "data": {
      "text/plain": [
       "Dict{Any, Any} with 25 entries:\n",
       "  (3₁1₁, 4₁)   => 1//1\n",
       "  (2₂, 3₁1₁)   => 0//1\n",
       "  (2₂, 2₂)     => 2//1\n",
       "  (4₁, 2₁1₂)   => 0//1\n",
       "  (4₁, 1₄)     => 0//1\n",
       "  (1₄, 3₁1₁)   => 4//1\n",
       "  (1₄, 2₂)     => 6//1\n",
       "  (2₂, 4₁)     => 1//1\n",
       "  (1₄, 4₁)     => 1//1\n",
       "  (4₁, 3₁1₁)   => 0//1\n",
       "  (4₁, 2₂)     => 0//1\n",
       "  (2₁1₂, 3₁1₁) => 2//1\n",
       "  (4₁, 4₁)     => 1//1\n",
       "  (2₁1₂, 1₄)   => 0//1\n",
       "  (2₂, 2₁1₂)   => 0//1\n",
       "  (3₁1₁, 3₁1₁) => 1//1\n",
       "  (3₁1₁, 1₄)   => 0//1\n",
       "  (2₁1₂, 2₂)   => 2//1\n",
       "  (2₂, 1₄)     => 0//1\n",
       "  (1₄, 2₁1₂)   => 12//1\n",
       "  (3₁1₁, 2₂)   => 0//1\n",
       "  (1₄, 1₄)     => 24//1\n",
       "  (2₁1₂, 2₁1₂) => 2//1\n",
       "  (3₁1₁, 2₁1₂) => 0//1\n",
       "  (2₁1₂, 4₁)   => 1//1"
      ]
     },
     "execution_count": 24,
     "metadata": {},
     "output_type": "execute_result"
    }
   ],
   "source": [
    "Tₚₘ(4)"
   ]
  },
  {
   "cell_type": "markdown",
   "id": "e5f2e0c0",
   "metadata": {},
   "source": [
    "Now, we can compute the matrix $T^{jm}$:"
   ]
  },
  {
   "cell_type": "code",
   "execution_count": 25,
   "id": "dd5553e8",
   "metadata": {},
   "outputs": [
    {
     "data": {
      "text/plain": [
       "Tⱼₘ (generic function with 1 method)"
      ]
     },
     "execution_count": 25,
     "metadata": {},
     "output_type": "execute_result"
    }
   ],
   "source": [
    "function Tⱼₘ(n::Int, θ)\n",
    "    partitions = map(Partition, Combinatorics.integer_partitions(n))\n",
    "    T = Dict(\n",
    "        (λ, μ) => zero(α)\n",
    "        for λ ∈ partitions, μ ∈ partitions \n",
    "    )\n",
    "    \n",
    "    T_pm = Tₚₘ(n)\n",
    "    for λ ∈ partitions, μ ∈ partitions, ρ ∈ partitions\n",
    "        T[(λ, μ)] += θ[(λ, ρ)] * T_pm[(ρ, μ)]\n",
    "    end\n",
    "    return T\n",
    "end"
   ]
  },
  {
   "cell_type": "markdown",
   "id": "5c482a0e",
   "metadata": {},
   "source": [
    "**Example:**"
   ]
  },
  {
   "cell_type": "code",
   "execution_count": 26,
   "id": "9bd50a1e",
   "metadata": {},
   "outputs": [
    {
     "data": {
      "text/plain": [
       "Dict{Tuple{AbstractAlgebra.Generic.Partition{Int64}, AbstractAlgebra.Generic.Partition{Int64}}, AbstractAlgebra.Generic.Poly{Rational{BigInt}}} with 49 entries:\n",
       "  (2₁1₃, 2₂1₁) => 0\n",
       "  (2₁1₃, 3₁2₁) => 0\n",
       "  (2₂1₁, 1₅)   => 120\n",
       "  (1₅, 2₂1₁)   => 0\n",
       "  (4₁1₁, 2₁1₃) => 36*α + 54\n",
       "  (3₁1₂, 5₁)   => 0\n",
       "  (3₁2₁, 1₅)   => 120\n",
       "  (4₁1₁, 3₁1₂) => 16*α^2 + 30*α + 14\n",
       "  (5₁, 2₂1₁)   => 30*α^2 + 60*α + 30\n",
       "  (3₁1₂, 4₁1₁) => 0\n",
       "  (1₅, 2₁1₃)   => 0\n",
       "  (2₁1₃, 2₁1₃) => 6*α + 24\n",
       "  (2₁1₃, 3₁1₂) => 0\n",
       "  (5₁, 2₁1₃)   => 60*α + 60\n",
       "  (4₁1₁, 5₁)   => 0\n",
       "  (1₅, 3₁2₁)   => 0\n",
       "  (4₁1₁, 4₁1₁) => 6*α^3 + 13*α^2 + 9*α + 2\n",
       "  (5₁, 3₁2₁)   => 20*α^3 + 50*α^2 + 40*α + 10\n",
       "  (2₂1₁, 2₂1₁) => 2*α^2 + 10*α + 12\n",
       "  (2₂1₁, 3₁2₁) => 0\n",
       "  (3₁2₁, 2₂1₁) => 6*α^2 + 22*α + 20\n",
       "  (3₁2₁, 3₁2₁) => 2*α^3 + 8*α^2 + 10*α + 4\n",
       "  (2₁1₃, 5₁)   => 0\n",
       "  (3₁1₂, 1₅)   => 120\n",
       "  (2₁1₃, 4₁1₁) => 0\n",
       "  ⋮            => ⋮"
      ]
     },
     "execution_count": 26,
     "metadata": {},
     "output_type": "execute_result"
    }
   ],
   "source": [
    "Tⱼₘ(5, θ)"
   ]
  },
  {
   "cell_type": "markdown",
   "id": "2f9eccd8",
   "metadata": {},
   "source": [
    " This example shows that the coefficient of the monomial symmetric function $m_{1^n}$ is equal to $n!$ for all $\\lambda$, which coincides with the theoretical value. In particular, this means that the formula\n",
    " \n",
    " $$\n",
    " \\sum_{\\rho \\vdash n}\\mathrm{coset}(\\rho) \\cdot \\omega_\\lambda(\\rho) = \\omega_\\lambda(\\mu) \\cdot T^{jm}(\\lambda, \\lambda(i)) \\cdot T^{jm}(\\lambda, \\lambda(j))\n",
    " $$\n",
    " \n",
    " automatically holds if $i=(1, \\dots, n)$ and $j=(1, \\dots, n)$: both left- and right-hand sides are equal to $(n!)^2 \\cdot \\omega_\\lambda(\\mu)$."
   ]
  },
  {
   "cell_type": "markdown",
   "id": "f4dcf587",
   "metadata": {},
   "source": [
    "Now, it's time to check the equation:"
   ]
  },
  {
   "cell_type": "code",
   "execution_count": 27,
   "id": "acdd7e7d",
   "metadata": {},
   "outputs": [
    {
     "data": {
      "text/plain": [
       "120-element Vector{Vector{Int64}}:\n",
       " [1, 2, 3, 4, 5]\n",
       " [1, 2, 3, 5, 4]\n",
       " [1, 2, 4, 3, 5]\n",
       " [1, 2, 4, 5, 3]\n",
       " [1, 2, 5, 3, 4]\n",
       " [1, 2, 5, 4, 3]\n",
       " [1, 3, 2, 4, 5]\n",
       " [1, 3, 2, 5, 4]\n",
       " [1, 3, 4, 2, 5]\n",
       " [1, 3, 4, 5, 2]\n",
       " [1, 3, 5, 2, 4]\n",
       " [1, 3, 5, 4, 2]\n",
       " [1, 4, 2, 3, 5]\n",
       " ⋮\n",
       " [5, 3, 1, 2, 4]\n",
       " [5, 3, 1, 4, 2]\n",
       " [5, 3, 2, 1, 4]\n",
       " [5, 3, 2, 4, 1]\n",
       " [5, 3, 4, 1, 2]\n",
       " [5, 3, 4, 2, 1]\n",
       " [5, 4, 1, 2, 3]\n",
       " [5, 4, 1, 3, 2]\n",
       " [5, 4, 2, 1, 3]\n",
       " [5, 4, 2, 3, 1]\n",
       " [5, 4, 3, 1, 2]\n",
       " [5, 4, 3, 2, 1]"
      ]
     },
     "execution_count": 27,
     "metadata": {},
     "output_type": "execute_result"
    }
   ],
   "source": [
    "permutations(i_indices)"
   ]
  },
  {
   "cell_type": "code",
   "execution_count": 28,
   "id": "25981c80",
   "metadata": {},
   "outputs": [
    {
     "name": "stdout",
     "output_type": "stream",
     "text": [
      "Dict{AbstractAlgebra.Generic.Partition{Int64}, Int64}(3₁1₁ => 1008, 1₄ => 36, 4₁ => 1440, 2₂ => 360, 2₁1₂ => 396)\n"
     ]
    },
    {
     "data": {
      "text/plain": [
       "Dict{AbstractAlgebra.Generic.Partition{Int64}, AbstractAlgebra.Generic.Frac{AbstractAlgebra.Generic.Poly{Rational{BigInt}}}} with 5 entries:\n",
       "  3₁1₁ => (-4*α^4 - 8*α^3 + 980*α - 1832)//(α^3 + 7//3*α^2 + 5//3*α + 1//3)\n",
       "  1₄   => (36*α^3 - 396*α^2 + 1368*α - 1440)//(α^3 + 6*α^2 + 11*α + 6)\n",
       "  4₁   => (-8*α^4 - 28*α^3 - 36*α^2 - 20*α + 536)//(α^3 + 11//6*α^2 + α + 1//6)\n",
       "  2₂   => (864*α^2 - 2268*α + 1080)//(α^4 + 9//2*α^3 + 7*α^2 + 9//2*α + 1)\n",
       "  2₁1₂ => (612*α^2 - 3420*α + 4392)//(α^3 + 5*α^2 + 7*α + 3)"
      ]
     },
     "execution_count": 28,
     "metadata": {},
     "output_type": "execute_result"
    }
   ],
   "source": [
    "n = 4\n",
    "ω = generate_ω_matrix(n, α)\n",
    "T_jm = Tⱼₘ(n, θ)\n",
    "\n",
    "i_indices = [1, 1, 1, 2]\n",
    "λᵢ = Partition([3, 1])\n",
    "\n",
    "j_indices = [1, 1, 2, 2]\n",
    "λⱼ = Partition([2, 2])\n",
    "\n",
    "μ = Partition([3, 1])\n",
    "\n",
    "println(get_lhs_monomial_coef(μ, i_indices, j_indices))\n",
    "\n",
    "lhs = get_lhs_monomial_coef_2(μ, i_indices, j_indices, ω)\n",
    "partitions = map(Partition, Combinatorics.integer_partitions(n))\n",
    "\n",
    "rhs = Dict(\n",
    "    λ => ω[(λ, μ)] * T_jm[(λ, λᵢ)] * T_jm[(λ, λⱼ)]\n",
    "    for λ in partitions\n",
    ")\n",
    "diff = Dict(\n",
    "    λ => lhs[λ] - rhs[λ]\n",
    "    for λ ∈ partitions \n",
    ")"
   ]
  },
  {
   "cell_type": "markdown",
   "id": "4a950270",
   "metadata": {},
   "source": [
    "As we can see, all the entries are non-zero. At the same time, they are zero for $\\alpha=2 \\Leftrightarrow \\beta=1$."
   ]
  },
  {
   "cell_type": "code",
   "execution_count": 29,
   "id": "01405231",
   "metadata": {},
   "outputs": [
    {
     "name": "stdout",
     "output_type": "stream",
     "text": [
      "1₄ => 0//1\n",
      "2₁1₂ => 0//1\n",
      "2₂ => 0//1\n",
      "3₁1₁ => 0//1\n",
      "4₁ => 0//1\n"
     ]
    }
   ],
   "source": [
    "for λ ∈ partitions\n",
    "    println(\"$(λ) => $(evaluate(diff[λ], 2//1))\")\n",
    "end"
   ]
  },
  {
   "cell_type": "markdown",
   "id": "8f7b1c0a",
   "metadata": {},
   "source": [
    "So, probably we don't have any obvious mistakes."
   ]
  }
 ],
 "metadata": {
  "@webio": {
   "lastCommId": null,
   "lastKernelId": null
  },
  "kernelspec": {
   "display_name": "Julia 1.6.2",
   "language": "julia",
   "name": "julia-1.6"
  },
  "language_info": {
   "file_extension": ".jl",
   "mimetype": "application/julia",
   "name": "julia",
   "version": "1.6.2"
  }
 },
 "nbformat": 4,
 "nbformat_minor": 5
}
