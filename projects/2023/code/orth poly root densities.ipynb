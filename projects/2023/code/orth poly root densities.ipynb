{
 "cells": [
  {
   "cell_type": "code",
   "execution_count": 1,
   "id": "439f0813",
   "metadata": {},
   "outputs": [],
   "source": [
    "using LinearAlgebra, Polynomials, SpecialPolynomials, Plots"
   ]
  },
  {
   "cell_type": "code",
   "execution_count": 2,
   "id": "4781f83f",
   "metadata": {},
   "outputs": [
    {
     "data": {
      "text/plain": [
       "HermiteNormalised (generic function with 1 method)"
      ]
     },
     "execution_count": 2,
     "metadata": {},
     "output_type": "execute_result"
    }
   ],
   "source": [
    "HermiteNormalised(n,x)=[Hermite([zeros(n);1])(y) for y in x] ./ (Float64(factorial(big(n)))^(1/2) * pi^0.25 * 2^(n/2))"
   ]
  },
  {
   "cell_type": "code",
   "execution_count": 3,
   "id": "ff07bdce",
   "metadata": {},
   "outputs": [
    {
     "data": {
      "text/plain": [
       "OrthHermite (generic function with 1 method)"
      ]
     },
     "execution_count": 3,
     "metadata": {},
     "output_type": "execute_result"
    }
   ],
   "source": [
    "OrthHermite(vec)= Hermite(vec ./ [(Float64(factorial(big(n)))^(1/2) * pi^0.25 * 2^(n/2)) for n=1:length(vec)])"
   ]
  },
  {
   "cell_type": "code",
   "execution_count": 5,
   "id": "45911490",
   "metadata": {},
   "outputs": [
    {
     "data": {
      "text/plain": [
       "\"C:\\\\Users\\\\Harry\\\\Documents\\\\MIT\\\\18338\\\\jplot_hermitebasis_200_1000.svg\""
      ]
     },
     "execution_count": 5,
     "metadata": {},
     "output_type": "execute_result"
    }
   ],
   "source": [
    "function ReFromCVec(CVec)\n",
    "    IsRealEWise=[isreal(el) for el in CVec]\n",
    "    return real(CVec[IsRealEWise])\n",
    "end\n",
    "function HermiteRootSim(n,nTrials)\n",
    "    ReRoots = vcat([ReFromCVec(roots(OrthHermite(randn(n+1)))) for i in 1:nTrials]...)\n",
    "    return ReRoots\n",
    "end\n",
    "#histogram()\n",
    "deg=200\n",
    "ntrials=1000\n",
    "histogram(HermiteRootSim(deg,ntrials),bins=range(-20, 20, length=101),label=\"Simulated\",normalize=:pdf)\n",
    "savefig(\"jplot_hermitebasis_\"*string(deg)*\"_\"*string(ntrials)*\".svg\")"
   ]
  },
  {
   "cell_type": "code",
   "execution_count": null,
   "id": "66080e43",
   "metadata": {},
   "outputs": [],
   "source": []
  }
 ],
 "metadata": {
  "kernelspec": {
   "display_name": "Julia 1.9.3",
   "language": "julia",
   "name": "julia-1.9"
  },
  "language_info": {
   "file_extension": ".jl",
   "mimetype": "application/julia",
   "name": "julia",
   "version": "1.9.3"
  }
 },
 "nbformat": 4,
 "nbformat_minor": 5
}
