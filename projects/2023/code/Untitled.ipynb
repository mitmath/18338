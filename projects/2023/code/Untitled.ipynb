{
 "cells": [
  {
   "cell_type": "code",
   "execution_count": 37,
   "id": "505a0972",
   "metadata": {
    "scrolled": true
   },
   "outputs": [
    {
     "name": "stderr",
     "output_type": "stream",
     "text": [
      "WARNING: replacing module RandomMatrices.\n"
     ]
    },
    {
     "ename": "LoadError",
     "evalue": "LoadError: ArgumentError: Package SpecialFunctions not found in current path.\n- Run `import Pkg; Pkg.add(\"SpecialFunctions\")` to install the SpecialFunctions package.\nin expression starting at C:\\Users\\Harry\\Documents\\MIT\\18338\\RandomMatrices.jl-0.5.0\\src\\RandomMatrices.jl:1",
     "output_type": "error",
     "traceback": [
      "LoadError: ArgumentError: Package SpecialFunctions not found in current path.\n- Run `import Pkg; Pkg.add(\"SpecialFunctions\")` to install the SpecialFunctions package.\nin expression starting at C:\\Users\\Harry\\Documents\\MIT\\18338\\RandomMatrices.jl-0.5.0\\src\\RandomMatrices.jl:1",
      "",
      "Stacktrace:",
      " [1] macro expansion",
      "   @ .\\loading.jl:1630 [inlined]",
      " [2] macro expansion",
      "   @ .\\lock.jl:267 [inlined]",
      " [3] require(into::Module, mod::Symbol)",
      "   @ Base .\\loading.jl:1611",
      " [4] include(fname::String)",
      "   @ Base.MainInclude .\\client.jl:478",
      " [5] top-level scope",
      "   @ In[37]:1"
     ]
    }
   ],
   "source": [
    "include(\"./RandomMatrices.jl-0.5.0/src/RandomMatrices.jl\")"
   ]
  },
  {
   "cell_type": "code",
   "execution_count": 27,
   "id": "8cc2900d",
   "metadata": {},
   "outputs": [
    {
     "data": {
      "text/plain": [
       "compute_laguerre (generic function with 1 method)"
      ]
     },
     "execution_count": 27,
     "metadata": {},
     "output_type": "execute_result"
    }
   ],
   "source": [
    "using SpecialPolynomials, RandomMatrices #is this pseudo? copied from book\n",
    "function compute_laguerre(n, a, x, all )  \n",
    "    B= diag(sqrt((a + 1 +(0:n) ) ) ) ; #% diagonal\n",
    "    B=B− diag( sqrt((1:n) ) , 1) ; #% superdiagonal\n",
    "    T = B' ∗ B;\n",
    "    c= gamma(a+1) ; #%Integral of weight function\n",
    "    #if nargin==3, all =1; end\n",
    "    #else;\n",
    "        phi = orthopoly_evaluate(T, x , all ) ;\n",
    "        phi = phi /sqrt(c);\n",
    "    return phi\n",
    "end"
   ]
  },
  {
   "cell_type": "code",
   "execution_count": 30,
   "id": "cb6ef82d",
   "metadata": {},
   "outputs": [
    {
     "ename": "LoadError",
     "evalue": "MethodError: no method matching +(::Int64, ::UnitRange{Int64})\nFor element-wise addition, use broadcasting with dot syntax: scalar .+ array\n\n\u001b[0mClosest candidates are:\n\u001b[0m  +(::Any, ::Any, \u001b[91m::Any\u001b[39m, \u001b[91m::Any...\u001b[39m)\n\u001b[0m\u001b[90m   @\u001b[39m \u001b[90mBase\u001b[39m \u001b[90m\u001b[4moperators.jl:578\u001b[24m\u001b[39m\n\u001b[0m  +(::T, \u001b[91m::T\u001b[39m) where T<:Union{Int128, Int16, Int32, Int64, Int8, UInt128, UInt16, UInt32, UInt64, UInt8}\n\u001b[0m\u001b[90m   @\u001b[39m \u001b[90mBase\u001b[39m \u001b[90m\u001b[4mint.jl:87\u001b[24m\u001b[39m\n\u001b[0m  +(\u001b[91m::Distributions.MvNormal\u001b[39m, ::AbstractVector)\n\u001b[0m\u001b[90m   @\u001b[39m \u001b[36mDistributions\u001b[39m \u001b[90mC:\\Users\\Harry\\.julia\\packages\\Distributions\\Ufrz2\\src\\multivariate\\\u001b[39m\u001b[90m\u001b[4mmvnormal.jl:294\u001b[24m\u001b[39m\n\u001b[0m  ...\n",
     "output_type": "error",
     "traceback": [
      "MethodError: no method matching +(::Int64, ::UnitRange{Int64})\nFor element-wise addition, use broadcasting with dot syntax: scalar .+ array\n\n\u001b[0mClosest candidates are:\n\u001b[0m  +(::Any, ::Any, \u001b[91m::Any\u001b[39m, \u001b[91m::Any...\u001b[39m)\n\u001b[0m\u001b[90m   @\u001b[39m \u001b[90mBase\u001b[39m \u001b[90m\u001b[4moperators.jl:578\u001b[24m\u001b[39m\n\u001b[0m  +(::T, \u001b[91m::T\u001b[39m) where T<:Union{Int128, Int16, Int32, Int64, Int8, UInt128, UInt16, UInt32, UInt64, UInt8}\n\u001b[0m\u001b[90m   @\u001b[39m \u001b[90mBase\u001b[39m \u001b[90m\u001b[4mint.jl:87\u001b[24m\u001b[39m\n\u001b[0m  +(\u001b[91m::Distributions.MvNormal\u001b[39m, ::AbstractVector)\n\u001b[0m\u001b[90m   @\u001b[39m \u001b[36mDistributions\u001b[39m \u001b[90mC:\\Users\\Harry\\.julia\\packages\\Distributions\\Ufrz2\\src\\multivariate\\\u001b[39m\u001b[90m\u001b[4mmvnormal.jl:294\u001b[24m\u001b[39m\n\u001b[0m  ...\n",
      "",
      "Stacktrace:",
      " [1] +",
      "   @ .\\operators.jl:578 [inlined]",
      " [2] compute_laguerre(n::Int64, a::Int64, x::StepRangeLen{Float64, Base.TwicePrecision{Float64}, Base.TwicePrecision{Float64}, Int64}, all::Int64)",
      "   @ Main .\\In[27]:3",
      " [3] top-level scope",
      "   @ In[30]:2"
     ]
    }
   ],
   "source": [
    "x=range(-2,2,100);\n",
    "compute_laguerre(5,1,x,1)"
   ]
  },
  {
   "cell_type": "code",
   "execution_count": 28,
   "id": "4bc0d8ae",
   "metadata": {},
   "outputs": [
    {
     "name": "stdout",
     "output_type": "stream",
     "text": [
      "search:\n",
      "\n",
      "Couldn't find \u001b[36morthopoly_evaluate\u001b[39m\n",
      "Perhaps you meant OrthonormalLaguerre\n"
     ]
    },
    {
     "data": {
      "text/latex": [
       "No documentation found.\n",
       "\n",
       "Binding \\texttt{orthopoly\\_evaluate} does not exist.\n",
       "\n"
      ],
      "text/markdown": [
       "No documentation found.\n",
       "\n",
       "Binding `orthopoly_evaluate` does not exist.\n"
      ],
      "text/plain": [
       "  No documentation found.\n",
       "\n",
       "  Binding \u001b[36morthopoly_evaluate\u001b[39m does not exist."
      ]
     },
     "execution_count": 28,
     "metadata": {},
     "output_type": "execute_result"
    }
   ],
   "source": [
    "?orthopoly_evaluate"
   ]
  },
  {
   "cell_type": "code",
   "execution_count": 31,
   "id": "541025ed",
   "metadata": {},
   "outputs": [],
   "source": [
    "using SpecialPolynomials, RandomMatrices"
   ]
  },
  {
   "cell_type": "code",
   "execution_count": 32,
   "id": "67f77960",
   "metadata": {},
   "outputs": [
    {
     "name": "stdout",
     "output_type": "stream",
     "text": [
      "search: \u001b[0m\u001b[1mc\u001b[22m\u001b[0m\u001b[1mo\u001b[22m\u001b[0m\u001b[1mm\u001b[22m\u001b[0m\u001b[1mp\u001b[22m\u001b[0m\u001b[1mu\u001b[22m\u001b[0m\u001b[1mt\u001b[22m\u001b[0m\u001b[1me\u001b[22m\u001b[0m\u001b[1m_\u001b[22m\u001b[0m\u001b[1ml\u001b[22m\u001b[0m\u001b[1ma\u001b[22m\u001b[0m\u001b[1mg\u001b[22m\u001b[0m\u001b[1mu\u001b[22m\u001b[0m\u001b[1me\u001b[22m\u001b[0m\u001b[1mr\u001b[22m\u001b[0m\u001b[1mr\u001b[22m\u001b[0m\u001b[1me\u001b[22m\n",
      "\n"
     ]
    },
    {
     "data": {
      "text/latex": [
       "No documentation found.\n",
       "\n",
       "\\texttt{compute\\_laguerre} is a \\texttt{Function}.\n",
       "\n",
       "\\begin{verbatim}\n",
       "# 1 method for generic function \"compute_laguerre\" from Main:\n",
       " [1] compute_laguerre(n, a, x, all)\n",
       "     @ In[27]:2\n",
       "\\end{verbatim}\n"
      ],
      "text/markdown": [
       "No documentation found.\n",
       "\n",
       "`compute_laguerre` is a `Function`.\n",
       "\n",
       "```\n",
       "# 1 method for generic function \"compute_laguerre\" from Main:\n",
       " [1] compute_laguerre(n, a, x, all)\n",
       "     @ In[27]:2\n",
       "```\n"
      ],
      "text/plain": [
       "  No documentation found.\n",
       "\n",
       "  \u001b[36mcompute_laguerre\u001b[39m is a \u001b[36mFunction\u001b[39m.\n",
       "\n",
       "\u001b[36m  # 1 method for generic function \"compute_laguerre\" from Main:\u001b[39m\n",
       "\u001b[36m   [1] compute_laguerre(n, a, x, all)\u001b[39m\n",
       "\u001b[36m       @ In[27]:2\u001b[39m"
      ]
     },
     "execution_count": 32,
     "metadata": {},
     "output_type": "execute_result"
    }
   ],
   "source": [
    "?compute_laguerre"
   ]
  },
  {
   "cell_type": "code",
   "execution_count": null,
   "id": "1e8be4f2",
   "metadata": {},
   "outputs": [],
   "source": []
  }
 ],
 "metadata": {
  "kernelspec": {
   "display_name": "Julia 1.9.3",
   "language": "julia",
   "name": "julia-1.9"
  },
  "language_info": {
   "file_extension": ".jl",
   "mimetype": "application/julia",
   "name": "julia",
   "version": "1.9.3"
  }
 },
 "nbformat": 4,
 "nbformat_minor": 5
}
