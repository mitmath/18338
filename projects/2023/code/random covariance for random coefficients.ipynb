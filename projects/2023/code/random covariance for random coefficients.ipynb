{
 "cells": [
  {
   "cell_type": "code",
   "execution_count": 21,
   "id": "37136861",
   "metadata": {},
   "outputs": [],
   "source": [
    "using LinearAlgebra, Polynomials, Plots, Distributions, QuadGK"
   ]
  },
  {
   "cell_type": "code",
   "execution_count": 28,
   "id": "ec21fa72",
   "metadata": {},
   "outputs": [
    {
     "data": {
      "text/plain": [
       "randn_Cov (generic function with 1 method)"
      ]
     },
     "execution_count": 28,
     "metadata": {},
     "output_type": "execute_result"
    }
   ],
   "source": [
    "RootSim_Cov(n,nTrials,C)=vcat([ReFromCVec(roots(Polynomial(randn_Cov(deg,C)))) for i in 1:nTrials]...)\n",
    "function ReFromCVec(CVec)\n",
    "    IsRealEWise=[isreal(el) for el in CVec]\n",
    "    return real(CVec[IsRealEWise])\n",
    "end\n",
    "function randn_Cov(deg,C)\n",
    "    mean = zeros(deg+1)\n",
    "    d = MvNormal(mean, C)\n",
    "    return rand(d)\n",
    "end"
   ]
  },
  {
   "cell_type": "code",
   "execution_count": 50,
   "id": "f1df4794",
   "metadata": {},
   "outputs": [
    {
     "data": {
      "text/plain": [
       "16"
      ]
     },
     "execution_count": 50,
     "metadata": {},
     "output_type": "execute_result"
    }
   ],
   "source": [
    "deg=3\n",
    "nTrials=100000\n",
    "#draw cov once\n",
    "C=randn((deg+1,deg+1))\n",
    "C=C'*C\n",
    "G(t)=[t^k for k in 0:deg]\n",
    "Gp(t)=[0;[k*t^(k-1) for k=1:deg]]\n",
    "p(x)=sqrt((Gp(x)'*C*Gp(x))*(G(x)'*C*G(x))-(Gp(x)'*C*G(x))^2)/(G(x)'*C*G(x))\n",
    "E=quadgk(p,-Inf,Inf)[1]\n",
    "pmod(x)=p(x)/E\n",
    "histogram(RootSim_Cov(deg,nTrials,C),bins=range(-10, 10, length=101),label=\"Simulated\",normalize=:pdf)\n",
    "plot!(pmod, label=\"Analytical\", lw=2, color=:red)\n",
    "savefig(\"randomcov_\"*string(tick)*\".png\")\n",
    "tick=tick+1"
   ]
  },
  {
   "cell_type": "code",
   "execution_count": 32,
   "id": "8b8bee69",
   "metadata": {},
   "outputs": [
    {
     "data": {
      "text/plain": [
       "1"
      ]
     },
     "execution_count": 32,
     "metadata": {},
     "output_type": "execute_result"
    }
   ],
   "source": [
    "tick=1"
   ]
  },
  {
   "cell_type": "code",
   "execution_count": 34,
   "id": "bdb96718",
   "metadata": {},
   "outputs": [
    {
     "data": {
      "text/plain": [
       "\"1\""
      ]
     },
     "execution_count": 34,
     "metadata": {},
     "output_type": "execute_result"
    }
   ],
   "source": [
    "string(tick)"
   ]
  },
  {
   "cell_type": "code",
   "execution_count": null,
   "id": "fc7d3339",
   "metadata": {},
   "outputs": [],
   "source": []
  }
 ],
 "metadata": {
  "kernelspec": {
   "display_name": "Julia 1.9.3",
   "language": "julia",
   "name": "julia-1.9"
  },
  "language_info": {
   "file_extension": ".jl",
   "mimetype": "application/julia",
   "name": "julia",
   "version": "1.9.3"
  }
 },
 "nbformat": 4,
 "nbformat_minor": 5
}
