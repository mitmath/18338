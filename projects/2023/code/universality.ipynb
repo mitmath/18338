{
 "cells": [
  {
   "cell_type": "code",
   "execution_count": 1,
   "id": "37836489",
   "metadata": {},
   "outputs": [],
   "source": [
    "using Polynomials, SpecialPolynomials, Plots, SpecialFunctions, LinearAlgebra, Combinatorics, Distributions, StatsBase, QuadGK"
   ]
  },
  {
   "cell_type": "code",
   "execution_count": 16,
   "id": "fd9207fb",
   "metadata": {},
   "outputs": [
    {
     "data": {
      "text/plain": [
       "KostlanUnifRootSim (generic function with 1 method)"
      ]
     },
     "execution_count": 16,
     "metadata": {},
     "output_type": "execute_result"
    }
   ],
   "source": [
    "RootSim_Cov(n,nTrials,C)=vcat([ReFromCVec(roots(Polynomial(randn_Cov(deg,C)))) for i in 1:nTrials]...)\n",
    "function ReFromCVec(CVec)\n",
    "    IsRealEWise=[isreal(el) for el in CVec]\n",
    "    return real(CVec[IsRealEWise])\n",
    "end\n",
    "function rand_uvec(deg)\n",
    "    U=rand(deg+1)\n",
    "    U=2*U.-1\n",
    "    return U\n",
    "end\n",
    "BasicRootSim(n,nTrials)=vcat([ReFromCVec(roots(Polynomial(randn(n+1)))) for i in 1:nTrials]...)\n",
    "KostlanWeight(n)=[binomial(n,i)^(1/2) for i in 0:n]\n",
    "function KostlanUnifRootSim(n,nTrials)\n",
    "    K=KostlanWeight(n)\n",
    "    ReRoots = vcat([ReFromCVec(roots(Polynomial(K .* rand_uvec(deg)))) for i in 1:nTrials]...)\n",
    "    return ReRoots\n",
    "end\n",
    "#rand_c(N)=(randn(N)+im*randn(N))/sqrt(2)\n"
   ]
  },
  {
   "cell_type": "code",
   "execution_count": 27,
   "id": "af35baca",
   "metadata": {},
   "outputs": [
    {
     "data": {
      "text/plain": [
       "\"C:\\\\Users\\\\Harry\\\\Documents\\\\MIT\\\\18338\\\\unif_10.png\""
      ]
     },
     "execution_count": 27,
     "metadata": {},
     "output_type": "execute_result"
    }
   ],
   "source": [
    "deg=10\n",
    "nTrials=100000\n",
    "histogram(KostlanUnifRootSim(deg,nTrials),bins=range(-20, 20, length=101),label=\"Simulated\",normalize=:pdf)\n",
    "p(x)=1/(1+x^2)/pi\n",
    "plot!(p, label=\"Analytical\", lw=2, color=:red)\n",
    "savefig(\"unif_\"*string(deg)*\".png\")"
   ]
  },
  {
   "cell_type": "code",
   "execution_count": 42,
   "id": "bfc76217",
   "metadata": {},
   "outputs": [
    {
     "data": {
      "text/plain": [
       "KostlanBerRootSim (generic function with 1 method)"
      ]
     },
     "execution_count": 42,
     "metadata": {},
     "output_type": "execute_result"
    }
   ],
   "source": [
    "function rand_ber(deg)\n",
    "    U=[Float64(rand(Bernoulli(1/2))) for i in 0:deg]\n",
    "    U=2*U.-1\n",
    "    return U\n",
    "end\n",
    "BasicRootSim(n,nTrials)=vcat([ReFromCVec(roots(Polynomial(randn(n+1)))) for i in 1:nTrials]...)\n",
    "KostlanWeight(n)=[binomial(n,i)^(1/2) for i in 0:n]\n",
    "function KostlanBerRootSim(n,nTrials)\n",
    "    K=KostlanWeight(n)\n",
    "    ReRoots = vcat([ReFromCVec(roots(Polynomial(K .* rand_ber(deg)))) for i in 1:nTrials]...)\n",
    "    return ReRoots\n",
    "end"
   ]
  },
  {
   "cell_type": "code",
   "execution_count": 51,
   "id": "558995c4",
   "metadata": {},
   "outputs": [
    {
     "data": {
      "text/plain": [
       "\"C:\\\\Users\\\\Harry\\\\Documents\\\\MIT\\\\18338\\\\ber_40.png\""
      ]
     },
     "execution_count": 51,
     "metadata": {},
     "output_type": "execute_result"
    }
   ],
   "source": [
    "deg=40\n",
    "nTrials=100000\n",
    "histogram(KostlanBerRootSim(deg,nTrials),bins=range(-20, 20, length=101),label=\"Simulated\",normalize=:pdf)\n",
    "p(x)=1/(1+x^2)/pi\n",
    "plot!(p, label=\"Analytical\", lw=2, color=:red)\n",
    "savefig(\"ber_\"*string(deg)*\".png\")"
   ]
  },
  {
   "cell_type": "code",
   "execution_count": 41,
   "id": "96837ac8",
   "metadata": {},
   "outputs": [
    {
     "data": {
      "text/plain": [
       "0.0"
      ]
     },
     "execution_count": 41,
     "metadata": {},
     "output_type": "execute_result"
    }
   ],
   "source": [
    "Float64(rand(Bernoulli()))"
   ]
  },
  {
   "cell_type": "code",
   "execution_count": null,
   "id": "51cd2fc6",
   "metadata": {},
   "outputs": [],
   "source": []
  },
  {
   "cell_type": "code",
   "execution_count": null,
   "id": "f08c4254",
   "metadata": {},
   "outputs": [],
   "source": []
  }
 ],
 "metadata": {
  "kernelspec": {
   "display_name": "Julia 1.9.3",
   "language": "julia",
   "name": "julia-1.9"
  },
  "language_info": {
   "file_extension": ".jl",
   "mimetype": "application/julia",
   "name": "julia",
   "version": "1.9.3"
  }
 },
 "nbformat": 4,
 "nbformat_minor": 5
}
