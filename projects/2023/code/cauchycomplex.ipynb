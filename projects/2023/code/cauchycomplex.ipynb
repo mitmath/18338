{
 "cells": [
  {
   "cell_type": "code",
   "execution_count": 1,
   "id": "299768cc",
   "metadata": {},
   "outputs": [],
   "source": [
    "using Polynomials, SpecialPolynomials, Plots, SpecialFunctions, LinearAlgebra, Combinatorics, Distributions, StatsBase, QuadGK"
   ]
  },
  {
   "cell_type": "code",
   "execution_count": 2,
   "id": "dcd69cd4",
   "metadata": {},
   "outputs": [
    {
     "data": {
      "text/plain": [
       "rand_c (generic function with 1 method)"
      ]
     },
     "execution_count": 2,
     "metadata": {},
     "output_type": "execute_result"
    }
   ],
   "source": [
    "RootSim_Cov(n,nTrials,C)=vcat([ReFromCVec(roots(Polynomial(randn_Cov(deg,C)))) for i in 1:nTrials]...)\n",
    "function ReFromCVec(CVec)\n",
    "    IsRealEWise=[isreal(el) for el in CVec]\n",
    "    return real(CVec[IsRealEWise])\n",
    "end\n",
    "function randn_Cov(deg,C)\n",
    "    mean = zeros(deg+1)\n",
    "    d = MvNormal(mean, C)\n",
    "    return rand(d)\n",
    "end\n",
    "BasicRootSim(n,nTrials)=vcat([ReFromCVec(roots(Polynomial(randn(n+1)))) for i in 1:nTrials]...)\n",
    "KostlanWeight(n)=[binomial(n,i)^(1/2) for i in 0:n]\n",
    "function KostlanRootSim(n,nTrials)\n",
    "    K=KostlanWeight(n)\n",
    "    Roots = vcat([roots(Polynomial(K .* rand_c(n+1))) for i in 1:nTrials]...)\n",
    "    return Roots\n",
    "end\n",
    "rand_c(N)=(randn(N)+im*randn(N))/sqrt(2)\n"
   ]
  },
  {
   "cell_type": "code",
   "execution_count": 19,
   "id": "891cba1a",
   "metadata": {},
   "outputs": [
    {
     "data": {
      "text/plain": [
       "\"C:\\\\Users\\\\Harry\\\\Documents\\\\MIT\\\\18338\\\\binomial_full_complex.png\""
      ]
     },
     "execution_count": 19,
     "metadata": {},
     "output_type": "execute_result"
    }
   ],
   "source": [
    "deg=5\n",
    "nTrials=100000\n",
    "histogram(abs.(KostlanRootSim(deg,nTrials)),bins=range(0, 10, length=101),label=\"Simulated\",normalize=:pdf)\n",
    "p(x)=2*x/(1+x^2)^2\n",
    "plot!(p, label=\"Analytical\", lw=2, color=:red,ylims=(0,0.7))\n",
    "    savefig(\"binomial_full_complex.png\")"
   ]
  },
  {
   "cell_type": "code",
   "execution_count": 17,
   "id": "d7444f13",
   "metadata": {},
   "outputs": [
    {
     "name": "stdout",
     "output_type": "stream",
     "text": [
      "search: \u001b[0m\u001b[1mp\u001b[22m\u001b[0m\u001b[1ml\u001b[22m\u001b[0m\u001b[1mo\u001b[22m\u001b[0m\u001b[1mt\u001b[22m\u001b[0m\u001b[1m!\u001b[22m box\u001b[0m\u001b[1mp\u001b[22m\u001b[0m\u001b[1ml\u001b[22m\u001b[0m\u001b[1mo\u001b[22m\u001b[0m\u001b[1mt\u001b[22m\u001b[0m\u001b[1m!\u001b[22m area\u001b[0m\u001b[1mp\u001b[22m\u001b[0m\u001b[1ml\u001b[22m\u001b[0m\u001b[1mo\u001b[22m\u001b[0m\u001b[1mt\u001b[22m\u001b[0m\u001b[1m!\u001b[22m \u001b[0m\u001b[1mp\u001b[22m\u001b[0m\u001b[1ml\u001b[22m\u001b[0m\u001b[1mo\u001b[22m\u001b[0m\u001b[1mt\u001b[22m3d\u001b[0m\u001b[1m!\u001b[22m \u001b[0m\u001b[1mp\u001b[22martia\u001b[0m\u001b[1ml\u001b[22ms\u001b[0m\u001b[1mo\u001b[22mr\u001b[0m\u001b[1mt\u001b[22m\u001b[0m\u001b[1m!\u001b[22m \u001b[0m\u001b[1mp\u001b[22m\u001b[0m\u001b[1ml\u001b[22m\u001b[0m\u001b[1mo\u001b[22m\u001b[0m\u001b[1mt\u001b[22ms_heatmap\u001b[0m\u001b[1m!\u001b[22m\n",
      "\n"
     ]
    },
    {
     "data": {
      "text/latex": [
       "No documentation found.\n",
       "\n",
       "\\texttt{RecipesBase.plot!} is a \\texttt{Function}.\n",
       "\n",
       "\\begin{verbatim}\n",
       "# 4 methods for generic function \"plot!\" from RecipesBase:\n",
       " [1] plot!(sp::Plots.Subplot, args...; kw...)\n",
       "     @ Plots C:\\Users\\Harry\\.julia\\packages\\Plots\\sxUvK\\src\\plot.jl:292\n",
       " [2] plot!(plt1::Plots.Plot, plt2::Union{Plots.PlaceHolder, Plots.Plot}, plts_tail::Union{Plots.PlaceHolder, Plots.Plot}...; kw...)\n",
       "     @ Plots C:\\Users\\Harry\\.julia\\packages\\Plots\\sxUvK\\src\\plot.jl:113\n",
       " [3] plot!(plt::Plots.Plot, args...; kw...)\n",
       "     @ Plots C:\\Users\\Harry\\.julia\\packages\\Plots\\sxUvK\\src\\plot.jl:208\n",
       " [4] plot!(args...; kw...)\n",
       "     @ Plots C:\\Users\\Harry\\.julia\\packages\\Plots\\sxUvK\\src\\plot.jl:194\n",
       "\\end{verbatim}\n"
      ],
      "text/markdown": [
       "No documentation found.\n",
       "\n",
       "`RecipesBase.plot!` is a `Function`.\n",
       "\n",
       "```\n",
       "# 4 methods for generic function \"plot!\" from RecipesBase:\n",
       " [1] plot!(sp::Plots.Subplot, args...; kw...)\n",
       "     @ Plots C:\\Users\\Harry\\.julia\\packages\\Plots\\sxUvK\\src\\plot.jl:292\n",
       " [2] plot!(plt1::Plots.Plot, plt2::Union{Plots.PlaceHolder, Plots.Plot}, plts_tail::Union{Plots.PlaceHolder, Plots.Plot}...; kw...)\n",
       "     @ Plots C:\\Users\\Harry\\.julia\\packages\\Plots\\sxUvK\\src\\plot.jl:113\n",
       " [3] plot!(plt::Plots.Plot, args...; kw...)\n",
       "     @ Plots C:\\Users\\Harry\\.julia\\packages\\Plots\\sxUvK\\src\\plot.jl:208\n",
       " [4] plot!(args...; kw...)\n",
       "     @ Plots C:\\Users\\Harry\\.julia\\packages\\Plots\\sxUvK\\src\\plot.jl:194\n",
       "```\n"
      ],
      "text/plain": [
       "  No documentation found.\n",
       "\n",
       "  \u001b[36mRecipesBase.plot!\u001b[39m is a \u001b[36mFunction\u001b[39m.\n",
       "\n",
       "\u001b[36m  # 4 methods for generic function \"plot!\" from RecipesBase:\u001b[39m\n",
       "\u001b[36m   [1] plot!(sp::Plots.Subplot, args...; kw...)\u001b[39m\n",
       "\u001b[36m       @ Plots C:\\Users\\Harry\\.julia\\packages\\Plots\\sxUvK\\src\\plot.jl:292\u001b[39m\n",
       "\u001b[36m   [2] plot!(plt1::Plots.Plot, plt2::Union{Plots.PlaceHolder, Plots.Plot}, plts_tail::Union{Plots.PlaceHolder, Plots.Plot}...; kw...)\u001b[39m\n",
       "\u001b[36m       @ Plots C:\\Users\\Harry\\.julia\\packages\\Plots\\sxUvK\\src\\plot.jl:113\u001b[39m\n",
       "\u001b[36m   [3] plot!(plt::Plots.Plot, args...; kw...)\u001b[39m\n",
       "\u001b[36m       @ Plots C:\\Users\\Harry\\.julia\\packages\\Plots\\sxUvK\\src\\plot.jl:208\u001b[39m\n",
       "\u001b[36m   [4] plot!(args...; kw...)\u001b[39m\n",
       "\u001b[36m       @ Plots C:\\Users\\Harry\\.julia\\packages\\Plots\\sxUvK\\src\\plot.jl:194\u001b[39m"
      ]
     },
     "execution_count": 17,
     "metadata": {},
     "output_type": "execute_result"
    }
   ],
   "source": [
    "?plot!"
   ]
  },
  {
   "cell_type": "code",
   "execution_count": null,
   "id": "51ba1b8a",
   "metadata": {},
   "outputs": [],
   "source": []
  }
 ],
 "metadata": {
  "kernelspec": {
   "display_name": "Julia 1.9.3",
   "language": "julia",
   "name": "julia-1.9"
  },
  "language_info": {
   "file_extension": ".jl",
   "mimetype": "application/julia",
   "name": "julia",
   "version": "1.9.3"
  }
 },
 "nbformat": 4,
 "nbformat_minor": 5
}
