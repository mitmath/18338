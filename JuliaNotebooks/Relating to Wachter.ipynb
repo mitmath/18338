{
 "cells": [
  {
   "cell_type": "markdown",
   "metadata": {},
   "source": [
    "Theorem 3.1 in [wachter](https://projecteuclid.org/download/pdf_1/euclid.aos/1176345134) <br>\n",
    "Y is p(n) x n  (like our m1 by n) <br>\n",
    "J is nxn rank m (like our m2)"
   ]
  },
  {
   "cell_type": "code",
   "execution_count": 2,
   "metadata": {},
   "outputs": [],
   "source": [
    "using LinearAlgebra"
   ]
  },
  {
   "cell_type": "code",
   "execution_count": 4,
   "metadata": {},
   "outputs": [
    {
     "data": {
      "text/plain": [
       "5×3 Array{Float64,2}:\n",
       " -0.63202     2.08461    1.0785   \n",
       " -0.559729   -0.281099   0.792797 \n",
       "  0.0157243   0.890518  -0.0771519\n",
       " -1.42152    -0.90994    0.651328 \n",
       "  0.998898    1.96715   -0.248111 "
      ]
     },
     "execution_count": 4,
     "metadata": {},
     "output_type": "execute_result"
    }
   ],
   "source": [
    "m1,m2,n = 10,5,3\n",
    "A = randn(m1,n)\n",
    "B = randn(m2,n)"
   ]
  },
  {
   "cell_type": "code",
   "execution_count": 5,
   "metadata": {},
   "outputs": [],
   "source": [
    "# eigvals( Y*J*Y' , Y*Y')"
   ]
  },
  {
   "cell_type": "code",
   "execution_count": 125,
   "metadata": {},
   "outputs": [
    {
     "data": {
      "text/plain": [
       "2-element Array{Float64,1}:\n",
       " 0.8209988533114304\n",
       " 0.891814646831444 "
      ]
     },
     "execution_count": 125,
     "metadata": {},
     "output_type": "execute_result"
    }
   ],
   "source": [
    "m1,m2,n = 4,5,2\n",
    "nwach = m1 + m2\n",
    "pwach = n\n",
    "mwach = m1\n",
    "\n",
    "Q = qr(randn(nwach,mwach)).Q\n",
    "J = Q[:,1:mwach]*Q[:,1:mwach]'\n",
    "Y = randn(nwach,pwach)  # transpose of wachter\n",
    "(√).(eigvals( Y'*J*Y, Y'*Y))"
   ]
  },
  {
   "cell_type": "code",
   "execution_count": 126,
   "metadata": {},
   "outputs": [
    {
     "data": {
      "text/plain": [
       "2-element Array{Float64,1}:\n",
       " 0.8918146468314435\n",
       " 0.8209988533114301"
      ]
     },
     "execution_count": 126,
     "metadata": {},
     "output_type": "execute_result"
    }
   ],
   "source": [
    "x = svdvals(J*Y,Y)"
   ]
  },
  {
   "cell_type": "code",
   "execution_count": 127,
   "metadata": {},
   "outputs": [
    {
     "data": {
      "text/plain": [
       "2-element Array{Float64,1}:\n",
       " 1.9712925264103034\n",
       " 1.4380030521467504"
      ]
     },
     "execution_count": 127,
     "metadata": {},
     "output_type": "execute_result"
    }
   ],
   "source": [
    "svdvals(J*Y,(I-J)*Y)"
   ]
  },
  {
   "cell_type": "code",
   "execution_count": 128,
   "metadata": {},
   "outputs": [
    {
     "data": {
      "text/plain": [
       "2-element Array{Float64,1}:\n",
       " 1.9712925264102972\n",
       " 1.4380030521467473"
      ]
     },
     "execution_count": 128,
     "metadata": {},
     "output_type": "execute_result"
    }
   ],
   "source": [
    "x ./ sqrt.(1 .- x.^2)"
   ]
  },
  {
   "cell_type": "code",
   "execution_count": 129,
   "metadata": {},
   "outputs": [
    {
     "data": {
      "text/plain": [
       "2-element Array{Float64,1}:\n",
       " 1.9712925264103027\n",
       " 1.4380030521467502"
      ]
     },
     "execution_count": 129,
     "metadata": {},
     "output_type": "execute_result"
    }
   ],
   "source": [
    "svdvals(Q'J*Y,Q'*(I-J)*Y)"
   ]
  },
  {
   "cell_type": "code",
   "execution_count": 136,
   "metadata": {},
   "outputs": [
    {
     "data": {
      "text/plain": [
       "2-element Array{Float64,1}:\n",
       " 1.9712925264103027\n",
       " 1.4380030521467493"
      ]
     },
     "execution_count": 136,
     "metadata": {},
     "output_type": "execute_result"
    }
   ],
   "source": [
    "A = (Q'*  J * Y)[1:m1,:]\n",
    "B = (Q'*(I-J)*Y)[end-m2+1:end,:]\n",
    "svdvals(A,B)"
   ]
  },
  {
   "cell_type": "markdown",
   "metadata": {},
   "source": [
    "## A and B are independent Gaussians"
   ]
  },
  {
   "cell_type": "code",
   "execution_count": null,
   "metadata": {},
   "outputs": [],
   "source": []
  }
 ],
 "metadata": {
  "kernelspec": {
   "display_name": "Julia 1.2.0",
   "language": "julia",
   "name": "julia-1.2"
  },
  "language_info": {
   "file_extension": ".jl",
   "mimetype": "application/julia",
   "name": "julia",
   "version": "1.2.0"
  }
 },
 "nbformat": 4,
 "nbformat_minor": 2
}
