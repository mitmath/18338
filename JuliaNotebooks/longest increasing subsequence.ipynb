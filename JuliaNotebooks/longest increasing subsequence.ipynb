{
 "cells": [
  {
   "cell_type": "code",
   "execution_count": null,
   "metadata": {},
   "outputs": [],
   "source": [
    "using LinearAlgebra, Combinatorics, StatsBase"
   ]
  },
  {
   "cell_type": "code",
   "execution_count": 2,
   "metadata": {},
   "outputs": [
    {
     "data": {
      "text/plain": [
       "lis_mc (generic function with 2 methods)"
      ]
     },
     "execution_count": 2,
     "metadata": {},
     "output_type": "execute_result"
    }
   ],
   "source": [
    "function lis_mc(k,t=100_000)\n",
    "# monte carlo simulation\n",
    "# k is the permutation size\n",
    "c = zeros(k)\n",
    " \n",
    " for j=1:k\n",
    "   v = 0.0\n",
    "   for i=1:t\n",
    "    U, = qr(randn(j,j)+im*randn(j,j)) # random jxj unitary matrix with Haar measure\n",
    "    U *= Diagonal([exp(2*π*im*rand()) for i = 1:j])\n",
    "    v += (abs(tr(U)))^(2k)\n",
    "   end\n",
    "   c[j]=v/t \n",
    " end\n",
    " return c\n",
    "end"
   ]
  },
  {
   "cell_type": "code",
   "execution_count": 3,
   "metadata": {},
   "outputs": [
    {
     "data": {
      "text/plain": [
       "patiencesort (generic function with 1 method)"
      ]
     },
     "execution_count": 3,
     "metadata": {},
     "output_type": "execute_result"
    }
   ],
   "source": [
    "function patiencesort(p)\n",
    "    # p : Permutation\n",
    "    # Returns length of longest increasing subsequence\n",
    "    pile_tops = Int[]\n",
    "    for α ∈ p       \n",
    "        whichpile = 1+sum(α.>pile_tops) # first pile where α is smaller\n",
    "        if  whichpile ≤ length(pile_tops)\n",
    "            pile_tops[whichpile] = α   # put α on top of a pile  or ..\n",
    "        else\n",
    "            push!(pile_tops, α)        # create a new pile\n",
    "        end\n",
    "    end\n",
    "    return length(pile_tops)\n",
    "end"
   ]
  },
  {
   "cell_type": "code",
   "execution_count": 4,
   "metadata": {},
   "outputs": [
    {
     "data": {
      "text/plain": [
       "lis_theory (generic function with 1 method)"
      ]
     },
     "execution_count": 4,
     "metadata": {},
     "output_type": "execute_result"
    }
   ],
   "source": [
    "function lis_theory(k)\n",
    "    # exactly counts permutations with lis ≤ j for j=1,2,...,k\n",
    "    lis = [patiencesort(π) for π ∈ permutations(1:k)]\n",
    "    [sum(lis.≤j) for j=1:k]\n",
    "end"
   ]
  },
  {
   "cell_type": "code",
   "execution_count": 5,
   "metadata": {},
   "outputs": [
    {
     "data": {
      "text/plain": [
       "3×2 Array{Float64,2}:\n",
       " 1.0      1.0\n",
       " 5.01745  5.0\n",
       " 6.15273  6.0"
      ]
     },
     "execution_count": 5,
     "metadata": {},
     "output_type": "execute_result"
    }
   ],
   "source": [
    "[ lis_mc(3) lis_theory(3)]"
   ]
  },
  {
   "cell_type": "code",
   "execution_count": 7,
   "metadata": {},
   "outputs": [
    {
     "data": {
      "text/plain": [
       "4×2 Array{Float64,2}:\n",
       "  1.0      1.0\n",
       " 13.9892  14.0\n",
       " 22.8758  23.0\n",
       " 23.7943  24.0"
      ]
     },
     "execution_count": 7,
     "metadata": {},
     "output_type": "execute_result"
    }
   ],
   "source": [
    "[ lis_mc(4,1000000) lis_theory(4)]"
   ]
  },
  {
   "cell_type": "code",
   "execution_count": 8,
   "metadata": {},
   "outputs": [
    {
     "data": {
      "text/plain": [
       "5×2 Array{Float64,2}:\n",
       "   1.0       1.0\n",
       "  41.8723   42.0\n",
       " 102.868   103.0\n",
       " 119.204   119.0\n",
       " 116.125   120.0"
      ]
     },
     "execution_count": 8,
     "metadata": {},
     "output_type": "execute_result"
    }
   ],
   "source": [
    "[ lis_mc(5,1_000_000) lis_theory(5)]"
   ]
  }
 ],
 "metadata": {
  "@webio": {
   "lastCommId": null,
   "lastKernelId": null
  },
  "kernelspec": {
   "display_name": "Julia 1.5.2",
   "language": "julia",
   "name": "julia-1.5"
  },
  "language_info": {
   "file_extension": ".jl",
   "mimetype": "application/julia",
   "name": "julia",
   "version": "1.5.2"
  }
 },
 "nbformat": 4,
 "nbformat_minor": 4
}
