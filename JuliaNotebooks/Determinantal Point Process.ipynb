{
 "cells": [
  {
   "cell_type": "code",
   "execution_count": 1,
   "metadata": {},
   "outputs": [],
   "source": [
    "## 1. Start with the following math identities\n",
    "\n",
    "# det(I+L)  = sum of principal minors\n",
    "# det(I+zL) = sum of z^k * principal minors of size k\n",
    "# det(I + diagm([z1,...,zn])*L) = sum of z_𝓘 times L[𝓘,𝓘]"
   ]
  },
  {
   "cell_type": "code",
   "execution_count": 2,
   "metadata": {},
   "outputs": [],
   "source": [
    "# 2. L ensembles, (individual pdf's)\n",
    "# 3. K ensembles\n",
    "\n",
    "# complementarity property I-K  ( I-K is a \"cdf\" for the complement)"
   ]
  },
  {
   "cell_type": "code",
   "execution_count": 3,
   "metadata": {},
   "outputs": [],
   "source": [
    "## 4. Probably somewhere else in the book we discuss Mobius Inversion\n",
    "## and for sure we need at the very least mobius inversion on subsets of 1:N, i.e. inclusion-exclusion"
   ]
  },
  {
   "cell_type": "code",
   "execution_count": 4,
   "metadata": {},
   "outputs": [],
   "source": [
    "## 5. Projection Ensemble through K\n",
    "## 6. recognize this as a limit of an L-ensemble and also factoring as Y*Y'"
   ]
  },
  {
   "cell_type": "code",
   "execution_count": 5,
   "metadata": {},
   "outputs": [],
   "source": [
    "### 7. Recognition of all ensembles as sums of projection ensembles\n",
    "\n",
    "### 8. Algorithm to generate L ensembles\n",
    "\n",
    "### 9. Projection K can be a rank-n integral kernel which also is Y*Y' where Y is continuous x n\n",
    "\n",
    "##### 10. subtleties of continuous, does order matter, correlation kernel wordings, e.g. Fredholm det(I-K)=tracy widom\n",
    "\n",
    "##### 11. Letting n--> infinity to get sine and airy kernels\n",
    "\n",
    "##### 12. Aztec diamond and other combinatorial structures\n",
    "\n",
    "#### Dyson Brownian Motion"
   ]
  },
  {
   "cell_type": "code",
   "execution_count": 2,
   "metadata": {},
   "outputs": [],
   "source": [
    "using LinearAlgebra, Combinatorics"
   ]
  },
  {
   "cell_type": "markdown",
   "metadata": {},
   "source": [
    "Individual Probabilities of subsets of 1:N"
   ]
  },
  {
   "cell_type": "code",
   "execution_count": 92,
   "metadata": {},
   "outputs": [
    {
     "data": {
      "text/plain": [
       "4×4 Array{Float64,2}:\n",
       " 4.07227   0.6371     1.42801    2.80947\n",
       " 0.6371    2.54592   -0.207447  -0.764519\n",
       " 1.42801  -0.207447   1.77535    1.38001\n",
       " 2.80947  -0.764519   1.38001    2.77727"
      ]
     },
     "execution_count": 92,
     "metadata": {},
     "output_type": "execute_result"
    }
   ],
   "source": [
    "N = 4\n",
    "Y = randn(N,N)\n",
    "L = Y'Y"
   ]
  },
  {
   "cell_type": "code",
   "execution_count": 93,
   "metadata": {},
   "outputs": [
    {
     "data": {
      "text/plain": [
       "0.9999999999999998"
      ]
     },
     "execution_count": 93,
     "metadata": {},
     "output_type": "execute_result"
    }
   ],
   "source": [
    "# The principal minors when normalized by det(L+I) form a probability space\n",
    "(1 + sum(det(L[𝓘,𝓘]) for 𝓘 ∈ combinations(1:N)))/det(L+I)"
   ]
  },
  {
   "cell_type": "code",
   "execution_count": 94,
   "metadata": {},
   "outputs": [
    {
     "name": "stdout",
     "output_type": "stream",
     "text": [
      "[] 0.013804746235010181\n",
      "[1] 0.05621670061988006\n",
      "[2] 0.03514578949926023\n",
      "[3] 0.024508275989277704\n",
      "[4] 0.03833950036438972\n",
      "[1, 2] 0.13751996666595265\n",
      "[1, 3] 0.0716534875522415\n",
      "[1, 4] 0.047166323803916305\n",
      "[2, 3] 0.061802053383737995\n",
      "[2, 4] 0.08954059580749851\n",
      "[3, 4] 0.04177585351561331\n",
      "[1, 2, 3] 0.1648462479496784\n",
      "[1, 2, 4] 0.033880291303965804\n",
      "[1, 3, 4] 0.0513545631996105\n",
      "[2, 3, 4] 0.09642604047394789\n",
      "[1, 2, 3, 4] 0.036019563636019\n"
     ]
    }
   ],
   "source": [
    "### This is a DETERMINANTAL POINT PROCESS\n",
    "# Here are all the probabilities\n",
    "println(\"[] $(1/det(L+I))\")\n",
    "for 𝓘 ∈ combinations(1:N)\n",
    "    println(𝓘, \" \" , det(L[𝓘,𝓘])/det(L+I))\n",
    "end"
   ]
  },
  {
   "cell_type": "code",
   "execution_count": 95,
   "metadata": {},
   "outputs": [
    {
     "name": "stdout",
     "output_type": "stream",
     "text": [
      "A=[1]\n",
      "  𝓘 = [1]\n",
      "  𝓘 = [1, 2]\n",
      "  𝓘 = [1, 3]\n",
      "  𝓘 = [1, 4]\n",
      "  𝓘 = [1, 2, 3]\n",
      "  𝓘 = [1, 2, 4]\n",
      "  𝓘 = [1, 3, 4]\n",
      "  𝓘 = [1, 2, 3, 4]\n",
      "A=[2]\n",
      "  𝓘 = [2]\n",
      "  𝓘 = [2, 1]\n",
      "  𝓘 = [2, 3]\n",
      "  𝓘 = [2, 4]\n",
      "  𝓘 = [2, 1, 3]\n",
      "  𝓘 = [2, 1, 4]\n",
      "  𝓘 = [2, 3, 4]\n",
      "  𝓘 = [2, 1, 3, 4]\n",
      "A=[3]\n",
      "  𝓘 = [3]\n",
      "  𝓘 = [3, 1]\n",
      "  𝓘 = [3, 2]\n",
      "  𝓘 = [3, 4]\n",
      "  𝓘 = [3, 1, 2]\n",
      "  𝓘 = [3, 1, 4]\n",
      "  𝓘 = [3, 2, 4]\n",
      "  𝓘 = [3, 1, 2, 4]\n",
      "A=[4]\n",
      "  𝓘 = [4]\n",
      "  𝓘 = [4, 1]\n",
      "  𝓘 = [4, 2]\n",
      "  𝓘 = [4, 3]\n",
      "  𝓘 = [4, 1, 2]\n",
      "  𝓘 = [4, 1, 3]\n",
      "  𝓘 = [4, 2, 3]\n",
      "  𝓘 = [4, 1, 2, 3]\n",
      "A=[1, 2]\n",
      "  𝓘 = [1, 2]\n",
      "  𝓘 = [1, 2, 3]\n",
      "  𝓘 = [1, 2, 4]\n",
      "  𝓘 = [1, 2, 3, 4]\n",
      "A=[1, 3]\n",
      "  𝓘 = [1, 3]\n",
      "  𝓘 = [1, 3, 2]\n",
      "  𝓘 = [1, 3, 4]\n",
      "  𝓘 = [1, 3, 2, 4]\n",
      "A=[1, 4]\n",
      "  𝓘 = [1, 4]\n",
      "  𝓘 = [1, 4, 2]\n",
      "  𝓘 = [1, 4, 3]\n",
      "  𝓘 = [1, 4, 2, 3]\n",
      "A=[2, 3]\n",
      "  𝓘 = [2, 3]\n",
      "  𝓘 = [2, 3, 1]\n",
      "  𝓘 = [2, 3, 4]\n",
      "  𝓘 = [2, 3, 1, 4]\n",
      "A=[2, 4]\n",
      "  𝓘 = [2, 4]\n",
      "  𝓘 = [2, 4, 1]\n",
      "  𝓘 = [2, 4, 3]\n",
      "  𝓘 = [2, 4, 1, 3]\n",
      "A=[3, 4]\n",
      "  𝓘 = [3, 4]\n",
      "  𝓘 = [3, 4, 1]\n",
      "  𝓘 = [3, 4, 2]\n",
      "  𝓘 = [3, 4, 1, 2]\n",
      "A=[1, 2, 3]\n",
      "  𝓘 = [1, 2, 3]\n",
      "  𝓘 = [1, 2, 3, 4]\n",
      "A=[1, 2, 4]\n",
      "  𝓘 = [1, 2, 4]\n",
      "  𝓘 = [1, 2, 4, 3]\n",
      "A=[1, 3, 4]\n",
      "  𝓘 = [1, 3, 4]\n",
      "  𝓘 = [1, 3, 4, 2]\n",
      "A=[2, 3, 4]\n",
      "  𝓘 = [2, 3, 4]\n",
      "  𝓘 = [2, 3, 4, 1]\n",
      "A=[1, 2, 3, 4]\n",
      "  𝓘 = [1, 2, 3, 4]\n"
     ]
    }
   ],
   "source": [
    "# now get the set analog of a cdf (the above was a pdf)\n",
    "# that is given a subset A, the probability that a subset 𝓘 satisfies A ⊆ 𝓘\n",
    "# this is like Probability that 𝓘 ≥ A \n",
    "\n",
    "for A ∈ combinations(1:N)\n",
    "    println(\"A=\",A)\n",
    "    println(\"  𝓘 = \",A)\n",
    "    for 𝓘 ∈ combinations(setdiff(1:N,A))\n",
    "        println(\"  𝓘 = \",union(A,𝓘))\n",
    "    end\n",
    "    \n",
    "end"
   ]
  },
  {
   "cell_type": "code",
   "execution_count": 96,
   "metadata": {},
   "outputs": [
    {
     "name": "stdout",
     "output_type": "stream",
     "text": [
      "  𝓘 = [1] 0.05621670061988006\n",
      "  𝓘 = [1, 2] 0.13751996666595265\n",
      "  𝓘 = [1, 3] 0.0716534875522415\n",
      "  𝓘 = [1, 4] 0.047166323803916305\n",
      "  𝓘 = [1, 2, 3] 0.1648462479496784\n",
      "  𝓘 = [1, 2, 4] 0.033880291303965804\n",
      "  𝓘 = [1, 3, 4] 0.0513545631996105\n",
      "  𝓘 = [1, 2, 3, 4] 0.036019563636019\n",
      "A=[1] 0.5986571447312644\n",
      "sum of probs = 0.5986571447312642\n",
      "  𝓘 = [2] 0.03514578949926023\n",
      "  𝓘 = [2, 1] 0.13751996666595265\n",
      "  𝓘 = [2, 3] 0.061802053383737995\n",
      "  𝓘 = [2, 4] 0.08954059580749851\n",
      "  𝓘 = [2, 1, 3] 0.1648462479496783\n",
      "  𝓘 = [2, 1, 4] 0.033880291303965734\n",
      "  𝓘 = [2, 3, 4] 0.09642604047394789\n",
      "  𝓘 = [2, 1, 3, 4] 0.03601956363601891\n",
      "A=[2] 0.6551805487200605\n",
      "sum of probs = 0.6551805487200602\n",
      "  𝓘 = [3] 0.024508275989277704\n",
      "  𝓘 = [3, 1] 0.0716534875522415\n",
      "  𝓘 = [3, 2] 0.061802053383737995\n",
      "  𝓘 = [3, 4] 0.04177585351561331\n",
      "  𝓘 = [3, 1, 2] 0.16484624794967837\n",
      "  𝓘 = [3, 1, 4] 0.051354563199610535\n",
      "  𝓘 = [3, 2, 4] 0.09642604047394789\n",
      "  𝓘 = [3, 1, 2, 4] 0.03601956363601899\n",
      "A=[3] 0.5483860857001264\n",
      "sum of probs = 0.5483860857001263\n",
      "  𝓘 = [4] 0.03833950036438972\n",
      "  𝓘 = [4, 1] 0.04716632380391629\n",
      "  𝓘 = [4, 2] 0.08954059580749851\n",
      "  𝓘 = [4, 3] 0.04177585351561331\n",
      "  𝓘 = [4, 1, 2] 0.03388029130396569\n",
      "  𝓘 = [4, 1, 3] 0.05135456319961049\n",
      "  𝓘 = [4, 2, 3] 0.09642604047394789\n",
      "  𝓘 = [4, 1, 2, 3] 0.036019563636018846\n",
      "A=[4] 0.43450273210496104\n",
      "sum of probs = 0.43450273210496076\n",
      "  𝓘 = [1, 2] 0.13751996666595265\n",
      "  𝓘 = [1, 2, 3] 0.1648462479496784\n",
      "  𝓘 = [1, 2, 4] 0.033880291303965804\n",
      "  𝓘 = [1, 2, 3, 4] 0.036019563636019\n",
      "A=[1, 2] 0.37226606955561586\n",
      "sum of probs = 0.37226606955561586\n",
      "  𝓘 = [1, 3] 0.0716534875522415\n",
      "  𝓘 = [1, 3, 2] 0.16484624794967837\n",
      "  𝓘 = [1, 3, 4] 0.0513545631996105\n",
      "  𝓘 = [1, 3, 2, 4] 0.036019563636018916\n",
      "A=[1, 3] 0.32387386233754945\n",
      "sum of probs = 0.32387386233754933\n",
      "  𝓘 = [1, 4] 0.047166323803916305\n",
      "  𝓘 = [1, 4, 2] 0.033880291303965776\n",
      "  𝓘 = [1, 4, 3] 0.051354563199610515\n",
      "  𝓘 = [1, 4, 2, 3] 0.03601956363601895\n",
      "A=[1, 4] 0.16842074194351161\n",
      "sum of probs = 0.16842074194351153\n",
      "  𝓘 = [2, 3] 0.061802053383737995\n",
      "  𝓘 = [2, 3, 1] 0.16484624794967837\n",
      "  𝓘 = [2, 3, 4] 0.09642604047394789\n",
      "  𝓘 = [2, 3, 1, 4] 0.036019563636018916\n",
      "A=[2, 3] 0.35909390544338327\n",
      "sum of probs = 0.35909390544338315\n",
      "  𝓘 = [2, 4] 0.08954059580749851\n",
      "  𝓘 = [2, 4, 1] 0.03388029130396578\n",
      "  𝓘 = [2, 4, 3] 0.09642604047394789\n",
      "  𝓘 = [2, 4, 1, 3] 0.03601956363601896\n",
      "A=[2, 4] 0.25586649122143107\n",
      "sum of probs = 0.2558664912214311\n",
      "  𝓘 = [3, 4] 0.04177585351561331\n",
      "  𝓘 = [3, 4, 1] 0.0513545631996105\n",
      "  𝓘 = [3, 4, 2] 0.09642604047394789\n",
      "  𝓘 = [3, 4, 1, 2] 0.036019563636018916\n",
      "A=[3, 4] 0.22557602082519065\n",
      "sum of probs = 0.2255760208251906\n",
      "  𝓘 = [1, 2, 3] 0.1648462479496784\n",
      "  𝓘 = [1, 2, 3, 4] 0.036019563636019\n",
      "A=[1, 2, 3] 0.20086581158569738\n",
      "sum of probs = 0.20086581158569738\n",
      "  𝓘 = [1, 2, 4] 0.033880291303965804\n",
      "  𝓘 = [1, 2, 4, 3] 0.03601956363601898\n",
      "A=[1, 2, 4] 0.06989985493998468\n",
      "sum of probs = 0.06989985493998478\n",
      "  𝓘 = [1, 3, 4] 0.0513545631996105\n",
      "  𝓘 = [1, 3, 4, 2] 0.036019563636018895\n",
      "A=[1, 3, 4] 0.08737412683562946\n",
      "sum of probs = 0.0873741268356294\n",
      "  𝓘 = [2, 3, 4] 0.09642604047394789\n",
      "  𝓘 = [2, 3, 4, 1] 0.036019563636018895\n",
      "A=[2, 3, 4] 0.1324456041099668\n",
      "sum of probs = 0.13244560410996678\n",
      "  𝓘 = [1, 2, 3, 4] 0.036019563636019\n",
      "A=[1, 2, 3, 4] 0.03601956363601893\n",
      "sum of probs = 0.036019563636019\n"
     ]
    }
   ],
   "source": [
    "# now get the set analog of a cdf (the above was a pdf)\n",
    "# that is given a subset A, the probability that a subset 𝓘 satisfies A ⊆ 𝓘\n",
    "# this is like Probability that 𝓘 ≥ A \n",
    "\n",
    "## probabilities are defined by det(L[𝓘,𝓘])/det(L+I)\n",
    "## cumulative probabilities will come directly from  det(K[𝓘,𝓘]), where K is as on the next line\n",
    "\n",
    "K  = L*inv(L+I)\n",
    "\n",
    "for A ∈ combinations(1:N) \n",
    "    \n",
    "    println(\"  𝓘 = \",A,\" \",det(L[A,A])/det(L+I))\n",
    "    z = det(L[A,A])/det(L+I)\n",
    "    for 𝒬 ∈ combinations(setdiff(1:N,A))\n",
    "        𝓘 = union(A,𝒬)\n",
    "        println(\"  𝓘 = \",𝓘,\" \",det(L[𝓘,𝓘])/det(L+I))\n",
    "        z += det(L[𝓘,𝓘])/det(L+I)\n",
    "    end\n",
    "    println(\"A=\",A, \" \", det(K[A,A]))\n",
    "    println(\"sum of probs = \", z)\n",
    "end"
   ]
  },
  {
   "cell_type": "markdown",
   "metadata": {},
   "source": [
    " what have we learned.  We can define a process through K rather than L \n",
    "\n",
    " $Pr(A ⊆ 𝓘) = \\det(K[ 𝓘, 𝓘])$ <br>\n",
    " \n",
    " "
   ]
  },
  {
   "cell_type": "code",
   "execution_count": 101,
   "metadata": {},
   "outputs": [
    {
     "data": {
      "text/plain": [
       "4×4 Array{Float64,2}:\n",
       "  0.376149    -0.00355512  -0.0201501  -0.483986\n",
       " -0.00355512   0.220093    -0.413802    0.0201939\n",
       " -0.0201501   -0.413802     0.779911   -0.0034578\n",
       " -0.483986     0.0201939   -0.0034578   0.623846"
      ]
     },
     "execution_count": 101,
     "metadata": {},
     "output_type": "execute_result"
    }
   ],
   "source": [
    "N,n = 4,2\n",
    "Y,_ = qr(randn(N,n))\n",
    "Y = Matrix(Y)\n",
    "L = Y*Y'\n",
    "# This matrix L is a projection"
   ]
  },
  {
   "cell_type": "markdown",
   "metadata": {},
   "source": [
    "In this case, the probablities of 𝓘 for |𝓘|=n are exactly L[𝓘,𝓘], no normalization needed."
   ]
  },
  {
   "cell_type": "code",
   "execution_count": 102,
   "metadata": {},
   "outputs": [
    {
     "data": {
      "text/plain": [
       "6-element Array{Array{Int64,1},1}:\n",
       " [1, 2]\n",
       " [1, 3]\n",
       " [1, 4]\n",
       " [2, 3]\n",
       " [2, 4]\n",
       " [3, 4]"
      ]
     },
     "execution_count": 102,
     "metadata": {},
     "output_type": "execute_result"
    }
   ],
   "source": [
    "# All combinations of n subsets of 1:n\n",
    "[𝓘 for 𝓘 ∈ combinations(1:N,n)]"
   ]
  },
  {
   "cell_type": "code",
   "execution_count": 24,
   "metadata": {},
   "outputs": [
    {
     "data": {
      "text/html": [
       "combinations(a, t::<b>Integer</b>) in Combinatorics at <a href=\"file:///Users/alanedelman/.julia/packages/Combinatorics/Udg6X/src/combinations.jl\" target=\"_blank\">/Users/alanedelman/.julia/packages/Combinatorics/Udg6X/src/combinations.jl:43</a>"
      ],
      "text/plain": [
       "combinations(a, t::Integer) in Combinatorics at /Users/alanedelman/.julia/packages/Combinatorics/Udg6X/src/combinations.jl:43"
      ]
     },
     "execution_count": 24,
     "metadata": {},
     "output_type": "execute_result"
    }
   ],
   "source": [
    "@which combinations(1:4,2)"
   ]
  },
  {
   "cell_type": "markdown",
   "metadata": {},
   "source": [
    "## This is a probability space\n",
    "\n",
    "specifically P(𝓘) = det(L[𝓘,𝓘]) is thought of as the probability of 𝓘 \n",
    "\n",
    "This is an n-DPP because all the points are size n\n",
    "\n",
    "## an n-DPP is a DPP where instead of taking subsets of 1:N of arbitrary size, we only take the subsets of size n"
   ]
  },
  {
   "cell_type": "code",
   "execution_count": 25,
   "metadata": {},
   "outputs": [
    {
     "data": {
      "text/plain": [
       "6-element Array{Array{Int64,1},1}:\n",
       " [1, 2]\n",
       " [1, 3]\n",
       " [1, 4]\n",
       " [2, 3]\n",
       " [2, 4]\n",
       " [3, 4]"
      ]
     },
     "execution_count": 25,
     "metadata": {},
     "output_type": "execute_result"
    }
   ],
   "source": [
    "[𝓘  for 𝓘 ∈ combinations(1:N,n) ]"
   ]
  },
  {
   "cell_type": "code",
   "execution_count": 103,
   "metadata": {},
   "outputs": [
    {
     "data": {
      "text/plain": [
       "0.9999999999999997"
      ]
     },
     "execution_count": 103,
     "metadata": {},
     "output_type": "execute_result"
    }
   ],
   "source": [
    "sum(det(L[𝓘,𝓘]) for 𝓘 ∈ combinations(1:N,n) )"
   ]
  },
  {
   "cell_type": "markdown",
   "metadata": {},
   "source": [
    "There is no meaning that I know of to det(L)/det(L+I) (0) or det(L+I) which is 2^n"
   ]
  },
  {
   "cell_type": "code",
   "execution_count": 27,
   "metadata": {},
   "outputs": [
    {
     "name": "stdout",
     "output_type": "stream",
     "text": [
      "4.0\n"
     ]
    },
    {
     "data": {
      "text/plain": [
       "4"
      ]
     },
     "execution_count": 27,
     "metadata": {},
     "output_type": "execute_result"
    }
   ],
   "source": [
    "println(det(L+I)) # this is a rank n matrix, so it's 0 (unless n=N)\n",
    "2^n"
   ]
  },
  {
   "cell_type": "code",
   "execution_count": null,
   "metadata": {},
   "outputs": [],
   "source": []
  },
  {
   "cell_type": "markdown",
   "metadata": {},
   "source": [
    "However, you can still ask for \n",
    "    \n",
    "$Pr(A ⊆ 𝓘) $  (for ANY subset of 1:N, of ANY size) <br>\n",
    "and the answer is  $\\det(K[ 𝓘, 𝓘])$  (There is no K)"
   ]
  },
  {
   "cell_type": "markdown",
   "metadata": {},
   "source": [
    "\n",
    "|| General Semidefinite |rank n Projection Matrix   |\n",
    "|------|------|------|\n",
    "    | Prob Space  |  All subsets | All subsets but only ≠ 0 on n sets |\n",
    "| Prob 𝓘 | L[𝓘,𝓘]/det(L+I) | K[𝓘,𝓘] if \\|𝓘\\|=n, 0 otherwise (or as a limit)|\n",
    "            | Prob A ⊆ 𝓘 | K[A,A] (where K = L/(L+I) ) | K[A,A] | \n",
    "↑ ↑      | complementary cdf | same  |"
   ]
  },
  {
   "cell_type": "code",
   "execution_count": 28,
   "metadata": {},
   "outputs": [
    {
     "data": {
      "text/plain": [
       "!= (generic function with 5 methods)"
      ]
     },
     "execution_count": 28,
     "metadata": {},
     "output_type": "execute_result"
    }
   ],
   "source": [
    "≠"
   ]
  },
  {
   "cell_type": "markdown",
   "metadata": {},
   "source": [
    "Note that L = K/(I-K), and if K is a projection matrix, L is not defined (or 0)  <br>\n",
    "\n",
    "I think if you start with a rank n projection matrix, there must be something limiting you can do with all subsets, which when restricted to the subsets of size n recovers the n-DPP."
   ]
  },
  {
   "cell_type": "markdown",
   "metadata": {},
   "source": [
    "[Inclusion-Exclusion](https://en.wikipedia.org/wiki/Inclusion%E2%80%93exclusion_principle) with Linear Algebra"
   ]
  },
  {
   "cell_type": "code",
   "execution_count": 29,
   "metadata": {},
   "outputs": [
    {
     "data": {
      "text/plain": [
       "16×16 Array{Bool,2}:\n",
       " 1  1  1  1  1  1  1  1  1  1  1  1  1  1  1  1\n",
       " 0  1  0  0  0  1  1  1  0  0  0  1  1  1  0  1\n",
       " 0  0  1  0  0  1  0  0  1  1  0  1  1  0  1  1\n",
       " 0  0  0  1  0  0  1  0  1  0  1  1  0  1  1  1\n",
       " 0  0  0  0  1  0  0  1  0  1  1  0  1  1  1  1\n",
       " 0  0  0  0  0  1  0  0  0  0  0  1  1  0  0  1\n",
       " 0  0  0  0  0  0  1  0  0  0  0  1  0  1  0  1\n",
       " 0  0  0  0  0  0  0  1  0  0  0  0  1  1  0  1\n",
       " 0  0  0  0  0  0  0  0  1  0  0  1  0  0  1  1\n",
       " 0  0  0  0  0  0  0  0  0  1  0  0  1  0  1  1\n",
       " 0  0  0  0  0  0  0  0  0  0  1  0  0  1  1  1\n",
       " 0  0  0  0  0  0  0  0  0  0  0  1  0  0  0  1\n",
       " 0  0  0  0  0  0  0  0  0  0  0  0  1  0  0  1\n",
       " 0  0  0  0  0  0  0  0  0  0  0  0  0  1  0  1\n",
       " 0  0  0  0  0  0  0  0  0  0  0  0  0  0  1  1\n",
       " 0  0  0  0  0  0  0  0  0  0  0  0  0  0  0  1"
      ]
     },
     "metadata": {},
     "output_type": "display_data"
    },
    {
     "data": {
      "text/plain": [
       "16×16 Array{Int64,2}:\n",
       " 1  -1  -1  -1  -1   1   1   1   1   1   1  -1  -1  -1  -1   1\n",
       " 0   1   0   0   0  -1  -1  -1   0   0   0   1   1   1   0  -1\n",
       " 0   0   1   0   0  -1   0   0  -1  -1   0   1   1   0   1  -1\n",
       " 0   0   0   1   0   0  -1   0  -1   0  -1   1   0   1   1  -1\n",
       " 0   0   0   0   1   0   0  -1   0  -1  -1   0   1   1   1  -1\n",
       " 0   0   0   0   0   1   0   0   0   0   0  -1  -1   0   0   1\n",
       " 0   0   0   0   0   0   1   0   0   0   0  -1   0  -1   0   1\n",
       " 0   0   0   0   0   0   0   1   0   0   0   0  -1  -1   0   1\n",
       " 0   0   0   0   0   0   0   0   1   0   0  -1   0   0  -1   1\n",
       " 0   0   0   0   0   0   0   0   0   1   0   0  -1   0  -1   1\n",
       " 0   0   0   0   0   0   0   0   0   0   1   0   0  -1  -1   1\n",
       " 0   0   0   0   0   0   0   0   0   0   0   1   0   0   0  -1\n",
       " 0   0   0   0   0   0   0   0   0   0   0   0   1   0   0  -1\n",
       " 0   0   0   0   0   0   0   0   0   0   0   0   0   1   0  -1\n",
       " 0   0   0   0   0   0   0   0   0   0   0   0   0   0   1  -1\n",
       " 0   0   0   0   0   0   0   0   0   0   0   0   0   0   0   1"
      ]
     },
     "metadata": {},
     "output_type": "display_data"
    }
   ],
   "source": [
    "\n",
    "𝒫 = append!([[]],[A for A in combinations(1:N)]) # Power set\n",
    "μ = [A ⊆ B for A∈𝒫,B∈𝒫]\n",
    "display(μ)\n",
    "display(Int.(inv(μ)))"
   ]
  },
  {
   "cell_type": "code",
   "execution_count": 104,
   "metadata": {},
   "outputs": [
    {
     "data": {
      "text/plain": [
       "16-element Array{Array{Any,1},1}:\n",
       " []\n",
       " [1]\n",
       " [2]\n",
       " [3]\n",
       " [4]\n",
       " [1, 2]\n",
       " [1, 3]\n",
       " [1, 4]\n",
       " [2, 3]\n",
       " [2, 4]\n",
       " [3, 4]\n",
       " [1, 2, 3]\n",
       " [1, 2, 4]\n",
       " [1, 3, 4]\n",
       " [2, 3, 4]\n",
       " [1, 2, 3, 4]"
      ]
     },
     "execution_count": 104,
     "metadata": {},
     "output_type": "execute_result"
    }
   ],
   "source": [
    "[A for A∈𝒫]"
   ]
  },
  {
   "cell_type": "code",
   "execution_count": 129,
   "metadata": {},
   "outputs": [
    {
     "name": "stdout",
     "output_type": "stream",
     "text": [
      "1:  [1, 6, 10, 14, 15, 21, 22, 26, 33, 34, 35, 38, 39, 46, 51, 55, 57, 58, 62, 65, 69, 74, 77, 82, 85, 86, 87, 91, 93, 94, 95]\n",
      "-1: [2, 3, 5, 7, 11, 13, 17, 19, 23, 29, 30, 31, 37, 41, 42, 43, 47, 53, 59, 61, 66, 67, 70, 71, 73, 78, 79, 83, 89, 97]\n",
      "0:  [4, 8, 9, 12, 16, 18, 20, 24, 25, 27, 28, 32, 36, 40, 44, 45, 48, 49, 50, 52, 54, 56, 60, 63, 64, 68, 72, 75, 76, 80, 81, 84, 88, 90, 92, 96, 98, 99, 100]\n"
     ]
    }
   ],
   "source": [
    "n = 100\n",
    "J = 1:n\n",
    "M = J' ./ J\n",
    "μ = M .≈ round.(M)\n",
    "Z =Int.(round.(inv(μ)))[1,:]\n",
    "\n",
    "\n",
    "println(\"1:  \",J[Z.==1])\n",
    "println(\"-1: \",J[Z.==-1])\n",
    "println(\"0:  \",J[Z.==0] )\n",
    "\n",
    "Weiyu's new guess: the \"1\"set has an even number of distinct prime factor, the \"-1\" set has odd number, the \"0\" set has non-distinct prime factor"
   ]
  },
  {
   "cell_type": "code",
   "execution_count": 30,
   "metadata": {},
   "outputs": [
    {
     "data": {
      "text/plain": [
       "16-element Array{Float64,1}:\n",
       " -0.0\n",
       "  0.0\n",
       "  0.0\n",
       "  0.0\n",
       "  0.0\n",
       "  0.041\n",
       "  0.49\n",
       "  0.463\n",
       "  0.003\n",
       "  0.003\n",
       "  0.0\n",
       "  0.0\n",
       "  0.0\n",
       "  0.0\n",
       "  0.0\n",
       "  0.0"
      ]
     },
     "execution_count": 30,
     "metadata": {},
     "output_type": "execute_result"
    }
   ],
   "source": [
    "# get pdf from L\n",
    "round.( μ \\ [det(L[A,A]) for A∈𝒫] , digits=3 )"
   ]
  },
  {
   "cell_type": "code",
   "execution_count": 31,
   "metadata": {},
   "outputs": [
    {
     "data": {
      "text/plain": [
       "(4, 2)"
      ]
     },
     "execution_count": 31,
     "metadata": {},
     "output_type": "execute_result"
    }
   ],
   "source": [
    "N,n"
   ]
  },
  {
   "cell_type": "code",
   "execution_count": 32,
   "metadata": {},
   "outputs": [
    {
     "data": {
      "text/plain": [
       "4×4 Array{Float64,2}:\n",
       "  0.638983   0.0145792  -0.475811   0.0638379\n",
       "  0.0145792  0.179423    0.0455155  0.380718\n",
       " -0.475811   0.0455155   0.372051   0.0718426\n",
       "  0.0638379  0.380718    0.0718426  0.809543"
      ]
     },
     "execution_count": 32,
     "metadata": {},
     "output_type": "execute_result"
    }
   ],
   "source": [
    "\n",
    "N,n = 4,2\n",
    "Y,_ = qr(randn(N,n))\n",
    "Y = Matrix(Y)\n",
    "K = Y*Y'"
   ]
  },
  {
   "cell_type": "code",
   "execution_count": 33,
   "metadata": {},
   "outputs": [
    {
     "name": "stdout",
     "output_type": "stream",
     "text": [
      "Int64[] 0.0\n",
      "[1] -0.0\n",
      "[2] -0.0\n",
      "[3] -0.0\n",
      "[4] -0.0\n",
      "[1, 2] 0.114\n",
      "[1, 3] 0.011\n",
      "[1, 4] 0.513\n",
      "[2, 3] 0.065\n",
      "[2, 4] 0.0\n",
      "[3, 4] 0.296\n",
      "[1, 2, 3] 0.0\n",
      "[1, 2, 4] 0.0\n",
      "[1, 3, 4] 0.0\n",
      "[2, 3, 4] 0.0\n",
      "[1, 2, 3, 4] 0.0\n"
     ]
    }
   ],
   "source": [
    "# This shows what happens if you perturb just a bit ## This suggests there could be a projectivized L ensemble where the limits exist\n",
    "KK = K + .0000001I\n",
    "LL = KK / (I - KK)\n",
    "\n",
    "for i=1:16\n",
    " println( Int.(𝒫[i]),\" \" ,round.( [det(LL[A,A])/det(LL+I) for A ∈ 𝒫 ][i] , digits=3 ))\n",
    "end"
   ]
  },
  {
   "cell_type": "code",
   "execution_count": 34,
   "metadata": {},
   "outputs": [
    {
     "data": {
      "text/plain": [
       "4×4 Array{Float64,2}:\n",
       "      -6.38983e6  -1.45792e5   4.75811e6  -638379.0\n",
       "      -1.45792e5  -1.79423e6  -4.55155e5       -3.80718e6\n",
       "       4.75811e6  -4.55155e5  -3.72051e6       -7.18426e5\n",
       " -638379.0        -3.80718e6  -7.18426e5       -8.09543e6"
      ]
     },
     "execution_count": 34,
     "metadata": {},
     "output_type": "execute_result"
    }
   ],
   "source": [
    "LL"
   ]
  },
  {
   "cell_type": "code",
   "execution_count": 35,
   "metadata": {},
   "outputs": [
    {
     "data": {
      "text/plain": [
       "16-element Array{Array{Int64,1},1}:\n",
       " [1]\n",
       " [2]\n",
       " [3]\n",
       " [4]\n",
       " [1, 2]\n",
       " [1, 3]\n",
       " [1, 4]\n",
       " [2, 3]\n",
       " [2, 4]\n",
       " [3, 4]\n",
       " [1, 2, 3]\n",
       " [1, 2, 4]\n",
       " [1, 3, 4]\n",
       " [2, 3, 4]\n",
       " [1, 2, 3, 4]\n",
       " []"
      ]
     },
     "execution_count": 35,
     "metadata": {},
     "output_type": "execute_result"
    }
   ],
   "source": [
    "append!([A for A in combinations(1:N)],[[]])"
   ]
  },
  {
   "cell_type": "markdown",
   "metadata": {},
   "source": [
    "## if you take sizes k smaller than p you need to correct with binomial(p,j)"
   ]
  },
  {
   "cell_type": "code",
   "execution_count": 36,
   "metadata": {},
   "outputs": [
    {
     "data": {
      "text/plain": [
       "3×2 Array{Float64,2}:\n",
       " 1.0  1.0\n",
       " 2.0  2.0\n",
       " 1.0  1.0"
      ]
     },
     "execution_count": 36,
     "metadata": {},
     "output_type": "execute_result"
    }
   ],
   "source": [
    "[[sum(det(L[𝒬,𝒬]) for 𝒬 ∈ combinations(1:N,k) ) for k=0:n] [binomial(n,k) for k=0:n]]"
   ]
  },
  {
   "cell_type": "markdown",
   "metadata": {},
   "source": [
    "## a really nice property of projection processes"
   ]
  },
  {
   "cell_type": "code",
   "execution_count": 37,
   "metadata": {},
   "outputs": [],
   "source": [
    "## associate 𝓘  with its probability\n",
    "## then associate all j subsets of 𝓘 with that probability over binomial(p,j)\n",
    "## now add up the probabilities for all j subsets ... that will be the j subset probabilty"
   ]
  },
  {
   "cell_type": "code",
   "execution_count": 38,
   "metadata": {},
   "outputs": [],
   "source": [
    "k = 3\n",
    "d = Dict{Array{Int64,1},Float64}()\n",
    " for 𝓘 ∈ combinations(1:N, n)\n",
    "    prob = det(L[𝓘,𝓘]) / binomial(N,n)\n",
    "    for 𝒬 ∈ combinations(𝓘)\n",
    "        if haskey(d,𝒬)\n",
    "            d[𝒬] += prob\n",
    "        else\n",
    "            d[𝒬] = prob\n",
    "        end\n",
    "    end\n",
    "end"
   ]
  },
  {
   "cell_type": "code",
   "execution_count": 39,
   "metadata": {},
   "outputs": [
    {
     "name": "stdout",
     "output_type": "stream",
     "text": [
      "[1] 0.16570005202540047 0.16570005202540045\n",
      "[2] 0.007813608648853011 0.007813608648853007\n",
      "[3] 0.08222239706551077 0.08222239706551077\n",
      "[4] 0.07759727559356903 0.07759727559356902\n",
      "[1, 2] 0.006862301971516128 0.006862301971516128\n",
      "[1, 3] 0.08169277207804822 0.08169277207804822\n",
      "[1, 4] 0.07714497797583611 0.07714497797583611\n",
      "[2, 3] 0.0005143170235332557 0.0005143170235332557\n",
      "[2, 4] 0.0004369896538036244 0.0004369896538036244\n",
      "[3, 4] 1.5307963929285598e-5 1.5307963929285598e-5\n"
     ]
    },
    {
     "ename": "LoadError",
     "evalue": "KeyError: key [1, 2, 3] not found",
     "output_type": "error",
     "traceback": [
      "KeyError: key [1, 2, 3] not found",
      "",
      "Stacktrace:",
      " [1] getindex(::Dict{Array{Int64,1},Float64}, ::Array{Int64,1}) at ./dict.jl:467",
      " [2] top-level scope at ./In[39]:3",
      " [3] include_string(::Function, ::Module, ::String, ::String) at ./loading.jl:1091"
     ]
    }
   ],
   "source": [
    "# the answer that I expect is\n",
    "for 𝒬 ∈ combinations(1:N)    \n",
    "      println(𝒬,\" \",det(L[𝒬,𝒬])/binomial(N,n) ,\" \", d[𝒬]  ) \n",
    "end"
   ]
  },
  {
   "cell_type": "code",
   "execution_count": 40,
   "metadata": {},
   "outputs": [
    {
     "name": "stdout",
     "output_type": "stream",
     "text": [
      "0.6389826179579111 0.6389826179579109\n",
      "0.17942327183229265 0.17942327183229265\n",
      "0.372050886355818 0.37205088635581784\n",
      "0.8095432238539789 0.8095432238539789\n",
      "0.11443579917943002 0.11443579917943002\n",
      "0.01133804728954051 0.01133804728954051\n",
      "0.5132087714889406 0.5132087714889406\n",
      "0.06468292967705094 0.06468292967705094\n",
      "0.00030454297581169104 0.00030454297581169104\n",
      "0.2960299093892266 0.2960299093892266\n"
     ]
    },
    {
     "ename": "LoadError",
     "evalue": "ArgumentError: reducing over an empty collection is not allowed",
     "output_type": "error",
     "traceback": [
      "ArgumentError: reducing over an empty collection is not allowed",
      "",
      "Stacktrace:",
      " [1] _empty_reduce_error() at ./reduce.jl:299",
      " [2] mapreduce_empty(::Function, ::Base.FilteringRF{var\"#26#28\"{Array{Int64,1}},Base.MappingRF{var\"#25#27\",Base.BottomRF{typeof(Base.add_sum)}}}, ::Type{T} where T) at ./reduce.jl:342",
      " [3] reduce_empty(::Base.MappingRF{Combinatorics.var\"#reorder#10\"{UnitRange{Int64}},Base.FilteringRF{var\"#26#28\"{Array{Int64,1}},Base.MappingRF{var\"#25#27\",Base.BottomRF{typeof(Base.add_sum)}}}}, ::Type{Array{Int64,1}}) at ./reduce.jl:329",
      " [4] reduce_empty_iter at ./reduce.jl:355 [inlined]",
      " [5] reduce_empty_iter at ./reduce.jl:354 [inlined]",
      " [6] foldl_impl at ./reduce.jl:49 [inlined]",
      " [7] mapfoldl_impl at ./reduce.jl:44 [inlined]",
      " [8] #mapfoldl#204 at ./reduce.jl:160 [inlined]",
      " [9] mapfoldl at ./reduce.jl:160 [inlined]",
      " [10] #mapreduce#208 at ./reduce.jl:287 [inlined]",
      " [11] mapreduce at ./reduce.jl:287 [inlined]",
      " [12] sum at ./reduce.jl:494 [inlined]",
      " [13] sum(::Base.Generator{Base.Iterators.Filter{var\"#26#28\"{Array{Int64,1}},Base.Generator{Combinatorics.Combinations,Combinatorics.var\"#reorder#10\"{UnitRange{Int64}}}},var\"#25#27\"}) at ./reduce.jl:511",
      " [14] top-level scope at In[40]:11",
      " [15] include_string(::Function, ::Module, ::String, ::String) at ./loading.jl:1091"
     ]
    }
   ],
   "source": [
    "## It seems people prefer to look at this the other way around\n",
    "## but it amounts to the same thing  (Bayes connection)\n",
    "\n",
    "## specifically I can generate the n set according to the determinant\n",
    "## and then the i set uniformly among subsets\n",
    "## or I can start with the i set and find all the A sets that are supersets\n",
    "\n",
    "for i = combinations(1:N)\n",
    "# Generate all subsets Y of length n that contain i\n",
    " \n",
    " print( sum( det(K[Y,Y]) for Y ∈ combinations(1:N, n) if i ⊆ Y) )\n",
    " println( \" \",det(K[i,i]) )\n",
    "end"
   ]
  },
  {
   "cell_type": "markdown",
   "metadata": {},
   "source": [
    "## Another identity"
   ]
  },
  {
   "cell_type": "code",
   "execution_count": 11,
   "metadata": {},
   "outputs": [
    {
     "data": {
      "text/plain": [
       "0.7499866082671295"
      ]
     },
     "execution_count": 11,
     "metadata": {},
     "output_type": "execute_result"
    }
   ],
   "source": [
    "det( K[ [1, 2, 3],[1, 2,3]])\n"
   ]
  },
  {
   "cell_type": "code",
   "execution_count": 12,
   "metadata": {},
   "outputs": [
    {
     "data": {
      "text/plain": [
       "0.7499866082671296"
      ]
     },
     "execution_count": 12,
     "metadata": {},
     "output_type": "execute_result"
    }
   ],
   "source": [
    "sum( det( Y[ [1,2,3],𝒬])^2 for 𝒬 ∈ combinations(1:5,3))"
   ]
  },
  {
   "cell_type": "markdown",
   "metadata": {},
   "source": [
    "## Now General Λ -- L Ensemble"
   ]
  },
  {
   "cell_type": "code",
   "execution_count": 41,
   "metadata": {},
   "outputs": [],
   "source": [
    "N,n = 3,3\n",
    "Y,_ = qr(randn(N,n))\n",
    "Y = Matrix(Y)\n",
    "Λ = 10 * Diagonal(rand(n))\n",
    "L = Y*Λ*Y';"
   ]
  },
  {
   "cell_type": "code",
   "execution_count": 42,
   "metadata": {},
   "outputs": [
    {
     "data": {
      "text/plain": [
       "0.9999999999999996"
      ]
     },
     "execution_count": 42,
     "metadata": {},
     "output_type": "execute_result"
    }
   ],
   "source": [
    "(1 + sum( det(L[𝒬,𝒬]) for 𝒬 ∈ combinations(1:N)))/det(I+L)"
   ]
  },
  {
   "cell_type": "markdown",
   "metadata": {},
   "source": [
    "## The simple thing:\n",
    "   Take 𝒬 in the power set of 1:N with probabilty det(L[𝒬;𝒬])/det(I+L)"
   ]
  },
  {
   "cell_type": "markdown",
   "metadata": {},
   "source": [
    "## Slightly more complicated:\n",
    "   If A is the power set of 1:N, the probability that A ⊆ 𝒬 is det(K[A;A])\n",
    "\n",
    "what does this mean?\n",
    "   This means that if we add up all the disjoint situations of the probability of 𝒬 as above but only when A ⊆ 𝒬, we will get det(K[A;A])\n",
    "   \n",
    "   \n",
    "   Let's take an example : A ={1}\n",
    "   What we are going to do is take a random subset of 1:N, and we are wondering what is the probablity that we will see a {1} in this subset.  This probablity is K[1,1].\n",
    "   This is the sum of P[1] +P[1,2] +P[1,3] + P[1,2,4,5] + lots of other things\n",
    "   \n",
    "  what is the probabilty of 𝒬 = [1] itself?\n",
    "Answer: it's the probability that [1] shows up , but without any friends.\n",
    "    it's not K[1;1]. Remember K[1,1] is the probablity that 1 shows up in 𝒬, usually with friends.  \n",
    "\n",
    "\n"
   ]
  },
  {
   "cell_type": "code",
   "execution_count": 43,
   "metadata": {
    "scrolled": true
   },
   "outputs": [
    {
     "name": "stdout",
     "output_type": "stream",
     "text": [
      "True Probabilities L form\n",
      "[] 0.028038245170009683\n",
      "[1] 0.005806140666687881\n",
      "[2] 0.18421657543948802\n",
      "[3] 0.09647220588162071\n",
      "[1, 2] 0.032681853024595385\n",
      "[1, 3] 0.006644019186729076\n",
      "[2, 3] 0.6292005588218742\n",
      "[1, 2, 3] 0.016940401808994712\n",
      "\n",
      "Cumulatives Probabilities K form\n",
      "[] 1\n",
      "[1] 0.06207241468700705 0.062072414687007076\n",
      "[2] 0.8630393890949524 0.8630393890949527\n",
      "[3] 0.7492571856992187 0.7492571856992188\n",
      "[1, 2] 0.049622254833590104 0.04962225483359012\n",
      "[1, 3] 0.02358442099572379 0.023584420995723783\n",
      "[2, 3] 0.646140960630869 0.6461409606308691\n",
      "[1, 2, 3] 0.016940401808994712 0.016940401808994712\n"
     ]
    }
   ],
   "source": [
    "println(\"True Probabilities L form\")\n",
    "println(\"[]\",\" \",1/det(I+L))\n",
    "for 𝒬 ∈ combinations(1:N)\n",
    "    println(𝒬,\" \",det(L[𝒬,𝒬])/det(I+L))\n",
    "end\n",
    "\n",
    "println()\n",
    "K = L/(L+I) # L * inv(L+I)\n",
    "# L = K/(I-K)\n",
    "\n",
    "println(\"Cumulatives Probabilities K form\")\n",
    "  println(\"[] \",1)\n",
    "for A = combinations(1:N)\n",
    "# Generate all subsets Y\n",
    "  \n",
    " print(A, \" \",sum( det(L[Y,Y]) for Y ∈ combinations(1:N) if A ⊆ Y) / det(I+L))\n",
    " println(\" \",det(K[A,A]) )\n",
    "end\n",
    "                "
   ]
  },
  {
   "cell_type": "code",
   "execution_count": 44,
   "metadata": {},
   "outputs": [
    {
     "name": "stdout",
     "output_type": "stream",
     "text": [
      "True Probabilities L form\n",
      "[] 0.028038245170009683\n",
      "[1] 0.005806140666687881\n",
      "[2] 0.18421657543948802\n",
      "[3] 0.09647220588162071\n",
      "[1, 2] 0.032681853024595385\n",
      "[1, 3] 0.006644019186729076\n",
      "[2, 3] 0.6292005588218742\n",
      "[1, 2, 3] 0.016940401808994712\n",
      "\n",
      "Cumulative Probabilities K form\n",
      "[] 1\n",
      "[1] 0.06207241468700705 0.062072414687007076 0.9379275853129929\n",
      "[2] 0.8630393890949524 0.8630393890949527 0.1369606109050473\n",
      "[3] 0.7492571856992187 0.7492571856992188 0.25074281430078116\n",
      "[1, 2] 0.049622254833590104 0.04962225483359012 0.12451045105163035\n",
      "[1, 3] 0.02358442099572379 0.023584420995723783 0.21225482060949788\n",
      "[2, 3] 0.646140960630869 0.6461409606308691 0.03384438583669757\n",
      "[1, 2, 3] 0.016940401808994712 0.016940401808994712 0.02803824517000969\n"
     ]
    }
   ],
   "source": [
    "println(\"True Probabilities L form\")\n",
    "println(\"[]\",\" \",1/det(I+L))\n",
    "for 𝒬 ∈ combinations(1:N)\n",
    "    println(𝒬,\" \",det(L[𝒬,𝒬])/det(I+L))\n",
    "end\n",
    "\n",
    "println()\n",
    "K = L/(L+I) # L * inv(L+I)\n",
    "# L = K/(I-K)\n",
    "\n",
    "println(\"Cumulative Probabilities K form\")\n",
    "  println(\"[] \",1)\n",
    "for A = combinations(1:N)\n",
    "# Generate all subsets Y\n",
    "  \n",
    " print(A, \" \",sum( det(L[Y,Y]) for Y ∈ combinations(1:N) if A ⊆ Y) / det(I+L))\n",
    " println(\" \",det(K[A,A]) ,\" \",det( (I-K)[A,A]))\n",
    "end"
   ]
  },
  {
   "cell_type": "code",
   "execution_count": 45,
   "metadata": {},
   "outputs": [],
   "source": [
    "## an n-DPP becomes a full DPP"
   ]
  },
  {
   "cell_type": "code",
   "execution_count": 46,
   "metadata": {},
   "outputs": [
    {
     "data": {
      "text/plain": [
       "6×6 Array{Float64,2}:\n",
       " 0.824231    0.155834    0.0148588   0.243966    0.176197    0.17264\n",
       " 0.155834    0.0796822  -0.167243    0.0637997   0.0965977  -0.0876186\n",
       " 0.0148588  -0.167243    0.885629   -0.158135    0.158185    0.15189\n",
       " 0.243966    0.0637997  -0.158135    0.112498   -0.0480896   0.0945142\n",
       " 0.176197    0.0965977   0.158185   -0.0480896   0.558032   -0.42299\n",
       " 0.17264    -0.0876186   0.15189     0.0945142  -0.42299     0.539929"
      ]
     },
     "execution_count": 46,
     "metadata": {},
     "output_type": "execute_result"
    }
   ],
   "source": [
    "N,n,p = 6,3,3\n",
    "Y,_ = qr(randn(N,p))\n",
    "Y = Matrix(Y)\n",
    "L = Y*Y'"
   ]
  },
  {
   "cell_type": "code",
   "execution_count": 47,
   "metadata": {},
   "outputs": [
    {
     "name": "stdout",
     "output_type": "stream",
     "text": [
      "[1, 2, 3] 0.012812196777145153\n",
      "[1, 2, 4] 0.0014100477974724052\n",
      "[1, 2, 5] 0.018238058606483077\n",
      "[1, 2, 6] 0.008931854666363833\n",
      "[1, 3, 4] 0.007624421664300444\n",
      "[1, 3, 5] 0.3599281807224589\n",
      "[1, 3, 6] 0.34937662314824053\n",
      "[1, 4, 5] 0.008996198890965765\n",
      "[1, 4, 6] 0.015173951609273904\n",
      "[1, 5, 6] 0.04173903063088693\n",
      "[2, 3, 4] 0.0025694284154193963\n",
      "[2, 3, 5] 0.008402694616168277\n",
      "[2, 3, 6] 0.01881448666068524\n",
      "[2, 4, 5] 0.0009040792329386444\n",
      "[2, 4, 6] 1.0119392370159852e-5\n",
      "[2, 5, 6] 0.007589274859268083\n",
      "[3, 4, 5] 0.0391856927053702\n",
      "[3, 4, 6] 0.025245062532341347\n",
      "[3, 5, 6] 0.06166986836797146\n",
      "[4, 5, 6] 0.011378728703875794\n",
      "0.9999999999999997\n"
     ]
    }
   ],
   "source": [
    "# This is a probability space\n",
    "z=0\n",
    " for 𝒬 ∈ combinations(1:N,n)\n",
    "     z += det(L[𝒬,𝒬])\n",
    "    println(𝒬,\" \",det(L[𝒬,𝒬]))\n",
    "end\n",
    "println(z)"
   ]
  },
  {
   "cell_type": "code",
   "execution_count": 48,
   "metadata": {},
   "outputs": [
    {
     "name": "stdout",
     "output_type": "stream",
     "text": [
      "[1]\n",
      "  [1, 2, 3]\n",
      "  [1, 2, 4]\n",
      "  [1, 2, 5]\n",
      "  [1, 2, 6]\n",
      "  [1, 3, 4]\n",
      "  [1, 3, 5]\n",
      "  [1, 3, 6]\n",
      "  [1, 4, 5]\n",
      "  [1, 4, 6]\n",
      "  [1, 5, 6]\n",
      "[2]\n",
      "  [2, 1, 3]\n",
      "  [2, 1, 4]\n",
      "  [2, 1, 5]\n",
      "  [2, 1, 6]\n",
      "  [2, 3, 4]\n",
      "  [2, 3, 5]\n",
      "  [2, 3, 6]\n",
      "  [2, 4, 5]\n",
      "  [2, 4, 6]\n",
      "  [2, 5, 6]\n",
      "[3]\n",
      "  [3, 1, 2]\n",
      "  [3, 1, 4]\n",
      "  [3, 1, 5]\n",
      "  [3, 1, 6]\n",
      "  [3, 2, 4]\n",
      "  [3, 2, 5]\n",
      "  [3, 2, 6]\n",
      "  [3, 4, 5]\n",
      "  [3, 4, 6]\n",
      "  [3, 5, 6]\n",
      "[4]\n",
      "  [4, 1, 2]\n",
      "  [4, 1, 3]\n",
      "  [4, 1, 5]\n",
      "  [4, 1, 6]\n",
      "  [4, 2, 3]\n",
      "  [4, 2, 5]\n",
      "  [4, 2, 6]\n",
      "  [4, 3, 5]\n",
      "  [4, 3, 6]\n",
      "  [4, 5, 6]\n",
      "[5]\n",
      "  [5, 1, 2]\n",
      "  [5, 1, 3]\n",
      "  [5, 1, 4]\n",
      "  [5, 1, 6]\n",
      "  [5, 2, 3]\n",
      "  [5, 2, 4]\n",
      "  [5, 2, 6]\n",
      "  [5, 3, 4]\n",
      "  [5, 3, 6]\n",
      "  [5, 4, 6]\n",
      "[6]\n",
      "  [6, 1, 2]\n",
      "  [6, 1, 3]\n",
      "  [6, 1, 4]\n",
      "  [6, 1, 5]\n",
      "  [6, 2, 3]\n",
      "  [6, 2, 4]\n",
      "  [6, 2, 5]\n",
      "  [6, 3, 4]\n",
      "  [6, 3, 5]\n",
      "  [6, 4, 5]\n",
      "[1, 2]\n",
      "  [1, 2, 3]\n",
      "  [1, 2, 4]\n",
      "  [1, 2, 5]\n",
      "  [1, 2, 6]\n",
      "[1, 3]\n",
      "  [1, 3, 2]\n",
      "  [1, 3, 4]\n",
      "  [1, 3, 5]\n",
      "  [1, 3, 6]\n",
      "[1, 4]\n",
      "  [1, 4, 2]\n",
      "  [1, 4, 3]\n",
      "  [1, 4, 5]\n",
      "  [1, 4, 6]\n",
      "[1, 5]\n",
      "  [1, 5, 2]\n",
      "  [1, 5, 3]\n",
      "  [1, 5, 4]\n",
      "  [1, 5, 6]\n",
      "[1, 6]\n",
      "  [1, 6, 2]\n",
      "  [1, 6, 3]\n",
      "  [1, 6, 4]\n",
      "  [1, 6, 5]\n",
      "[2, 3]\n",
      "  [2, 3, 1]\n",
      "  [2, 3, 4]\n",
      "  [2, 3, 5]\n",
      "  [2, 3, 6]\n",
      "[2, 4]\n",
      "  [2, 4, 1]\n",
      "  [2, 4, 3]\n",
      "  [2, 4, 5]\n",
      "  [2, 4, 6]\n",
      "[2, 5]\n",
      "  [2, 5, 1]\n",
      "  [2, 5, 3]\n",
      "  [2, 5, 4]\n",
      "  [2, 5, 6]\n",
      "[2, 6]\n",
      "  [2, 6, 1]\n",
      "  [2, 6, 3]\n",
      "  [2, 6, 4]\n",
      "  [2, 6, 5]\n",
      "[3, 4]\n",
      "  [3, 4, 1]\n",
      "  [3, 4, 2]\n",
      "  [3, 4, 5]\n",
      "  [3, 4, 6]\n",
      "[3, 5]\n",
      "  [3, 5, 1]\n",
      "  [3, 5, 2]\n",
      "  [3, 5, 4]\n",
      "  [3, 5, 6]\n",
      "[3, 6]\n",
      "  [3, 6, 1]\n",
      "  [3, 6, 2]\n",
      "  [3, 6, 4]\n",
      "  [3, 6, 5]\n",
      "[4, 5]\n",
      "  [4, 5, 1]\n",
      "  [4, 5, 2]\n",
      "  [4, 5, 3]\n",
      "  [4, 5, 6]\n",
      "[4, 6]\n",
      "  [4, 6, 1]\n",
      "  [4, 6, 2]\n",
      "  [4, 6, 3]\n",
      "  [4, 6, 5]\n",
      "[5, 6]\n",
      "  [5, 6, 1]\n",
      "  [5, 6, 2]\n",
      "  [5, 6, 3]\n",
      "  [5, 6, 4]\n",
      "[1, 2, 3]\n",
      "  [1, 2, 3]\n",
      "[1, 2, 4]\n",
      "  [1, 2, 4]\n",
      "[1, 2, 5]\n",
      "  [1, 2, 5]\n",
      "[1, 2, 6]\n",
      "  [1, 2, 6]\n",
      "[1, 3, 4]\n",
      "  [1, 3, 4]\n",
      "[1, 3, 5]\n",
      "  [1, 3, 5]\n",
      "[1, 3, 6]\n",
      "  [1, 3, 6]\n",
      "[1, 4, 5]\n",
      "  [1, 4, 5]\n",
      "[1, 4, 6]\n",
      "  [1, 4, 6]\n",
      "[1, 5, 6]\n",
      "  [1, 5, 6]\n",
      "[2, 3, 4]\n",
      "  [2, 3, 4]\n",
      "[2, 3, 5]\n",
      "  [2, 3, 5]\n",
      "[2, 3, 6]\n",
      "  [2, 3, 6]\n",
      "[2, 4, 5]\n",
      "  [2, 4, 5]\n",
      "[2, 4, 6]\n",
      "  [2, 4, 6]\n",
      "[2, 5, 6]\n",
      "  [2, 5, 6]\n",
      "[3, 4, 5]\n",
      "  [3, 4, 5]\n",
      "[3, 4, 6]\n",
      "  [3, 4, 6]\n",
      "[3, 5, 6]\n",
      "  [3, 5, 6]\n",
      "[4, 5, 6]\n",
      "  [4, 5, 6]\n",
      "[1, 2, 3, 4]\n",
      "[1, 2, 3, 5]\n",
      "[1, 2, 3, 6]\n",
      "[1, 2, 4, 5]\n",
      "[1, 2, 4, 6]\n",
      "[1, 2, 5, 6]\n",
      "[1, 3, 4, 5]\n",
      "[1, 3, 4, 6]\n",
      "[1, 3, 5, 6]\n",
      "[1, 4, 5, 6]\n",
      "[2, 3, 4, 5]\n",
      "[2, 3, 4, 6]\n",
      "[2, 3, 5, 6]\n",
      "[2, 4, 5, 6]\n",
      "[3, 4, 5, 6]\n",
      "[1, 2, 3, 4, 5]\n",
      "[1, 2, 3, 4, 6]\n",
      "[1, 2, 3, 5, 6]\n",
      "[1, 2, 4, 5, 6]\n",
      "[1, 3, 4, 5, 6]\n",
      "[2, 3, 4, 5, 6]\n",
      "[1, 2, 3, 4, 5, 6]\n"
     ]
    }
   ],
   "source": [
    "for Y ∈ combinations(1:N)\n",
    "    println(Y)\n",
    "    for T ∈ combinations( setdiff(1:N,Y), n-length(Y)) \n",
    "       println(\"  \", union(Y,T))\n",
    "    end\n",
    "end"
   ]
  },
  {
   "cell_type": "code",
   "execution_count": 49,
   "metadata": {},
   "outputs": [
    {
     "name": "stdout",
     "output_type": "stream",
     "text": [
      "[1] 0.824230564513591 0.8242305645135911\n",
      "[2] 0.07968224102431427 0.07968224102431426\n",
      "[3] 0.8856286556101008 0.8856286556101014\n",
      "[4] 0.11249773094432805 0.11249773094432815\n",
      "[5] 0.5580318073363871 0.5580318073363872\n",
      "[6] 0.5399290005712774 0.5399290005712775\n",
      "[1, 2] 0.04139215784746447 0.04139215784746446\n",
      "[1, 3] 0.729741422312145 0.7297414223121452\n",
      "[1, 4] 0.033204619962012516 0.03320461996201255\n",
      "[1, 5] 0.4289014688507946 0.42890146885079466\n",
      "[1, 6] 0.41522146005476523 0.4152214600547652\n",
      "[2, 3] 0.042598806469418056 0.042598806469418056\n",
      "[2, 4] 0.004893674838200607 0.004893674838200607\n",
      "[2, 5] 0.03513410731485808 0.03513410731485808\n",
      "[2, 6] 0.035345735578687316 0.035345735578687316\n",
      "[3, 4] 0.07462460531743138 0.07462460531743144\n",
      "[3, 5] 0.4691864364119688 0.4691864364119689\n",
      "[3, 6] 0.4551060407092385 0.4551060407092387\n",
      "[4, 5] 0.06046469953315041 0.060464699533150416\n",
      "[4, 6] 0.0518078622378612 0.05180786223786122\n",
      "[5, 6] 0.12237690256200223 0.12237690256200232\n",
      "[1, 2, 3] 0.012812196777145153 0.012812196777145153\n",
      "[1, 2, 4] 0.0014100477974724052 0.0014100477974724052\n",
      "[1, 2, 5] 0.018238058606483077 0.018238058606483077\n",
      "[1, 2, 6] 0.008931854666363833 0.008931854666363833\n",
      "[1, 3, 4] 0.007624421664300444 0.007624421664300444\n",
      "[1, 3, 5] 0.3599281807224589 0.3599281807224589\n",
      "[1, 3, 6] 0.34937662314824053 0.34937662314824053\n",
      "[1, 4, 5] 0.008996198890965765 0.008996198890965765\n",
      "[1, 4, 6] 0.015173951609273904 0.015173951609273904\n",
      "[1, 5, 6] 0.04173903063088693 0.04173903063088693\n",
      "[2, 3, 4] 0.0025694284154193963 0.0025694284154193963\n",
      "[2, 3, 5] 0.008402694616168277 0.008402694616168277\n",
      "[2, 3, 6] 0.01881448666068524 0.01881448666068524\n",
      "[2, 4, 5] 0.0009040792329386444 0.0009040792329386444\n",
      "[2, 4, 6] 1.0119392370159852e-5 1.0119392370159852e-5\n",
      "[2, 5, 6] 0.007589274859268083 0.007589274859268083\n",
      "[3, 4, 5] 0.0391856927053702 0.0391856927053702\n",
      "[3, 4, 6] 0.025245062532341347 0.025245062532341347\n",
      "[3, 5, 6] 0.06166986836797146 0.06166986836797146\n",
      "[4, 5, 6] 0.011378728703875794 0.011378728703875794\n",
      "[1, 2, 3, 4]"
     ]
    },
    {
     "ename": "LoadError",
     "evalue": "ArgumentError: reducing over an empty collection is not allowed",
     "output_type": "error",
     "traceback": [
      "ArgumentError: reducing over an empty collection is not allowed",
      "",
      "Stacktrace:",
      " [1] _empty_reduce_error() at ./reduce.jl:299",
      " [2] mapreduce_empty(::Function, ::Base.MappingRF{var\"#39#40\"{Array{Int64,1}},Base.BottomRF{typeof(Base.add_sum)}}, ::Type{T} where T) at ./reduce.jl:342",
      " [3] reduce_empty(::Base.MappingRF{Combinatorics.var\"#reorder#10\"{Array{Int64,1}},Base.MappingRF{var\"#39#40\"{Array{Int64,1}},Base.BottomRF{typeof(Base.add_sum)}}}, ::Type{Array{Int64,1}}) at ./reduce.jl:329",
      " [4] reduce_empty_iter at ./reduce.jl:355 [inlined]",
      " [5] reduce_empty_iter at ./reduce.jl:354 [inlined]",
      " [6] foldl_impl(::Base.MappingRF{Combinatorics.var\"#reorder#10\"{Array{Int64,1}},Base.MappingRF{var\"#39#40\"{Array{Int64,1}},Base.BottomRF{typeof(Base.add_sum)}}}, ::NamedTuple{(),Tuple{}}, ::Combinatorics.Combinations) at ./reduce.jl:49",
      " [7] mapfoldl_impl(::typeof(identity), ::typeof(Base.add_sum), ::NamedTuple{(),Tuple{}}, ::Base.Generator{Base.Generator{Combinatorics.Combinations,Combinatorics.var\"#reorder#10\"{Array{Int64,1}}},var\"#39#40\"{Array{Int64,1}}}) at ./reduce.jl:44",
      " [8] #mapfoldl#204 at ./reduce.jl:160 [inlined]",
      " [9] mapfoldl at ./reduce.jl:160 [inlined]",
      " [10] #mapreduce#208 at ./reduce.jl:287 [inlined]",
      " [11] mapreduce at ./reduce.jl:287 [inlined]",
      " [12] sum at ./reduce.jl:494 [inlined]",
      " [13] sum(::Base.Generator{Base.Generator{Combinatorics.Combinations,Combinatorics.var\"#reorder#10\"{Array{Int64,1}}},var\"#39#40\"{Array{Int64,1}}}) at ./reduce.jl:511",
      " [14] top-level scope at In[49]:4",
      " [15] include_string(::Function, ::Module, ::String, ::String) at ./loading.jl:1091"
     ]
    }
   ],
   "source": [
    "# For every subset of 1:N add up the probabilities that are included\n",
    "for Y ∈ combinations(1:N)\n",
    "    print(Y)\n",
    "    zz = sum( det(L[union(Y,T),union(Y,T)]) for T ∈ combinations( setdiff(1:N,Y), n-length(Y)) )\n",
    "    print(\" \",zz),println(\" \",det(L[Y,Y]))\n",
    "end"
   ]
  },
  {
   "cell_type": "code",
   "execution_count": 50,
   "metadata": {},
   "outputs": [
    {
     "data": {
      "text/plain": [
       "0.8242305645135911"
      ]
     },
     "execution_count": 50,
     "metadata": {},
     "output_type": "execute_result"
    }
   ],
   "source": [
    "L[1,1]"
   ]
  },
  {
   "cell_type": "code",
   "execution_count": 51,
   "metadata": {},
   "outputs": [
    {
     "data": {
      "text/plain": [
       "0.824230564513591"
      ]
     },
     "execution_count": 51,
     "metadata": {},
     "output_type": "execute_result"
    }
   ],
   "source": [
    "det(L[ [1,2,3],[1,2,3]])  +\n",
    "det(L[ [1,2,4],[1,2,4]])  +\n",
    "det(L[ [1,2,5],[1,2,5]])  +\n",
    "det(L[ [1,2,6],[1,2,6]])  +\n",
    "det(L[ [1,3,4],[1,3,4]])  +\n",
    "det(L[ [1,3,5],[1,3,5]])  +\n",
    "det(L[ [1,3,6],[1,3,6]])  +\n",
    "det(L[ [1,4,5],[1,4,5]])  +\n",
    "det(L[ [1,4,6],[1,4,6]])  +\n",
    "det(L[ [1,5,6],[1,5,6]])  \n",
    "\n",
    "\n"
   ]
  },
  {
   "cell_type": "code",
   "execution_count": 52,
   "metadata": {},
   "outputs": [
    {
     "data": {
      "text/plain": [
       "6×6 Array{Float64,2}:\n",
       "  4.38233e16  7.53189e14   1.57418e16   1.38218e16  -1.2716e16    3.60288e16\n",
       "  9.13617e14  8.50726e12   8.77207e14   1.11567e14   3.51807e14   3.30284e14\n",
       "  1.44315e16  8.04657e14   6.83038e14   5.61544e15  -6.60736e15   1.2716e16\n",
       "  1.41327e16  6.37913e13   6.14627e15   4.24075e15  -3.77397e15   1.16612e16\n",
       " -1.3429e16   3.95168e14  -7.28397e15  -3.90227e15   4.27933e15  -1.22553e16\n",
       "  3.6285e16   1.96451e14   1.39251e16   1.14782e16  -1.17298e16   3.13181e16"
      ]
     },
     "execution_count": 52,
     "metadata": {},
     "output_type": "execute_result"
    }
   ],
   "source": [
    "L/(I-L)"
   ]
  },
  {
   "cell_type": "code",
   "execution_count": 53,
   "metadata": {},
   "outputs": [
    {
     "data": {
      "text/plain": [
       "Eigen{Float64,Float64,Array{Float64,2},Array{Float64,1}}\n",
       "values:\n",
       "6-element Array{Float64,1}:\n",
       " -1.2245232719472515e-15\n",
       "  2.627149206942526e-16\n",
       "  4.040027745800043e-16\n",
       "  0.9999999999999992\n",
       "  1.0\n",
       "  1.0000000000000002\n",
       "vectors:\n",
       "6×6 Array{Float64,2}:\n",
       "  0.254555   0.190598     0.27321     -0.704227   0.572835   -0.0124371\n",
       " -0.140555  -0.926193     0.206708    -0.24298   -0.0297235  -0.140569\n",
       "  0.222158  -0.23589     -0.096813     0.138014   0.215274    0.90567\n",
       "  0.144446  -0.157796    -0.917463    -0.173715   0.208042   -0.197584\n",
       " -0.620671   0.15888     -0.177461    -0.552878  -0.364601    0.345578\n",
       " -0.678229   0.00720722  -0.00500354   0.30021    0.66964    -0.0372093"
      ]
     },
     "execution_count": 53,
     "metadata": {},
     "output_type": "execute_result"
    }
   ],
   "source": [
    "λ,X = eigen(L)"
   ]
  },
  {
   "cell_type": "code",
   "execution_count": 54,
   "metadata": {},
   "outputs": [
    {
     "data": {
      "text/plain": [
       "6×6 Array{Float64,2}:\n",
       "  0.254555   0.190598     0.27321     -0.704227   0.572835   -0.0124371\n",
       " -0.140555  -0.926193     0.206708    -0.24298   -0.0297235  -0.140569\n",
       "  0.222158  -0.23589     -0.096813     0.138014   0.215274    0.90567\n",
       "  0.144446  -0.157796    -0.917463    -0.173715   0.208042   -0.197584\n",
       " -0.620671   0.15888     -0.177461    -0.552878  -0.364601    0.345578\n",
       " -0.678229   0.00720722  -0.00500354   0.30021    0.66964    -0.0372093"
      ]
     },
     "execution_count": 54,
     "metadata": {},
     "output_type": "execute_result"
    }
   ],
   "source": [
    "X"
   ]
  },
  {
   "cell_type": "code",
   "execution_count": 55,
   "metadata": {},
   "outputs": [
    {
     "data": {
      "text/plain": [
       "6-element Array{Float64,1}:\n",
       " -1.2245232719472515e-15\n",
       "  2.627149206942526e-16\n",
       "  4.040027745800043e-16\n",
       "  0.9999999999999992\n",
       "  1.0\n",
       "  1.0000000000000002"
      ]
     },
     "execution_count": 55,
     "metadata": {},
     "output_type": "execute_result"
    }
   ],
   "source": [
    "λ"
   ]
  },
  {
   "cell_type": "code",
   "execution_count": 56,
   "metadata": {},
   "outputs": [
    {
     "data": {
      "text/plain": [
       "6×6 Array{Float64,2}:\n",
       " 4.51028e-17   2.82066e-15   1.71738e-15  …  -2.67841e-15  -2.42861e-15\n",
       " 0.0           1.01395e-15   5.79398e-16     -8.95117e-16  -8.04912e-16\n",
       " 2.42861e-17  -8.56953e-16  -4.02456e-16      5.82867e-16   4.71845e-16\n",
       " 1.73472e-17   7.92769e-16   4.54498e-16     -7.21645e-16  -6.38378e-16\n",
       " 1.38778e-17   1.94983e-15   1.19349e-15     -1.85962e-15  -1.72085e-15\n",
       " 2.77556e-17  -1.04083e-15  -5.96745e-16  …   8.88178e-16   8.32667e-16"
      ]
     },
     "execution_count": 56,
     "metadata": {},
     "output_type": "execute_result"
    }
   ],
   "source": [
    "L * pinv(I-L)"
   ]
  },
  {
   "cell_type": "code",
   "execution_count": 57,
   "metadata": {},
   "outputs": [
    {
     "data": {
      "text/plain": [
       "0.0120060009999996"
      ]
     },
     "execution_count": 57,
     "metadata": {},
     "output_type": "execute_result"
    }
   ],
   "source": [
    "x = 2\n",
    "dx = .001\n",
    "u = x^3\n",
    "2.001^3 - 2^3"
   ]
  },
  {
   "cell_type": "code",
   "execution_count": 58,
   "metadata": {},
   "outputs": [
    {
     "data": {
      "text/plain": [
       "0.012"
      ]
     },
     "execution_count": 58,
     "metadata": {},
     "output_type": "execute_result"
    }
   ],
   "source": [
    "3*x^2 * dx"
   ]
  },
  {
   "cell_type": "code",
   "execution_count": 59,
   "metadata": {},
   "outputs": [
    {
     "data": {
      "text/plain": [
       "4×4 Array{Float64,2}:\n",
       " 0.425128   0.374893  0.0561981  0.304429\n",
       " 0.0758814  0.462337  0.898887   0.929383\n",
       " 0.405058   0.203662  0.434637   0.0585935\n",
       " 0.681476   0.173493  0.898029   0.789016"
      ]
     },
     "execution_count": 59,
     "metadata": {},
     "output_type": "execute_result"
    }
   ],
   "source": [
    " X = rand(4,4)"
   ]
  },
  {
   "cell_type": "code",
   "execution_count": 60,
   "metadata": {},
   "outputs": [
    {
     "data": {
      "text/plain": [
       "4×4 Array{Float64,2}:\n",
       " 0.000156294  0.000305621  0.000413437  0.000602293\n",
       " 2.94795e-5   0.00043605   0.000393405  0.000369189\n",
       " 0.000219023  0.000171953  0.000274826  0.000635015\n",
       " 0.000322692  0.000798387  0.000676418  8.06268e-5"
      ]
     },
     "execution_count": 60,
     "metadata": {},
     "output_type": "execute_result"
    }
   ],
   "source": [
    "dX = .001 * rand(4,4)"
   ]
  },
  {
   "cell_type": "code",
   "execution_count": 61,
   "metadata": {},
   "outputs": [
    {
     "data": {
      "text/plain": [
       "4×4 Array{Float64,2}:\n",
       " 0.00239734  0.00229059  0.00372628  0.00312521\n",
       " 0.003362    0.0035868   0.00563982  0.00504914\n",
       " 0.00212872  0.00176878  0.0030859   0.00269118\n",
       " 0.00372573  0.00372329  0.00623359  0.00554783"
      ]
     },
     "execution_count": 61,
     "metadata": {},
     "output_type": "execute_result"
    }
   ],
   "source": [
    "(X+dX)^3 - X^3"
   ]
  },
  {
   "cell_type": "code",
   "execution_count": 62,
   "metadata": {},
   "outputs": [
    {
     "data": {
      "text/plain": [
       "4×4 Array{Float64,2}:\n",
       " 0.00239559  0.00228794  0.00372282  0.00312203\n",
       " 0.00336018  0.00358372  0.00563605  0.00504563\n",
       " 0.00212712  0.0017663   0.00308273  0.00268841\n",
       " 0.00372329  0.0037195   0.00622876  0.00554353"
      ]
     },
     "execution_count": 62,
     "metadata": {},
     "output_type": "execute_result"
    }
   ],
   "source": [
    "X^2 * dX + X * dX * X + dX * X^2"
   ]
  },
  {
   "cell_type": "code",
   "execution_count": 63,
   "metadata": {},
   "outputs": [
    {
     "data": {
      "text/plain": [
       "4×4 Array{Float64,2}:\n",
       "  0.823271  -1.10892    0.170614   0.975887\n",
       "  1.38778    1.06869    1.55641   -1.90984\n",
       " -1.51262    0.514136   1.74644   -0.151676\n",
       "  0.705396   0.13762   -2.47732    1.0171"
      ]
     },
     "execution_count": 63,
     "metadata": {},
     "output_type": "execute_result"
    }
   ],
   "source": [
    "Y = inv(X)"
   ]
  },
  {
   "cell_type": "code",
   "execution_count": 64,
   "metadata": {},
   "outputs": [
    {
     "data": {
      "text/plain": [
       "4×4 Array{Float64,2}:\n",
       " -0.000436956  -0.000470541  -0.00136566   0.000479263\n",
       " -0.00072923    1.30248e-5    0.00547415  -0.00276095\n",
       " -0.000345      0.000159695   0.00108484  -0.000612157\n",
       "  0.000415301  -0.000860769  -0.0041531    0.00245226"
      ]
     },
     "execution_count": 64,
     "metadata": {},
     "output_type": "execute_result"
    }
   ],
   "source": [
    "inv(X+dX) - inv(X) # dY"
   ]
  },
  {
   "cell_type": "code",
   "execution_count": 65,
   "metadata": {},
   "outputs": [
    {
     "data": {
      "text/plain": [
       "4×4 Array{Float64,2}:\n",
       " -0.000437669  -0.000470882  -0.00136359   0.000478182\n",
       " -0.000728138   1.12762e-5    0.00546375  -0.00275497\n",
       " -0.000344834   0.000159311   0.00108275  -0.000610992\n",
       "  0.000414319  -0.000859783  -0.00414474   0.00244768"
      ]
     },
     "execution_count": 65,
     "metadata": {},
     "output_type": "execute_result"
    }
   ],
   "source": [
    "-X\\dX/X"
   ]
  },
  {
   "cell_type": "code",
   "execution_count": 66,
   "metadata": {},
   "outputs": [
    {
     "data": {
      "text/plain": [
       "4×4 Array{Float64,2}:\n",
       " -0.00140145    3.23809e-5    3.08133e-6   0.000351888\n",
       " -0.000160855  -0.000574006  -0.00312463   0.00158895\n",
       " -0.00214429    0.000656958   0.00224832  -0.00073389\n",
       "  0.00279474   -0.00146372   -0.00842792   0.00283119"
      ]
     },
     "execution_count": 66,
     "metadata": {},
     "output_type": "execute_result"
    }
   ],
   "source": [
    "-dX/(X^2)"
   ]
  },
  {
   "cell_type": "code",
   "execution_count": 67,
   "metadata": {},
   "outputs": [
    {
     "data": {
      "text/plain": [
       "2×2 Array{Int64,2}:\n",
       " 1  2\n",
       " 3  4"
      ]
     },
     "execution_count": 67,
     "metadata": {},
     "output_type": "execute_result"
    }
   ],
   "source": [
    "A = [1 2;3 4]"
   ]
  },
  {
   "cell_type": "code",
   "execution_count": 68,
   "metadata": {},
   "outputs": [
    {
     "data": {
      "text/plain": [
       "2×2 Array{Int64,2}:\n",
       "    1   10\n",
       " 1000  100"
      ]
     },
     "execution_count": 68,
     "metadata": {},
     "output_type": "execute_result"
    }
   ],
   "source": [
    "B = [1 10;1000 100]"
   ]
  },
  {
   "cell_type": "code",
   "execution_count": 69,
   "metadata": {},
   "outputs": [
    {
     "data": {
      "text/plain": [
       "4×4 Array{Int64,2}:\n",
       "    1   10     2   20\n",
       " 1000  100  2000  200\n",
       "    3   30     4   40\n",
       " 3000  300  4000  400"
      ]
     },
     "execution_count": 69,
     "metadata": {},
     "output_type": "execute_result"
    }
   ],
   "source": [
    "kron(A,B)"
   ]
  },
  {
   "cell_type": "code",
   "execution_count": 70,
   "metadata": {},
   "outputs": [
    {
     "data": {
      "text/plain": [
       "2×2 Array{Float64,2}:\n",
       " 0.838776  0.494312\n",
       " 0.116561  0.978142"
      ]
     },
     "execution_count": 70,
     "metadata": {},
     "output_type": "execute_result"
    }
   ],
   "source": [
    "X = rand(2,2)"
   ]
  },
  {
   "cell_type": "code",
   "execution_count": 71,
   "metadata": {},
   "outputs": [
    {
     "data": {
      "text/plain": [
       "4-element Array{Float64,1}:\n",
       "   22.555852413117393\n",
       " 2034.6852919104374\n",
       "   47.11609492585308\n",
       " 4919.803085060993"
      ]
     },
     "execution_count": 71,
     "metadata": {},
     "output_type": "execute_result"
    }
   ],
   "source": [
    "kron(A,B) * vec(X)"
   ]
  },
  {
   "cell_type": "code",
   "execution_count": 72,
   "metadata": {},
   "outputs": [
    {
     "data": {
      "text/plain": [
       "4-element Array{Float64,1}:\n",
       "   22.555852413117393\n",
       " 2034.6852919104372\n",
       "   47.11609492585308\n",
       " 4919.803085060992"
      ]
     },
     "execution_count": 72,
     "metadata": {},
     "output_type": "execute_result"
    }
   ],
   "source": [
    "vec(B*X*A')"
   ]
  },
  {
   "cell_type": "code",
   "execution_count": 73,
   "metadata": {},
   "outputs": [
    {
     "data": {
      "text/plain": [
       "4-element Array{Float64,1}:\n",
       " 0.8387763638827626\n",
       " 0.11656137357355356\n",
       " 0.4943122058259235\n",
       " 0.9781418950923624"
      ]
     },
     "execution_count": 73,
     "metadata": {},
     "output_type": "execute_result"
    }
   ],
   "source": [
    "vec(X)"
   ]
  },
  {
   "cell_type": "markdown",
   "metadata": {},
   "source": [
    "### Sampling"
   ]
  },
  {
   "cell_type": "markdown",
   "metadata": {},
   "source": [
    "L = Q Λ Q'\n",
    "L / det(L+I)"
   ]
  },
  {
   "cell_type": "markdown",
   "metadata": {},
   "source": [
    "Cauchy - Binet"
   ]
  },
  {
   "cell_type": "code",
   "execution_count": 74,
   "metadata": {},
   "outputs": [],
   "source": [
    "# det(L[Y,Y]) = Σ det(Q[Y,J])^2 * det(Λ[J,J])/ det(Λ+I)"
   ]
  },
  {
   "cell_type": "code",
   "execution_count": 75,
   "metadata": {},
   "outputs": [
    {
     "data": {
      "text/plain": [
       "Eigen{Float64,Float64,Array{Float64,2},Array{Float64,1}}\n",
       "values:\n",
       "6-element Array{Float64,1}:\n",
       " -8.159139444589262e-17\n",
       " -6.387417973869905e-19\n",
       "  2.0622695295092247e-16\n",
       "  0.20946050977984326\n",
       "  0.9345186108004333\n",
       "  4.214300157931352\n",
       "vectors:\n",
       "6×6 Array{Float64,2}:\n",
       "  0.83985    -0.0751544  -0.045278  -0.272013    -0.15647   -0.434142\n",
       " -0.367018   -0.72079    -0.175215   0.00165675  -0.342857  -0.444416\n",
       " -0.348911    0.460784    0.469243  -0.424869    -0.263473  -0.442514\n",
       " -0.17224     0.34744    -0.684702  -0.00586304   0.406078  -0.464617\n",
       "  0.0924339   0.207624    0.211082   0.863396    -0.177521  -0.356126\n",
       "  0.0        -0.314116    0.483414   0.00223133   0.769503  -0.274776"
      ]
     },
     "execution_count": 75,
     "metadata": {},
     "output_type": "execute_result"
    }
   ],
   "source": [
    "L = rand(N,n)\n",
    "L = L*L'\n",
    "Λ,Q = eigen(L)"
   ]
  },
  {
   "cell_type": "code",
   "execution_count": 76,
   "metadata": {},
   "outputs": [
    {
     "data": {
      "text/plain": [
       "2-element Array{Int64,1}:\n",
       " 1\n",
       " 3"
      ]
     },
     "execution_count": 76,
     "metadata": {},
     "output_type": "execute_result"
    }
   ],
   "source": [
    "Y=[1, 3]"
   ]
  },
  {
   "cell_type": "code",
   "execution_count": 77,
   "metadata": {},
   "outputs": [
    {
     "data": {
      "text/plain": [
       "0.0116567943428334"
      ]
     },
     "execution_count": 77,
     "metadata": {},
     "output_type": "execute_result"
    }
   ],
   "source": [
    "det(L[Y,Y])"
   ]
  },
  {
   "cell_type": "code",
   "execution_count": 78,
   "metadata": {},
   "outputs": [
    {
     "data": {
      "text/plain": [
       "20-element Array{Array{Int64,1},1}:\n",
       " [1, 2, 3]\n",
       " [1, 2, 4]\n",
       " [1, 2, 5]\n",
       " [1, 2, 6]\n",
       " [1, 3, 4]\n",
       " [1, 3, 5]\n",
       " [1, 3, 6]\n",
       " [1, 4, 5]\n",
       " [1, 4, 6]\n",
       " [1, 5, 6]\n",
       " [2, 3, 4]\n",
       " [2, 3, 5]\n",
       " [2, 3, 6]\n",
       " [2, 4, 5]\n",
       " [2, 4, 6]\n",
       " [2, 5, 6]\n",
       " [3, 4, 5]\n",
       " [3, 4, 6]\n",
       " [3, 5, 6]\n",
       " [4, 5, 6]"
      ]
     },
     "execution_count": 78,
     "metadata": {},
     "output_type": "execute_result"
    }
   ],
   "source": [
    "[J for J ∈ combinations(1:N,n)]"
   ]
  },
  {
   "cell_type": "code",
   "execution_count": 79,
   "metadata": {},
   "outputs": [
    {
     "ename": "LoadError",
     "evalue": "DimensionMismatch(\"matrix is not square: dimensions are (2, 3)\")",
     "output_type": "error",
     "traceback": [
      "DimensionMismatch(\"matrix is not square: dimensions are (2, 3)\")",
      "",
      "Stacktrace:",
      " [1] checksquare at /Users/julia/buildbot/worker/package_macos64/build/usr/share/julia/stdlib/v1.5/LinearAlgebra/src/LinearAlgebra.jl:223 [inlined]",
      " [2] det(::LU{Float64,Array{Float64,2}}) at /Users/julia/buildbot/worker/package_macos64/build/usr/share/julia/stdlib/v1.5/LinearAlgebra/src/lu.jl:443",
      " [3] det(::Array{Float64,2}) at /Users/julia/buildbot/worker/package_macos64/build/usr/share/julia/stdlib/v1.5/LinearAlgebra/src/generic.jl:1538",
      " [4] top-level scope at ./In[79]:3",
      " [5] include_string(::Function, ::Module, ::String, ::String) at ./loading.jl:1091"
     ]
    }
   ],
   "source": [
    "z = 0\n",
    "for  J ∈ combinations(1:N,n)\n",
    "    z += det(Q[Y,J])^2 * prod(Λ[J])\n",
    "end\n",
    "z, det(L[Y,Y])"
   ]
  },
  {
   "cell_type": "code",
   "execution_count": 80,
   "metadata": {},
   "outputs": [],
   "source": [
    "# Bernoulli sampleis λ/(λ+1) for including 1/(λ+1) omitting"
   ]
  },
  {
   "cell_type": "code",
   "execution_count": 81,
   "metadata": {},
   "outputs": [
    {
     "data": {
      "text/plain": [
       "1.0000000000000002"
      ]
     },
     "execution_count": 81,
     "metadata": {},
     "output_type": "execute_result"
    }
   ],
   "source": [
    "sum( det(Q[Y,1:3])^2 for Y ∈ combinations(1:N,3))"
   ]
  },
  {
   "cell_type": "code",
   "execution_count": 9,
   "metadata": {},
   "outputs": [
    {
     "data": {
      "text/plain": [
       "10×10 Array{Float64,2}:\n",
       "  0.495686    0.338974     0.0681833  …   0.183458   -0.224641    0.0819902\n",
       "  0.338974    0.595765    -0.128849       0.127203    0.233565    0.0697819\n",
       "  0.0681833  -0.128849     0.367787      -0.0377563  -0.0687865   0.0670953\n",
       "  0.0612419   0.00488458  -0.318032      -0.0833792  -0.177055    0.169363 \n",
       " -0.167304   -0.00896543  -0.2641         0.0976489  -0.0328692  -0.0104064\n",
       "  0.0357256  -0.170402     0.121536   …  -0.0613954  -0.211119    0.179195 \n",
       " -0.0810474  -0.0676771   -0.122253      -0.0505765   0.0517957  -0.195785 \n",
       "  0.183458    0.127203    -0.0377563      0.298965   -0.189399   -0.315651 \n",
       " -0.224641    0.233565    -0.0687865     -0.189399    0.634696    0.0809592\n",
       "  0.0819902   0.0697819    0.0670953     -0.315651    0.0809592   0.668766 "
      ]
     },
     "execution_count": 9,
     "metadata": {},
     "output_type": "execute_result"
    }
   ],
   "source": [
    "## Build an n process\n",
    "N,n = 10,5\n",
    "Y,_ = qr(randn(N,n))\n",
    "Y = Matrix(Y)\n",
    "K = Y*Y'"
   ]
  },
  {
   "cell_type": "code",
   "execution_count": null,
   "metadata": {},
   "outputs": [],
   "source": [
    "## E( indicator 1 is in the set) vs Pr( 1 is in the set)\n",
    "## E( indicator that (1,2) is a subset) vs Pr( 1,2 )"
   ]
  },
  {
   "cell_type": "code",
   "execution_count": null,
   "metadata": {},
   "outputs": [],
   "source": [
    "## E( number of elements ) = \n",
    "## E sum( indicator for 1 + indicator for 2 + ... + indicator for N)\n",
    "## sum E( indicator for i)"
   ]
  },
  {
   "cell_type": "code",
   "execution_count": null,
   "metadata": {},
   "outputs": [],
   "source": [
    "## E ( number of pairs of elements ) =\n",
    "## for a fixed ensemble , that is (N choose 2)\n",
    "## for a non-fixed ensemle it's the sum of all 2x2 principal minors"
   ]
  },
  {
   "cell_type": "code",
   "execution_count": 10,
   "metadata": {},
   "outputs": [
    {
     "data": {
      "text/plain": [
       "9.999999999999998"
      ]
     },
     "execution_count": 10,
     "metadata": {},
     "output_type": "execute_result"
    }
   ],
   "source": [
    "sum( det(K[𝓘,𝓘]) for 𝓘 ∈ combinations(1:N,2))"
   ]
  },
  {
   "cell_type": "code",
   "execution_count": 13,
   "metadata": {},
   "outputs": [
    {
     "ename": "LoadError",
     "evalue": "syntax: extra token \"for\" after end of expression",
     "output_type": "error",
     "traceback": [
      "syntax: extra token \"for\" after end of expression",
      ""
     ]
    }
   ],
   "source": [
    "Pr([1 k ] ⊆ Y ) for k = 2,..., N\n",
    "Pr(1 ⊆ Y ) = sum(Pr([1 k ] ⊆ Y ) for k = 2:N )"
   ]
  },
  {
   "cell_type": "code",
   "execution_count": 57,
   "metadata": {},
   "outputs": [
    {
     "data": {
      "text/plain": [
       "3×3 Array{Float64,2}:\n",
       "  0.669123   -0.106444  -0.0770587\n",
       " -0.106444    0.498719  -0.114041 \n",
       " -0.0770587  -0.114041   0.706672 "
      ]
     },
     "execution_count": 57,
     "metadata": {},
     "output_type": "execute_result"
    }
   ],
   "source": [
    "N = 3\n",
    "Y = randn(N,N)\n",
    "L = Y'Y\n",
    "K = L/(L+I)"
   ]
  },
  {
   "cell_type": "code",
   "execution_count": 58,
   "metadata": {},
   "outputs": [
    {
     "data": {
      "text/plain": [
       "0.6691233473238447"
      ]
     },
     "execution_count": 58,
     "metadata": {},
     "output_type": "execute_result"
    }
   ],
   "source": [
    "x = K[1,1]"
   ]
  },
  {
   "cell_type": "code",
   "execution_count": 59,
   "metadata": {},
   "outputs": [
    {
     "data": {
      "text/plain": [
       "3"
      ]
     },
     "execution_count": 59,
     "metadata": {},
     "output_type": "execute_result"
    }
   ],
   "source": [
    "N"
   ]
  },
  {
   "cell_type": "code",
   "execution_count": 60,
   "metadata": {},
   "outputs": [
    {
     "data": {
      "text/plain": [
       "0.789286890241037"
      ]
     },
     "execution_count": 60,
     "metadata": {},
     "output_type": "execute_result"
    }
   ],
   "source": [
    "y = sum( det(K[𝓘,𝓘]) for 𝓘 ∈ [ [1,j] for j ∈2:N])\n"
   ]
  },
  {
   "cell_type": "code",
   "execution_count": 61,
   "metadata": {},
   "outputs": [
    {
     "data": {
      "text/plain": [
       "1.17958354524287"
      ]
     },
     "execution_count": 61,
     "metadata": {},
     "output_type": "execute_result"
    }
   ],
   "source": [
    "y/x"
   ]
  },
  {
   "cell_type": "code",
   "execution_count": 52,
   "metadata": {},
   "outputs": [
    {
     "data": {
      "text/plain": [
       "10×10 Array{Float64,2}:\n",
       "  0.72104    -0.148334   -0.0371702   0.147159    …   0.176335    0.135598  \n",
       " -0.148334    0.505128    0.0749591  -0.201607        0.136629   -0.1032    \n",
       " -0.0371702   0.0749591   0.320937   -0.0299874       0.195884   -0.264092  \n",
       "  0.147159   -0.201607   -0.0299874   0.571996        0.143732   -0.00226084\n",
       "  0.260519    0.169844   -0.0396777  -0.250642       -0.132691    0.119516  \n",
       "  0.078088    0.0491066  -0.167209   -0.196583    …   0.137285    0.109721  \n",
       "  0.138335    0.255319    0.0882337   0.0638511       0.238709   -0.0831395 \n",
       " -0.116258    0.236521   -0.254171    0.235391       -0.0322981   0.142821  \n",
       "  0.176335    0.136629    0.195884    0.143732        0.380374   -0.180053  \n",
       "  0.135598   -0.1032     -0.264092   -0.00226084     -0.180053    0.244733  "
      ]
     },
     "execution_count": 52,
     "metadata": {},
     "output_type": "execute_result"
    }
   ],
   "source": [
    "N,n = 10,5\n",
    "Y,_ = qr(randn(N,n))\n",
    "Y = Matrix(Y)\n",
    "K = Y*Y'"
   ]
  },
  {
   "cell_type": "code",
   "execution_count": 45,
   "metadata": {},
   "outputs": [
    {
     "data": {
      "text/plain": [
       "4-element Array{Float64,1}:\n",
       " -1.6686670654888869e-16\n",
       "  1.9462228216451735e-16\n",
       "  0.9999999999999996    \n",
       "  1.0000000000000002    "
      ]
     },
     "execution_count": 45,
     "metadata": {},
     "output_type": "execute_result"
    }
   ],
   "source": [
    "eigvals(K)"
   ]
  },
  {
   "cell_type": "code",
   "execution_count": 130,
   "metadata": {},
   "outputs": [
    {
     "ename": "LoadError",
     "evalue": "UndefVarError: α not defined",
     "output_type": "error",
     "traceback": [
      "UndefVarError: α not defined",
      "",
      "Stacktrace:",
      " [1] top-level scope",
      " [2] include_string(::Function, ::Module, ::String, ::String) at ./loading.jl:1091"
     ]
    }
   ],
   "source": [
    "α  # \\alpha + <tab>"
   ]
  },
  {
   "cell_type": "code",
   "execution_count": 131,
   "metadata": {},
   "outputs": [
    {
     "data": {
      "text/plain": [
       "13"
      ]
     },
     "execution_count": 131,
     "metadata": {},
     "output_type": "execute_result"
    }
   ],
   "source": [
    "α = 1\n",
    "α + 12"
   ]
  },
  {
   "cell_type": "code",
   "execution_count": 132,
   "metadata": {},
   "outputs": [
    {
     "data": {
      "text/plain": [
       "0.5"
      ]
     },
     "execution_count": 132,
     "metadata": {},
     "output_type": "execute_result"
    }
   ],
   "source": [
    "🐌 = 1/2"
   ]
  },
  {
   "cell_type": "code",
   "execution_count": 133,
   "metadata": {},
   "outputs": [
    {
     "data": {
      "text/plain": [
       "0.25"
      ]
     },
     "execution_count": 133,
     "metadata": {},
     "output_type": "execute_result"
    }
   ],
   "source": [
    "🐌* 🐌"
   ]
  },
  {
   "cell_type": "code",
   "execution_count": 134,
   "metadata": {},
   "outputs": [
    {
     "data": {
      "text/plain": [
       "3"
      ]
     },
     "execution_count": 134,
     "metadata": {},
     "output_type": "execute_result"
    }
   ],
   "source": [
    "👽 = 3"
   ]
  },
  {
   "cell_type": "markdown",
   "metadata": {},
   "source": [
    "$\\cal{I}$"
   ]
  },
  {
   "cell_type": "code",
   "execution_count": null,
   "metadata": {},
   "outputs": [],
   "source": []
  }
 ],
 "metadata": {
  "kernelspec": {
   "display_name": "Julia 1.5.2",
   "language": "julia",
   "name": "julia-1.5"
  },
  "language_info": {
   "file_extension": ".jl",
   "mimetype": "application/julia",
   "name": "julia",
   "version": "1.5.2"
  }
 },
 "nbformat": 4,
 "nbformat_minor": 2
}
