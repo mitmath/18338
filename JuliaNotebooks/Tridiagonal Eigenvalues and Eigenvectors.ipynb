{
 "cells": [
  {
   "cell_type": "code",
   "execution_count": 2,
   "metadata": {},
   "outputs": [],
   "source": [
    "using LinearAlgebra"
   ]
  },
  {
   "cell_type": "code",
   "execution_count": 131,
   "metadata": {},
   "outputs": [
    {
     "data": {
      "text/plain": [
       "10×10 SymTridiagonal{Float64,Array{Float64,1}}:\n",
       " 0.0486036   0.304188    ⋅         ⋅        …   ⋅          ⋅          ⋅      \n",
       " 0.304188    1.09612   -0.410397   ⋅            ⋅          ⋅          ⋅      \n",
       "  ⋅         -0.410397  -1.99621   2.1567        ⋅          ⋅          ⋅      \n",
       "  ⋅           ⋅         2.1567    0.821517      ⋅          ⋅          ⋅      \n",
       "  ⋅           ⋅          ⋅        3.09012       ⋅          ⋅          ⋅      \n",
       "  ⋅           ⋅          ⋅         ⋅        …   ⋅          ⋅          ⋅      \n",
       "  ⋅           ⋅          ⋅         ⋅           1.83324     ⋅          ⋅      \n",
       "  ⋅           ⋅          ⋅         ⋅           1.08348    0.359538    ⋅      \n",
       "  ⋅           ⋅          ⋅         ⋅           0.359538  -0.0347354  0.988649\n",
       "  ⋅           ⋅          ⋅         ⋅            ⋅         0.988649   0.30174 "
      ]
     },
     "execution_count": 131,
     "metadata": {},
     "output_type": "execute_result"
    }
   ],
   "source": [
    "n = 10\n",
    "T = SymTridiagonal(randn(n),randn(n-1))"
   ]
  },
  {
   "cell_type": "code",
   "execution_count": 90,
   "metadata": {},
   "outputs": [
    {
     "data": {
      "text/plain": [
       "p (generic function with 1 method)"
      ]
     },
     "execution_count": 90,
     "metadata": {},
     "output_type": "execute_result"
    }
   ],
   "source": [
    "p(k,x) = det(x*I-T[1:k,1:k])/prod(T.ev[1:k])"
   ]
  },
  {
   "cell_type": "code",
   "execution_count": 91,
   "metadata": {},
   "outputs": [
    {
     "data": {
      "text/plain": [
       "v (generic function with 1 method)"
      ]
     },
     "execution_count": 91,
     "metadata": {},
     "output_type": "execute_result"
    }
   ],
   "source": [
    "v(x) = [p(k,x) for k=0:n-1]"
   ]
  },
  {
   "cell_type": "code",
   "execution_count": 92,
   "metadata": {},
   "outputs": [
    {
     "data": {
      "text/plain": [
       "7-element Array{Float64,1}:\n",
       "     1.0               \n",
       "     0.1380504004721302\n",
       "     0.8144565384092778\n",
       "    -1.1909547866810781\n",
       "    -2.208687789673157 \n",
       "    82.1612939432976   \n",
       " -1119.0896156158901   "
      ]
     },
     "execution_count": 92,
     "metadata": {},
     "output_type": "execute_result"
    }
   ],
   "source": [
    "v(2)"
   ]
  },
  {
   "cell_type": "code",
   "execution_count": 93,
   "metadata": {},
   "outputs": [
    {
     "data": {
      "text/plain": [
       "7-element Array{Float64,1}:\n",
       "   1.1102230246251565e-16\n",
       "   6.661338147750939e-16 \n",
       "   4.440892098500626e-16 \n",
       "  -9.020562075079397e-17 \n",
       "  -7.105427357601002e-15 \n",
       "   0.0                   \n",
       " 703.9930315434331       "
      ]
     },
     "execution_count": 93,
     "metadata": {},
     "output_type": "execute_result"
    }
   ],
   "source": [
    "x = randn()\n",
    "T * v(x) - x * v(x)"
   ]
  },
  {
   "cell_type": "code",
   "execution_count": 94,
   "metadata": {},
   "outputs": [
    {
     "data": {
      "text/plain": [
       "703.9930315434333"
      ]
     },
     "execution_count": 94,
     "metadata": {},
     "output_type": "execute_result"
    }
   ],
   "source": [
    "-(-1)^n * det(T -x*I   )/prod(T.ev)"
   ]
  },
  {
   "cell_type": "markdown",
   "metadata": {},
   "source": [
    "## Let's check Gaussian quadrature"
   ]
  },
  {
   "cell_type": "code",
   "execution_count": 132,
   "metadata": {},
   "outputs": [
    {
     "data": {
      "text/plain": [
       "6-element Array{Float64,1}:\n",
       " 1.842615210464529e-5 \n",
       " 0.0011387892916529937\n",
       " 0.9368189475394665   \n",
       " 0.062013473381844264 \n",
       " 7.646567834577384e-6 \n",
       " 2.717067096871296e-6 "
      ]
     },
     "execution_count": 132,
     "metadata": {},
     "output_type": "execute_result"
    }
   ],
   "source": [
    "m = 6  ## anything less than n\n",
    "Λ,Q = eigen(Matrix(T[1:m,1:m]))\n",
    "ξ = Q[1,:].^2"
   ]
  },
  {
   "cell_type": "code",
   "execution_count": 133,
   "metadata": {},
   "outputs": [
    {
     "data": {
      "text/plain": [
       "10-element Array{Float64,1}:\n",
       " 1.8416467924115628e-5\n",
       " 3.279191118105434e-7 \n",
       " 0.0011403124751672036\n",
       " 1.8534836482105507e-6\n",
       " 0.9368164283207702   \n",
       " 9.733197434548778e-6 \n",
       " 0.06200172263494864  \n",
       " 1.2090753067403095e-6\n",
       " 7.54658306556117e-6  \n",
       " 2.4498426233135546e-6"
      ]
     },
     "execution_count": 133,
     "metadata": {},
     "output_type": "execute_result"
    }
   ],
   "source": [
    "Λfull,Q = eigen(T)\n",
    "ξfull = Q[1,:].^2"
   ]
  },
  {
   "cell_type": "code",
   "execution_count": 137,
   "metadata": {},
   "outputs": [
    {
     "data": {
      "text/plain": [
       "13×2 Array{Float64,2}:\n",
       "   1.0          1.0      \n",
       "   0.0486036    0.0486036\n",
       "   0.0948924    0.0948924\n",
       "   0.110533     0.110533 \n",
       "   0.145839     0.145839 \n",
       "   0.158014     0.158014 \n",
       "   0.309244     0.309244 \n",
       "   0.138639     0.138639 \n",
       "   1.92475      1.92475  \n",
       "  -1.02162     -1.02162  \n",
       "  26.5032      26.5032   \n",
       " -14.3568     -14.3568   \n",
       " 428.606      428.704    "
      ]
     },
     "execution_count": 137,
     "metadata": {},
     "output_type": "execute_result"
    }
   ],
   "source": [
    "## Integrate x^k for k = 0:2m\n",
    "[[Λ.^k ⋅ ξ for k=0:2m] [Λfull.^k ⋅ ξfull for k=0:2m]]"
   ]
  },
  {
   "cell_type": "markdown",
   "metadata": {},
   "source": [
    "## Notice that it matches to 2m-1"
   ]
  },
  {
   "cell_type": "code",
   "execution_count": null,
   "metadata": {},
   "outputs": [],
   "source": []
  }
 ],
 "metadata": {
  "@webio": {
   "lastCommId": null,
   "lastKernelId": null
  },
  "kernelspec": {
   "display_name": "Julia 1.2.0",
   "language": "julia",
   "name": "julia-1.2"
  },
  "language_info": {
   "file_extension": ".jl",
   "mimetype": "application/julia",
   "name": "julia",
   "version": "1.2.0"
  }
 },
 "nbformat": 4,
 "nbformat_minor": 2
}
