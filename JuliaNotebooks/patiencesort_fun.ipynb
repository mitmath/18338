{
 "cells": [
  {
   "cell_type": "code",
   "execution_count": 2,
   "metadata": {},
   "outputs": [],
   "source": [
    "using BenchmarkTools, Random"
   ]
  },
  {
   "cell_type": "markdown",
   "metadata": {},
   "source": [
    "## We have $\\texttt{randperms}$, which is a length $t$ vector of length $n$ random permutations. "
   ]
  },
  {
   "cell_type": "code",
   "execution_count": 3,
   "metadata": {},
   "outputs": [],
   "source": [
    "n = 100\n",
    "t = 100\n",
    "randperms = [randperm(n) for i in 1:t];"
   ]
  },
  {
   "cell_type": "markdown",
   "metadata": {},
   "source": [
    "## Task : Do $\\texttt{patiencesort.(randperms)}$ fast"
   ]
  },
  {
   "cell_type": "code",
   "execution_count": 4,
   "metadata": {},
   "outputs": [
    {
     "data": {
      "text/plain": [
       "patiencesort1 (generic function with 1 method)"
      ]
     },
     "execution_count": 4,
     "metadata": {},
     "output_type": "execute_result"
    }
   ],
   "source": [
    "function patiencesort1(p)\n",
    "    # p : Permutation\n",
    "    # Returns length of longest increasing subsequence\n",
    "    pile_tops = Int[]\n",
    "    for α ∈ p       \n",
    "        whichpile = 1+sum(α.>pile_tops) # first pile where α is smaller\n",
    "        if  whichpile ≤ length(pile_tops)\n",
    "            pile_tops[whichpile] = α   # put α on top of a pile  or ..\n",
    "        else\n",
    "            push!(pile_tops, α)        # create a new pile\n",
    "        end\n",
    "    end\n",
    "    return length(pile_tops)\n",
    "end"
   ]
  },
  {
   "cell_type": "code",
   "execution_count": 5,
   "metadata": {},
   "outputs": [
    {
     "name": "stdout",
     "output_type": "stream",
     "text": [
      "  639.959 μs (20304 allocations: 985.31 KiB)\n"
     ]
    }
   ],
   "source": [
    "@btime patiencesort1.(randperms);"
   ]
  },
  {
   "cell_type": "markdown",
   "metadata": {},
   "source": [
    "## $\\texttt{whichpile = 1+sum(α.>pile_tops)}$ creates unnecessary allocations. \n",
    "\n",
    "## Let us use pre-defined function $\\texttt{searchsortedfirst}$ for that"
   ]
  },
  {
   "cell_type": "code",
   "execution_count": 6,
   "metadata": {},
   "outputs": [
    {
     "data": {
      "text/plain": [
       "patiencesort2 (generic function with 1 method)"
      ]
     },
     "execution_count": 6,
     "metadata": {},
     "output_type": "execute_result"
    }
   ],
   "source": [
    "function patiencesort2(p)\n",
    "    # p : Permutation\n",
    "    # Returns length of longest increasing subsequence\n",
    "    pile_tops = Int[]\n",
    "    for α ∈ p       \n",
    "        whichpile = searchsortedfirst(pile_tops, α) # first pile where α is smaller\n",
    "        if  whichpile ≤ length(pile_tops)\n",
    "            pile_tops[whichpile] = α   # put α on top of a pile  or ..\n",
    "        else\n",
    "            push!(pile_tops, α)        # create a new pile\n",
    "        end\n",
    "    end\n",
    "    return length(pile_tops)\n",
    "end"
   ]
  },
  {
   "cell_type": "code",
   "execution_count": 7,
   "metadata": {},
   "outputs": [
    {
     "name": "stdout",
     "output_type": "stream",
     "text": [
      "  129.750 μs (304 allocations: 47.81 KiB)\n"
     ]
    }
   ],
   "source": [
    "@btime patiencesort2.(randperms);"
   ]
  },
  {
   "cell_type": "markdown",
   "metadata": {},
   "source": [
    "## How about we make our own $\\texttt{seachsortedfirst}$ ?"
   ]
  },
  {
   "cell_type": "code",
   "execution_count": 8,
   "metadata": {},
   "outputs": [
    {
     "data": {
      "text/plain": [
       "patiencesort3 (generic function with 1 method)"
      ]
     },
     "execution_count": 8,
     "metadata": {},
     "output_type": "execute_result"
    }
   ],
   "source": [
    "function my_searchsortedfirst(pt, α)\n",
    "   for i in 1:length(pt) #length(pt)\n",
    "        if α < pt[i] return i end\n",
    "    end\n",
    "    return length(pt)+1\n",
    "end    \n",
    "function patiencesort3(p)\n",
    "    # p : Permutation\n",
    "    # Returns length of longest increasing subsequence\n",
    "    pile_tops = Int[]\n",
    "    for α ∈ p       \n",
    "        whichpile = my_searchsortedfirst(pile_tops, α) # first pile where α is smaller\n",
    "        if  whichpile ≤ length(pile_tops)\n",
    "            pile_tops[whichpile] = α   # put α on top of a pile  or ..\n",
    "        else\n",
    "            push!(pile_tops, α)        # create a new pile\n",
    "        end\n",
    "    end\n",
    "    return length(pile_tops)\n",
    "end"
   ]
  },
  {
   "cell_type": "code",
   "execution_count": 9,
   "metadata": {},
   "outputs": [
    {
     "name": "stdout",
     "output_type": "stream",
     "text": [
      "  112.916 μs (304 allocations: 47.81 KiB)\n"
     ]
    }
   ],
   "source": [
    "@btime patiencesort3.(randperms);"
   ]
  },
  {
   "cell_type": "markdown",
   "metadata": {},
   "source": [
    "## Also pushing values into the vector is not efficient. Let us preallocate $\\texttt{pile_tops}$ vector. From math, let us assume that we are given that the length of the longest increasing subsequence longer than $3\\sqrt{n}$ happens with less than probability $10^{-10}$. \n",
    "\n",
    "## Since $\\texttt{length(pile_tops)}$ will not give as the real length, we would need modify $\\texttt{searchsortedfirst}$ too. "
   ]
  },
  {
   "cell_type": "code",
   "execution_count": 10,
   "metadata": {},
   "outputs": [
    {
     "data": {
      "text/plain": [
       "patiencesort4 (generic function with 1 method)"
      ]
     },
     "execution_count": 10,
     "metadata": {},
     "output_type": "execute_result"
    }
   ],
   "source": [
    "function my_searchsortedfirst(pt, α, lpt)\n",
    "    for i in 1:lpt #length(pt)\n",
    "        if α < pt[i] return i end\n",
    "    end\n",
    "    return lpt+1\n",
    "end    \n",
    "function patiencesort4(p)\n",
    "    # p : Permutation\n",
    "    # Returns length of longest increasing subsequence\n",
    "    pile_tops = zeros(Int, round(Int, 3*sqrt(length(p))))\n",
    "    lengthpt = 0\n",
    "    for α ∈ p       \n",
    "        whichpile = my_searchsortedfirst(pile_tops, α, lengthpt) # first pile where α is smaller\n",
    "        if  whichpile ≤ lengthpt\n",
    "            pile_tops[whichpile] = α   # put α on top of a pile  or ..\n",
    "        else\n",
    "            pile_tops[lengthpt+1] = α  \n",
    "            lengthpt += 1        \n",
    "        end\n",
    "    end\n",
    "    return lengthpt\n",
    "end"
   ]
  },
  {
   "cell_type": "code",
   "execution_count": 11,
   "metadata": {},
   "outputs": [
    {
     "name": "stdout",
     "output_type": "stream",
     "text": [
      "  101.208 μs (104 allocations: 30.62 KiB)\n"
     ]
    }
   ],
   "source": [
    "@btime patiencesort4.(randperms);"
   ]
  },
  {
   "cell_type": "markdown",
   "metadata": {},
   "source": [
    "### See that allocation number went down from 300 to 100"
   ]
  },
  {
   "cell_type": "markdown",
   "metadata": {},
   "source": [
    "## If you feel you are safe with indices, you can use $\\texttt{@inbounds}$."
   ]
  },
  {
   "cell_type": "code",
   "execution_count": 12,
   "metadata": {},
   "outputs": [
    {
     "data": {
      "text/plain": [
       "patiencesort5 (generic function with 1 method)"
      ]
     },
     "execution_count": 12,
     "metadata": {},
     "output_type": "execute_result"
    }
   ],
   "source": [
    "function my_searchsortedfirst(pt, α, lpt)\n",
    "    @inbounds for i in 1:lpt #length(pt)\n",
    "         if α < pt[i] return i end\n",
    "    end\n",
    "    return lpt+1\n",
    "end    \n",
    "function patiencesort5(p)\n",
    "    # p : Permutation\n",
    "    # Returns length of longest increasing subsequence\n",
    "    pile_tops = zeros(Int, round(Int, 3*sqrt(length(p))))\n",
    "    lengthpt = 0\n",
    "    @inbounds for α ∈ p       \n",
    "        whichpile = my_searchsortedfirst(pile_tops, α, lengthpt) # first pile where α is smaller\n",
    "        if  whichpile ≤ lengthpt\n",
    "            pile_tops[whichpile] = α   # put α on top of a pile  or ..\n",
    "        else\n",
    "            pile_tops[lengthpt+1] = α  \n",
    "            lengthpt += 1        \n",
    "        end\n",
    "    end\n",
    "    return lengthpt\n",
    "end"
   ]
  },
  {
   "cell_type": "code",
   "execution_count": 13,
   "metadata": {},
   "outputs": [
    {
     "name": "stdout",
     "output_type": "stream",
     "text": [
      "  86.542 μs (104 allocations: 30.62 KiB)\n"
     ]
    }
   ],
   "source": [
    "@btime patiencesort5.(randperms);"
   ]
  },
  {
   "cell_type": "markdown",
   "metadata": {},
   "source": [
    "# From here you can even add some parallelism, @threads, pmap, GPU, ..."
   ]
  }
 ],
 "metadata": {
  "kernelspec": {
   "display_name": "Julia 1.7.3",
   "language": "julia",
   "name": "julia-1.7"
  },
  "language_info": {
   "file_extension": ".jl",
   "mimetype": "application/julia",
   "name": "julia",
   "version": "1.7.3"
  }
 },
 "nbformat": 4,
 "nbformat_minor": 4
}
