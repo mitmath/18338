{
 "cells": [
  {
   "cell_type": "code",
   "execution_count": 1,
   "metadata": {},
   "outputs": [],
   "source": [
    "using LinearAlgebra"
   ]
  },
  {
   "cell_type": "code",
   "execution_count": 2,
   "metadata": {},
   "outputs": [],
   "source": [
    "using Plots"
   ]
  },
  {
   "cell_type": "code",
   "execution_count": 5,
   "metadata": {},
   "outputs": [],
   "source": [
    "sym(A)=Hermitian(A+A')/sqrt(8)\n",
    "n=80\n",
    "s=1000\n",
    "h=(0:10*s)/s\n",
    "G=[sym(randn(n,n)+im*randn(n,n)) for i=h]/√(s)\n",
    "G[1]*=0;\n",
    "G=cumsum(G)\n",
    "#G-=[G[end]*i for i=h]\n",
    "e=map(eigmax,G)\n",
    "plot()\n",
    "for j=1:n  plot!(h,[e[i]/sqrt(i/s) for i=1:10*s+1])  end"
   ]
  },
  {
   "cell_type": "code",
   "execution_count": null,
   "metadata": {},
   "outputs": [],
   "source": [
    "plot!([0,10],[sqrt(2n),sqrt(2n)])\n",
    "plot!(legend=false)   # P(purple curve (probably normalized) at time s1 < λ1 ) and at time s2 <λ2 is the extended airy process "
   ]
  },
  {
   "cell_type": "code",
   "execution_count": null,
   "metadata": {},
   "outputs": [],
   "source": []
  }
 ],
 "metadata": {
  "kernelspec": {
   "display_name": "Julia 1.7.0",
   "language": "julia",
   "name": "julia-1.7"
  },
  "language_info": {
   "file_extension": ".jl",
   "mimetype": "application/julia",
   "name": "julia",
   "version": "1.7.0"
  }
 },
 "nbformat": 4,
 "nbformat_minor": 2
}
