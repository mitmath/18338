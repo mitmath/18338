{
 "cells": [
  {
   "cell_type": "code",
   "execution_count": 2,
   "metadata": {},
   "outputs": [],
   "source": [
    "using LinearAlgebra, Combinatorics, StatsBase\n",
    "using StaticArrays, Base.Threads, Random"
   ]
  },
  {
   "cell_type": "code",
   "execution_count": 18,
   "metadata": {},
   "outputs": [
    {
     "ename": "LoadError",
     "evalue": "syntax: \"function\" at In[18]:23 expected \"end\", got \"else\"",
     "output_type": "error",
     "traceback": [
      "syntax: \"function\" at In[18]:23 expected \"end\", got \"else\"",
      "",
      "Stacktrace:",
      " [1] top-level scope at In[18]:26",
      " [2] include_string(::Function, ::Module, ::String, ::String) at ./loading.jl:1091"
     ]
    }
   ],
   "source": [
    "using LinearAlgebra, Combinatorics, StatsBase\n",
    "using StaticArrays, Base.Threads, Random\n",
    "# 1. Code has many allocations -- potentially  bottleneck\n",
    "#    5x speedup by using StaticArrays for small sizes\n",
    "\n",
    "function __lis(::Val{k}) where k\n",
    "    A = @SArray randn(k,k)\n",
    "    B = @SArray randn(k,k)\n",
    "    U, = qr(A + im* B) # random jxj unitary matrix with Haar measure\n",
    "  # vec = map(_ -> exp(2*π*im*rand()), @SArray zeros(k))\n",
    "       vec =  2*π*im* @SArray rand(k)\n",
    "       U *= Diagonal(vec)\n",
    "      #   U *= [exp(2*π*im*rand()) for i=1:n]\n",
    "    \n",
    "    v = (abs(tr(U)))^(2k)\n",
    "end\n",
    "\n",
    "function __lis(k::Int)\n",
    "    U, = qr(randn(k,k)+im*randn(k,k)) # random jxj unitary matrix with Haar measure\n",
    "    U *= Diagonal([exp(2*π*im*rand()) for i = 1:k])\n",
    "    v = (abs(tr(U)))^(2k)\n",
    "end\n",
    "function lis(k)\n",
    "    return false # if k <= 8 # bumping this up will increase compile time\n",
    "        __lis(Val(k))\n",
    "    else\n",
    "        __lis(k)\n",
    "    end\n",
    "end\n",
    "# 2. Two levels of parallelism\n",
    "#   a. `1:k` \n",
    "#     - Easy to exploit\n",
    "#     - no slow down or races from just adding @threads\n",
    "#     - at most `k` speedup\n",
    "#     - work is not balanced\n",
    "#     - use `@spawn`\n",
    "#   b. `1:t`\n",
    "#     - harder to exploit -- reductions\n",
    "function lis_mc(k,t=100_000)\n",
    "    # monte carlo simulation\n",
    "    # k is the permutation size\n",
    "    c = zeros(k)\n",
    "    @sync for j in 1:k\n",
    "        Threads.@spawn begin \n",
    "            v = 0.0\n",
    "            for _ in 1:t\n",
    "                v += lis($j)\n",
    "            end\n",
    "            c[j] = v/t\n",
    "        end\n",
    "    end\n",
    "    return c\n",
    "end"
   ]
  },
  {
   "cell_type": "code",
   "execution_count": 3,
   "metadata": {},
   "outputs": [
    {
     "data": {
      "text/plain": [
       "patiencesort (generic function with 1 method)"
      ]
     },
     "execution_count": 3,
     "metadata": {},
     "output_type": "execute_result"
    }
   ],
   "source": [
    "function patiencesort(p)\n",
    "    # p : Permutation\n",
    "    # Returns length of longest increasing subsequence\n",
    "    pile_tops = Int[]\n",
    "    for α ∈ p       \n",
    " \n",
    "      \n",
    "        whichpile = searchsortedfirst( pile_tops, α, lt = <) # first pile where α is smaller\n",
    "     \n",
    "        \n",
    "        if whichpile ≤ length(pile_tops)\n",
    "            pile_tops[whichpile] = α   # put α on top of a pile  or ..\n",
    "        else\n",
    "            push!(pile_tops, α)        # create a new pile\n",
    "        end\n",
    "        \n",
    "        \n",
    "    end\n",
    "    return length(pile_tops)\n",
    "end"
   ]
  },
  {
   "cell_type": "code",
   "execution_count": 4,
   "metadata": {},
   "outputs": [
    {
     "data": {
      "text/plain": [
       "lis_mc (generic function with 2 methods)"
      ]
     },
     "execution_count": 4,
     "metadata": {},
     "output_type": "execute_result"
    }
   ],
   "source": [
    "using LinearAlgebra, Combinatorics, StatsBase\n",
    "using StaticArrays, Base.Threads\n",
    "# 1. Code has many allocations -- potentially  bottleneck\n",
    "#    5x speedup by using StaticArrays for small sizes\n",
    "function __lis(::Val{j},k) where j\n",
    "    A = @SArray randn(j, j)\n",
    "    B = @SArray randn(j, j)\n",
    "    U, = qr(A+im * B) # random jxj unitary matrix with Haar measure\n",
    "    vec = map(_ -> exp(2*π*im*rand()), @SArray zeros(j))\n",
    "    U *= Diagonal(vec)\n",
    "    v = (abs(tr(U)))^(2k)\n",
    "end\n",
    "for k in 1:8\n",
    "    precompile(__lis, (Val(k),))\n",
    "end\n",
    "function __lis(j::Int, k)\n",
    "    U, = qr(randn(j,j)+im*randn(j,j)) # random jxj unitary matrix with Haar measure\n",
    "    U *= Diagonal([exp(2*π*im*rand()) for i = 1:j])\n",
    "    v = (abs(tr(U)))^(2k)\n",
    "end\n",
    "function lis(j, k)\n",
    "    return if k <= 8 # bumping this up will increase compile time\n",
    "        __lis(Val(j), k)\n",
    "    else\n",
    "        __lis(j, k)\n",
    "    end\n",
    "end\n",
    "# 2. Two levels of parallelism\n",
    "#   a. `1:k` \n",
    "#     - Easy to exploit\n",
    "#     - no slow down or races from just adding @threads\n",
    "#     - at most `k` speedup\n",
    "#     - work is not balanced\n",
    "#     - use `@spawn`\n",
    "#   b. `1:t`\n",
    "#     - harder to exploit -- reductions\n",
    "#     - Can't use `@threads`\n",
    "function lis_mc(k,t=100_000)\n",
    "    # monte carlo simulation\n",
    "    # k is the permutation size\n",
    "    c = zeros(k)\n",
    "    @sync for j in 1:k\n",
    "        Threads.@spawn begin\n",
    "            v = 0\n",
    "            for _ in 1:t\n",
    "                v += lis($j, k)\n",
    "            end\n",
    "            c[j] = sum(v)/t\n",
    "        end\n",
    "    end\n",
    "    return c\n",
    "end"
   ]
  },
  {
   "cell_type": "code",
   "execution_count": 5,
   "metadata": {},
   "outputs": [
    {
     "data": {
      "text/plain": [
       "lis_theory (generic function with 1 method)"
      ]
     },
     "execution_count": 5,
     "metadata": {},
     "output_type": "execute_result"
    }
   ],
   "source": [
    "function lis_theory(k)\n",
    "    # exactly counts permutations with lis ≤ j for j=1,2,...,k\n",
    "    lis = [patiencesort(π) for π ∈ permutations(1:k)]\n",
    "    [sum(lis.≤j) for j=1:k]\n",
    "end"
   ]
  },
  {
   "cell_type": "code",
   "execution_count": 6,
   "metadata": {},
   "outputs": [
    {
     "data": {
      "text/plain": [
       "9-element Array{Int64,1}:\n",
       " 7\n",
       " 6\n",
       " 5\n",
       " 1\n",
       " 4\n",
       " 3\n",
       " 9\n",
       " 8\n",
       " 2"
      ]
     },
     "execution_count": 6,
     "metadata": {},
     "output_type": "execute_result"
    }
   ],
   "source": [
    "p = randperm(9)"
   ]
  },
  {
   "cell_type": "code",
   "execution_count": 13,
   "metadata": {},
   "outputs": [
    {
     "name": "stdout",
     "output_type": "stream",
     "text": [
      "  6.584380 seconds (16.00 M allocations: 244.148 MiB, 0.26% gc time)\n"
     ]
    },
    {
     "data": {
      "text/plain": [
       "8-element Array{Float64,1}:\n",
       "     1.0\n",
       "  1425.788008182997\n",
       " 16302.895494579834\n",
       " 32487.781872141215\n",
       " 40811.87007708943\n",
       " 37642.63162654067\n",
       " 39456.89771353588\n",
       " 41072.227310259885"
      ]
     },
     "execution_count": 13,
     "metadata": {},
     "output_type": "execute_result"
    }
   ],
   "source": [
    "@time lis_mc(8 ,1000_000) # 4 threads"
   ]
  },
  {
   "cell_type": "code",
   "execution_count": 11,
   "metadata": {},
   "outputs": [
    {
     "data": {
      "text/plain": [
       "8-element Array{Int64,1}:\n",
       "     1\n",
       "  1430\n",
       " 15767\n",
       " 33324\n",
       " 39429\n",
       " 40270\n",
       " 40319\n",
       " 40320"
      ]
     },
     "execution_count": 11,
     "metadata": {},
     "output_type": "execute_result"
    }
   ],
   "source": [
    "lis_theory(8)"
   ]
  },
  {
   "cell_type": "code",
   "execution_count": 8,
   "metadata": {},
   "outputs": [
    {
     "data": {
      "text/plain": [
       "4×2 Array{Float64,2}:\n",
       "  1.0      1.0\n",
       " 14.0198  14.0\n",
       " 23.0154  23.0\n",
       " 23.9907  24.0"
      ]
     },
     "execution_count": 8,
     "metadata": {},
     "output_type": "execute_result"
    }
   ],
   "source": [
    "[lis_mc(4,1_000_000) lis_theory(4)]"
   ]
  },
  {
   "cell_type": "code",
   "execution_count": null,
   "metadata": {},
   "outputs": [],
   "source": []
  }
 ],
 "metadata": {
  "@webio": {
   "lastCommId": null,
   "lastKernelId": null
  },
  "kernelspec": {
   "display_name": "Julia (4 threads) 1.5.2",
   "language": "julia",
   "name": "julia-(4-threads)-1.5"
  },
  "language_info": {
   "file_extension": ".jl",
   "mimetype": "application/julia",
   "name": "julia",
   "version": "1.5.2"
  }
 },
 "nbformat": 4,
 "nbformat_minor": 4
}
