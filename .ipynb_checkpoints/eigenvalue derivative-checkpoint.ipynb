{
 "cells": [
  {
   "cell_type": "markdown",
   "metadata": {},
   "source": [
    "The jacobian of the symmetric matrix eigendecomposition is the vandermonde expression"
   ]
  },
  {
   "cell_type": "code",
   "execution_count": 190,
   "metadata": {},
   "outputs": [],
   "source": [
    "using LinearAlgebra, GenericLinearAlgebra, ForwardDiff"
   ]
  },
  {
   "cell_type": "markdown",
   "metadata": {},
   "source": [
    "$$ dA = \\prod_{i <j} (\\lambda_i - \\lambda_j)(d\\Lambda)^\\wedge(Q'dQ)^\\wedge $$"
   ]
  },
  {
   "cell_type": "code",
   "execution_count": 191,
   "metadata": {},
   "outputs": [],
   "source": [
    "n = 4\n",
    "A = randn(n,n);\n",
    "#A += A'  "
   ]
  },
  {
   "cell_type": "code",
   "execution_count": 192,
   "metadata": {},
   "outputs": [],
   "source": [
    "upper = [i≤j for i=1:n, j=1:n][:]\n",
    "Λ, Q =  eigen(Hermitian(A))\n",
    "dΛ, dQ = (ForwardDiff.jacobian(t -> _eig(Hermitian(t)), A) for _eig=(eigvals, eigvecs))\n",
    "dΛ, dQ = dΛ[:,upper], dQ[:,upper];"
   ]
  },
  {
   "cell_type": "code",
   "execution_count": 193,
   "metadata": {},
   "outputs": [],
   "source": [
    "subupper = [i<j for i=1:n, j=1:n][:]\n",
    "dQ = (kron(Matrix(I, size(A)),Q')*dQ)[subupper,:];  #compute Q'*dQ for every vec'd dQ"
   ]
  },
  {
   "cell_type": "code",
   "execution_count": 194,
   "metadata": {},
   "outputs": [
    {
     "data": {
      "text/plain": [
       "(0.0007641193180814094, 0.0007641193180814138)"
      ]
     },
     "execution_count": 194,
     "metadata": {},
     "output_type": "execute_result"
    }
   ],
   "source": [
    "# Experiment vs Theory\n",
    "det([dΛ;dQ]),1/abs(prod([Λ[i]-Λ[j] for i=1:n, j=1:n if i<j]))"
   ]
  },
  {
   "cell_type": "code",
   "execution_count": null,
   "metadata": {},
   "outputs": [],
   "source": []
  }
 ],
 "metadata": {
  "@webio": {
   "lastCommId": null,
   "lastKernelId": null
  },
  "kernelspec": {
   "display_name": "Julia 1.5.2",
   "language": "julia",
   "name": "julia-1.5"
  },
  "language_info": {
   "file_extension": ".jl",
   "mimetype": "application/julia",
   "name": "julia",
   "version": "1.5.2"
  }
 },
 "nbformat": 4,
 "nbformat_minor": 4
}
